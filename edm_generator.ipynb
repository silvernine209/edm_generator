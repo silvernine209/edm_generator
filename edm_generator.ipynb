{
 "cells": [
  {
   "cell_type": "markdown",
   "metadata": {},
   "source": [
    "# 1 Imports"
   ]
  },
  {
   "cell_type": "code",
   "execution_count": 20,
   "metadata": {
    "ExecuteTime": {
     "end_time": "2019-09-18T05:51:05.578562Z",
     "start_time": "2019-09-18T05:51:05.562098Z"
    },
    "scrolled": true
   },
   "outputs": [],
   "source": [
    "# Tools\n",
    "import os\n",
    "import pandas as pd\n",
    "import numpy as np\n",
    "from collections import defaultdict\n",
    "from tqdm.auto import trange\n",
    "import glob\n",
    "import pickle\n",
    "import gc\n",
    "\n",
    "#Visualization\n",
    "import seaborn as sns\n",
    "import matplotlib.pyplot as plt\n",
    "\n",
    "# Music Related\n",
    "import IPython.display as ipd\n",
    "import pypianoroll\n",
    "from music21 import converter, instrument, note, chord,stream\n",
    "\n",
    "# Modeling\n",
    "from keras.layers import LSTM,Dropout,Dense,TimeDistributed,Conv1D,MaxPooling1D,Flatten,GlobalAveragePooling1D,AveragePooling1D,GlobalMaxPooling1D,BatchNormalization,Activation,Bidirectional\n",
    "from keras.callbacks import EarlyStopping, ModelCheckpoint\n",
    "from keras.models import Sequential\n",
    "from keras.utils.np_utils import to_categorical\n",
    "from keras_radam import RAdam\n",
    "from sklearn.datasets import california_housing\n",
    "from sklearn.datasets import load_breast_cancer\n",
    "from sklearn.metrics import accuracy_score\n",
    "import xgboost as xgb\n",
    "from sklearn.preprocessing import MultiLabelBinarizer,LabelEncoder, StandardScaler\n",
    "from sklearn.model_selection import train_test_split,RandomizedSearchCV, KFold,cross_val_score,StratifiedKFold\n",
    "from lightgbm import LGBMClassifier\n",
    "from sklearn.metrics import confusion_matrix\n",
    "from sklearn import metrics\n",
    "from keras.wrappers.scikit_learn import KerasClassifier\n",
    "from keras_radam import RAdam\n",
    "\n",
    "# Custom Functions\n",
    "import sys\n",
    "sys.path.append('./code')\n",
    "from helper import sample,plot_confusion_matrix,various_scores, plot_song_composition, plot_genre_composition, plot_song_progression, plot_genre_progression\n",
    "from play_midi import play_music1, play_music"
   ]
  },
  {
   "cell_type": "markdown",
   "metadata": {},
   "source": [
    "# 2 Processing Midi Files"
   ]
  },
  {
   "cell_type": "markdown",
   "metadata": {},
   "source": [
    "## 2.1 Load all Midi Files"
   ]
  },
  {
   "cell_type": "code",
   "execution_count": 12,
   "metadata": {},
   "outputs": [],
   "source": [
    "import py_midicsv\n",
    "import os\n",
    "\n",
    "# Load file names\n",
    "filenames = os.listdir('data/midi')\n",
    "if '.DS_Store' in filenames:\n",
    "    filenames.remove('.DS_Store')\n",
    "\n",
    "# Remove Unnecessary Strings\n",
    "filenames_clean = filenames.copy()\n",
    "for ix,file in enumerate(filenames_clean):\n",
    "    filenames_clean[ix] = filenames_clean[ix].replace('  (midi by Carlo Prato) (www.cprato.com)','')\n",
    "    filenames_clean[ix] = filenames_clean[ix].replace(' (midi by Carlo Prato) (www.cprato.com)','')\n",
    "\n",
    "# Generate Pandas Dataframe with filenames and CSV version of MIDI files\n",
    "csvs = []\n",
    "music_type = []\n",
    "for filename in filenames:\n",
    "    csvs.append(py_midicsv.midi_to_csv('data/midi/'+filename))\n",
    "df_edm = pd.DataFrame({'filenames':filenames,'filenames_clean':filenames_clean,'csvs':csvs})\n",
    "df_edm['filenames_clean2'] = df_edm['filenames_clean'].copy()\n",
    "df_edm['filenames_clean2'] = df_edm['filenames_clean2'].apply(lambda x:x.upper())\n",
    "df_edm.sort_values(by=['filenames_clean2'],inplace=True)\n",
    "df_edm.drop(columns=['filenames_clean2'],inplace=True)\n",
    "df_edm.reset_index(drop=True,inplace=True)"
   ]
  },
  {
   "cell_type": "markdown",
   "metadata": {},
   "source": [
    "## 2.2 Merge Multiple Melodies into One Melody for Each Song"
   ]
  },
  {
   "cell_type": "code",
   "execution_count": null,
   "metadata": {},
   "outputs": [],
   "source": [
    "#!pip install pypianoroll\n",
    "import pypianoroll\n",
    "\n",
    "# Instrument names for look up\n",
    "melody_name = ['Bassmelody','Chords','Lead','MIDI Out','Pad','Piano','Saw Chords','Second Lead','Strings',\n",
    "'Voice','Voice Synth']\n",
    "bass_name = ['Basses','basses','Bass','bass']\n",
    "drum_name = ['Drums','drums','Drum','drum']\n",
    "\n",
    "# Merge all tracks and Combine all songs\n",
    "#melody,bass,drum = [[0]*128],[[0]*128],[[0]*128]\n",
    "melody,bass,drum = [],[],[]\n",
    "\n",
    "for ix,song in enumerate(df_edm['filenames'][:]): # Switch multiple songs\n",
    "#for ix,song in enumerate([df_edm['filenames'].iloc[18]]): # Play a single song\n",
    "    midi_loaded = pypianoroll.Multitrack('data/midi/'+song)\n",
    "    \n",
    "    melody_holder = np.zeros(midi_loaded.tracks[0].pianoroll.shape)\n",
    "    bass_holder   = np.zeros(midi_loaded.tracks[0].pianoroll.shape)\n",
    "    drum_holder   = np.zeros(midi_loaded.tracks[0].pianoroll.shape)\n",
    "\n",
    "    for jx,track in enumerate(midi_loaded.tracks):\n",
    "        if track.name in bass_name:\n",
    "            bass_holder+=track.pianoroll\n",
    "        elif track.name in drum_name:\n",
    "            drum_holder+=track.pianoroll    \n",
    "        else:\n",
    "            melody_holder+=track.pianoroll\n",
    "    melody.append(melody_holder[:-120])\n",
    "    bass.append(bass_holder[:-120])\n",
    "    drum.append(drum_holder[:-120])"
   ]
  },
  {
   "cell_type": "markdown",
   "metadata": {},
   "source": [
    "## 2.3 Align Songs to have Same Mean Note as the First Song"
   ]
  },
  {
   "cell_type": "code",
   "execution_count": 1210,
   "metadata": {
    "ExecuteTime": {
     "end_time": "2019-09-12T01:40:08.835489Z",
     "start_time": "2019-09-12T01:39:46.501357Z"
    }
   },
   "outputs": [
    {
     "data": {
      "application/vnd.jupyter.widget-view+json": {
       "model_id": "7fd8d8d88fa44c80991b64e620c2dd94",
       "version_major": 2,
       "version_minor": 0
      },
      "text/plain": [
       "HBox(children=(IntProgress(value=0, max=37), HTML(value='')))"
      ]
     },
     "metadata": {},
     "output_type": "display_data"
    }
   ],
   "source": [
    "# Let first song's mean note to be note to adjust other songs to. For melody and bass only.\n",
    "melody_keyss = []\n",
    "for seq in melody[0]:\n",
    "    melody_keyss += [ ix for (ix,x) in enumerate(seq) if x >= 10 ]\n",
    "mean_note = int(np.mean(melody_keyss))\n",
    "\n",
    "# Adjust rest of song's keys to be centered around first song's mean key. For melody and bass only.\n",
    "for ix,song in enumerate(melody):\n",
    "    melody_keyss = []\n",
    "    for seq in song:\n",
    "        melody_keyss += [ ix for (ix,x) in enumerate(seq) if x >= 10 ]\n",
    "    current_song_mean_note = int(np.mean(melody_keyss))   \n",
    "    melody[ix] = np.roll(melody[ix],mean_note-current_song_mean_note)\n",
    "    bass[ix] = np.roll(bass[ix],mean_note-current_song_mean_note)\n",
    "    \n",
    "# Concat all individual files\n",
    "melody_compiled,bass_compiled,drum_compiled = melody[0],bass[0],drum[0]\n",
    "for i in trange(1,len(melody)):\n",
    "    melody_compiled = np.concatenate((melody_compiled,melody[i][2:]))\n",
    "    bass_compiled = np.concatenate((bass_compiled,bass[i][2:]))\n",
    "    drum_compiled = np.concatenate((drum_compiled,drum[i][2:]))\n",
    "\n",
    "# Update blank midi file with compiled version\n",
    "blank_midi = pypianoroll.Multitrack('midi/blank.mid')\n",
    "blank_midi.tempo = midi_loaded.tempo/midi_loaded.tempo*120\n",
    "blank_midi.tracks[0].pianoroll = melody_compiled\n",
    "blank_midi.tracks[1].pianoroll = bass_compiled\n",
    "blank_midi.tracks[2].pianoroll = drum_compiled\n",
    "\n",
    "# Save to midi file and play\n",
    "pypianoroll.write(blank_midi,'midi/compiled_adj_with_classic.mid')\n",
    "#play_music(\"compiled_adj_with_classic.mid\")"
   ]
  },
  {
   "cell_type": "markdown",
   "metadata": {},
   "source": [
    "## 2.4 Create 6 Semitones of Compilation of Adjusted Songs"
   ]
  },
  {
   "cell_type": "code",
   "execution_count": 1211,
   "metadata": {
    "ExecuteTime": {
     "end_time": "2019-09-12T01:47:53.018757Z",
     "start_time": "2019-09-12T01:47:37.454975Z"
    }
   },
   "outputs": [
    {
     "data": {
      "application/vnd.jupyter.widget-view+json": {
       "model_id": "45b9b893178c47b697a1bd95cadf4f74",
       "version_major": 2,
       "version_minor": 0
      },
      "text/plain": [
       "HBox(children=(IntProgress(value=0, max=6), HTML(value='')))"
      ]
     },
     "metadata": {},
     "output_type": "display_data"
    }
   ],
   "source": [
    "# Create compiled midi's all 6 semitones. Trying 12 semitones with long classic music didnt work...\n",
    "blank_midi = pypianoroll.Multitrack('midi/compiled_adj_with_classic.mid')\n",
    "blank_midi.tempo = midi_loaded.tempo/midi_loaded.tempo*120\n",
    "semitone = blank_midi.tracks[0].pianoroll\n",
    "semitone_compiled = blank_midi.tracks[0].pianoroll\n",
    "semitone_list = [-3,-2,-1,1,2,3]\n",
    "for i in trange(len(semitone_list)):\n",
    "    semitone_compiled = np.concatenate((semitone_compiled,np.roll(semitone,semitone_list[i])))\n",
    "blank_midi.tracks[0].pianoroll = semitone_compiled\n",
    "blank_midi.tracks.pop(1)\n",
    "blank_midi.tracks.pop(1)\n",
    "pypianoroll.write(blank_midi,'midi/semitone_adj_with_classic.mid')\n",
    "#play_music(\"semitone.mid\")"
   ]
  },
  {
   "cell_type": "markdown",
   "metadata": {
    "ExecuteTime": {
     "end_time": "2019-09-05T18:56:20.115868Z",
     "start_time": "2019-09-05T18:56:14.931150Z"
    }
   },
   "source": [
    "# 3 Modeling"
   ]
  },
  {
   "cell_type": "markdown",
   "metadata": {},
   "source": [
    "## 3.1 Prepare  Training Data and Input for LSTM"
   ]
  },
  {
   "cell_type": "code",
   "execution_count": null,
   "metadata": {},
   "outputs": [],
   "source": [
    "# #!pip install music21\n",
    "from music21 import converter, instrument, note, chord,stream\n",
    "\n",
    "# Melody Portion\n",
    "notes = []\n",
    "for file in glob.glob(\"semitone_6_adj_with_classic.mid\"):\n",
    "    midi = converter.parse(file)\n",
    "    notes_to_parse = None\n",
    "    parts = instrument.partitionByInstrument(midi)\n",
    "    if parts: # file has instrument parts\n",
    "        notes_to_parse = parts.parts[0].recurse()\n",
    "    else: # file has notes in a flat structure\n",
    "        notes_to_parse = midi.flat.notes\n",
    "    for element in notes_to_parse:\n",
    "        if isinstance(element, note.Note):\n",
    "            notes.append(str(element.pitch))\n",
    "        elif isinstance(element, chord.Chord):\n",
    "            notes.append('.'.join(str(n) for n in element.normalOrder))\n",
    "\n",
    "# Pickle save notes\n",
    "pickle.dump( notes, open( \"notes_semitone_6_classic.pkl\", \"wb\" ) )\n",
    "# Load notes\n",
    "notes = pickle.load( open( \"notes_semitone_6_classic.pkl\", \"rb\" ) )\n",
    "\n",
    "# Just Melody\n",
    "sequence_length = 3\n",
    "n_vocab = len(list(set(notes)))\n",
    "\n",
    "# get all pitch names\n",
    "pitchnames = sorted(set(item for item in notes))\n",
    "\n",
    "# create a dictionary to map pitches to integers\n",
    "note_to_int = dict((note, number) for number, note in enumerate(pitchnames))\n",
    "network_input = []\n",
    "network_output = []\n",
    "\n",
    "# create input sequences and the corresponding outputs\n",
    "for i in range(0, len(notes) - sequence_length, 1):\n",
    "    sequence_in = notes[i:i + sequence_length]\n",
    "    sequence_out = notes[i + sequence_length]\n",
    "    network_input.append([note_to_int[char] for char in sequence_in])\n",
    "    network_output.append(note_to_int[sequence_out])\n",
    "n_patterns = len(network_input)\n",
    "\n",
    "# reshape the input into a format compatible with LSTM layers\n",
    "network_input = np.reshape(network_input, (n_patterns, sequence_length, 1))\n",
    "\n",
    "# normalize input\n",
    "network_input = network_input / float(n_vocab)\n",
    "network_output = to_categorical(network_output)\n",
    "\n"
   ]
  },
  {
   "cell_type": "markdown",
   "metadata": {},
   "source": [
    "## 3.2 Set up LSTM Architecture and Train"
   ]
  },
  {
   "cell_type": "code",
   "execution_count": null,
   "metadata": {},
   "outputs": [],
   "source": [
    "# Define and Compile LSTM Architecture\n",
    "model = Sequential()\n",
    "model.add(LSTM(\n",
    "    256,\n",
    "    input_shape=(network_input.shape[1], network_input.shape[2]),\n",
    "    return_sequences=True\n",
    "))\n",
    "model.add(Dropout(0.3))\n",
    "model.add(LSTM(512, return_sequences=True))\n",
    "model.add(Dropout(0.3))\n",
    "model.add(LSTM(256))\n",
    "model.add(Dense(256))\n",
    "model.add(Dropout(0.3))\n",
    "model.add(Dense(n_vocab))\n",
    "model.add(Activation('softmax'))\n",
    "model.compile(loss='categorical_crossentropy', optimizer='adam')\n",
    "\n",
    "filepath = \"weights_drum/100_notes_drum{epoch:02d}-{loss:.4f}-bigger.hdf5\"    \n",
    "checkpoint = ModelCheckpoint(\n",
    "    filepath, monitor='loss', \n",
    "    verbose=0,        \n",
    "    save_best_only=True,        \n",
    "    mode='min'\n",
    ")    \n",
    "callbacks_list = [checkpoint]     \n",
    "model.fit(network_input, network_output, epochs=4000, batch_size=128, callbacks=callbacks_list)"
   ]
  },
  {
   "cell_type": "markdown",
   "metadata": {},
   "source": [
    "# 4 Song Generation"
   ]
  },
  {
   "cell_type": "markdown",
   "metadata": {},
   "source": [
    "## 4.1 Load and Generate Melody"
   ]
  },
  {
   "cell_type": "markdown",
   "metadata": {},
   "source": [
    "### 4.1.1 Setup LSTM Architecture to Load Weights"
   ]
  },
  {
   "cell_type": "code",
   "execution_count": 120,
   "metadata": {
    "ExecuteTime": {
     "end_time": "2019-09-18T06:51:34.833979Z",
     "start_time": "2019-09-18T06:51:28.789591Z"
    }
   },
   "outputs": [],
   "source": [
    "from music21 import converter, instrument, note, chord,stream\n",
    "\n",
    "#Classic 6 semi\n",
    "model_weight = 'weights/classic_3steps_6semitone_adj2065-1.1360-bigger.hdf5' \n",
    "notes = pickle.load( open( \"notes_semitone_6_classic.pkl\", \"rb\" ) )\n",
    "\n",
    "sequence_length = 3\n",
    "n_vocab = len(list(set(notes)))\n",
    "# get all pitch names\n",
    "pitchnames = sorted(set(item for item in notes))\n",
    "# create a dictionary to map pitches to integers\n",
    "note_to_int = dict((note, number) for number, note in enumerate(pitchnames))\n",
    "network_input = []\n",
    "network_output = []\n",
    "# create input sequences and the corresponding outputs\n",
    "for i in range(0, len(notes) - sequence_length, 1):\n",
    "    sequence_in = notes[i:i + sequence_length]\n",
    "    sequence_out = notes[i + sequence_length]\n",
    "    network_input.append([note_to_int[char] for char in sequence_in])\n",
    "    network_output.append(note_to_int[sequence_out])\n",
    "n_patterns = len(network_input)\n",
    "# reshape the input into a format compatible with LSTM layers\n",
    "network_input = np.reshape(network_input, (n_patterns, sequence_length, 1))\n",
    "# normalize input\n",
    "network_input = network_input / float(n_vocab)\n",
    "network_output = to_categorical(network_output)\n",
    "\n",
    "# 12 semitone\n",
    "model = Sequential()\n",
    "model.add(LSTM(\n",
    "    256,\n",
    "    input_shape=(network_input.shape[1], network_input.shape[2]),\n",
    "    return_sequences=True\n",
    "))\n",
    "model.add(Dropout(0.3))\n",
    "model.add(LSTM(512, return_sequences=True))\n",
    "model.add(Dropout(0.3))\n",
    "model.add(LSTM(256))\n",
    "model.add(Dense(256))\n",
    "model.add(Dropout(0.3))\n",
    "model.add(Dense(n_vocab))\n",
    "model.add(Activation('softmax'))\n",
    "model.compile(loss='categorical_crossentropy', optimizer='adam')\n",
    "\n",
    "# Load the weights\n",
    "model.load_weights(model_weight)"
   ]
  },
  {
   "cell_type": "markdown",
   "metadata": {},
   "source": [
    "### 4.1.2 Generate Melody"
   ]
  },
  {
   "cell_type": "code",
   "execution_count": 27,
   "metadata": {
    "ExecuteTime": {
     "end_time": "2019-09-18T06:53:11.094393Z",
     "start_time": "2019-09-18T06:53:06.131414Z"
    },
    "scrolled": true
   },
   "outputs": [],
   "source": [
    "# Generate new song\n",
    "start = np.random.randint(0, len(network_input)-1)\n",
    "int_to_note = dict((number, note) for number, note in enumerate(pitchnames))\n",
    "pattern = list(network_input[start])\n",
    "prediction_output = []\n",
    "\n",
    "# generate 300 notes\n",
    "#temperatures = np.arange(1.1,1.4,0.1) #Worked well with 3 ntoes np.arange(1,1.3,0.1)\n",
    "#temperatures = np.arange(1.3,1.8,0.1)  #worked well with 7 notes\n",
    "#temperatures = [0.9,1.1,1.3,1.8,2]\n",
    "#temperatures = [x-0.07  for x in temperatures]\n",
    "temperatures = [1.4]\n",
    "for note_index in trange(300):\n",
    "    prediction_input = np.reshape(pattern, (1, len(pattern), 1))\n",
    "    prediction_input = prediction_input / float(n_vocab)\n",
    "    prediction = model.predict(prediction_input, verbose=0)\n",
    "    #index = np.argmax(prediction)\n",
    "    #temperature = np.random.choice(temperatures,p=[0.7,0.15,0.1,0.04,0.01])\n",
    "    index = sample(prediction[0],temperatures)\n",
    "    result = int_to_note[index]\n",
    "    prediction_output.append(result)\n",
    "    pattern.append(index)\n",
    "    pattern = pattern[1:len(pattern)]\n",
    "\n",
    "offset = 0\n",
    "output_notes = []\n",
    "# create note and chord objects based on the values generated by the model\n",
    "for pattern in prediction_output:\n",
    "    # pattern is a chord\n",
    "    if ('.' in pattern) or pattern.isdigit():\n",
    "        notes_in_chord = pattern.split('.')\n",
    "        notes = []\n",
    "        for current_note in notes_in_chord:\n",
    "            new_note = note.Note(int(current_note))\n",
    "            new_note.storedInstrument = instrument.Piano()\n",
    "            notes.append(new_note)\n",
    "        new_chord = chord.Chord(notes)\n",
    "        new_chord.offset = offset\n",
    "        output_notes.append(new_chord)\n",
    "    # pattern is a note\n",
    "    else:\n",
    "        new_note = note.Note(pattern)\n",
    "        new_note.offset = offset\n",
    "        new_note.storedInstrument = instrument.Piano()\n",
    "        output_notes.append(new_note)\n",
    "    # increase offset each iteration so that notes do not stack\n",
    "    offsets = [0.4,0.8]\n",
    "    offset += np.random.choice(offsets,p=[0.96,0.04])\n",
    "# Save midi file\n",
    "midi_stream = stream.Stream(output_notes)\n",
    "midi_stream.write('midi', fp='midi/melody_output.mid')\n",
    "\n",
    "# # Listen to Generated Melody\n",
    "# play_music('midi/melody_output.mid')"
   ]
  },
  {
   "cell_type": "markdown",
   "metadata": {},
   "source": [
    "## 4.2 Load and Generate Drum"
   ]
  },
  {
   "cell_type": "markdown",
   "metadata": {},
   "source": [
    "### 4.2.1 Setup LSTM Architecture to Load Weights"
   ]
  },
  {
   "cell_type": "code",
   "execution_count": 661,
   "metadata": {
    "ExecuteTime": {
     "end_time": "2019-09-16T17:07:35.698676Z",
     "start_time": "2019-09-16T17:07:31.371583Z"
    }
   },
   "outputs": [],
   "source": [
    "from music21 import converter, instrument, note, chord,stream\n",
    "model_weight = 'weights/15_notes_drum2884-0.0759-bigger.hdf5'\n",
    "\n",
    "notes_drum = pickle.load( open( \"weights/drum.pkl\", \"rb\" ) )\n",
    "\n",
    "sequence_length = 15\n",
    "n_vocab = len(list(set(notes_drum)))\n",
    "# get all pitch names\n",
    "pitchnames = sorted(set(item for item in notes_drum))\n",
    "# create a dictionary to map pitches to integers\n",
    "note_to_int = dict((note, number) for number, note in enumerate(pitchnames))\n",
    "network_input = []\n",
    "network_output = []\n",
    "# create input sequences and the corresponding outputs\n",
    "for i in range(0, len(notes_drum) - sequence_length, 1):\n",
    "    sequence_in = notes_drum[i:i + sequence_length]\n",
    "    sequence_out = notes_drum[i + sequence_length]\n",
    "    network_input.append([note_to_int[char] for char in sequence_in])\n",
    "    network_output.append(note_to_int[sequence_out])\n",
    "n_patterns = len(network_input)\n",
    "# reshape the input into a format compatible with LSTM layers\n",
    "network_input = np.reshape(network_input, (n_patterns, sequence_length, 1))\n",
    "# normalize input\n",
    "network_input = network_input / float(n_vocab)\n",
    "network_output = to_categorical(network_output)\n",
    "\n",
    "# 12 semitone\n",
    "model = Sequential()\n",
    "model.add(LSTM(\n",
    "    256,\n",
    "    input_shape=(network_input.shape[1], network_input.shape[2]),\n",
    "    return_sequences=True\n",
    "))\n",
    "model.add(Dropout(0.3))\n",
    "model.add(LSTM(512, return_sequences=True))\n",
    "model.add(Dropout(0.3))\n",
    "model.add(LSTM(256))\n",
    "model.add(Dense(256))\n",
    "model.add(Dropout(0.3))\n",
    "model.add(Dense(n_vocab))\n",
    "model.add(Activation('softmax'))\n",
    "model.compile(loss='categorical_crossentropy', optimizer='adam')\n",
    "\n",
    "# Load the weights\n",
    "model.load_weights(model_weight)"
   ]
  },
  {
   "cell_type": "markdown",
   "metadata": {},
   "source": [
    "### 4.2.2 Generate Drums (Percussions)"
   ]
  },
  {
   "cell_type": "code",
   "execution_count": 28,
   "metadata": {
    "ExecuteTime": {
     "end_time": "2019-09-16T17:08:00.556562Z",
     "start_time": "2019-09-16T17:07:37.406801Z"
    }
   },
   "outputs": [],
   "source": [
    "# Generate new song\n",
    "start = np.random.randint(0, len(network_input)-1)\n",
    "int_to_note = dict((number, note) for number, note in enumerate(pitchnames))\n",
    "pattern = list(network_input[start])\n",
    "prediction_output = []\n",
    "# generate 300 notes\n",
    "temperatures = [0.4,0.8,1.1,1.5,2]\n",
    "for note_index in trange(600):\n",
    "    prediction_input = np.reshape(pattern, (1, len(pattern), 1))\n",
    "    prediction_input = prediction_input / float(n_vocab)\n",
    "    prediction = model.predict(prediction_input, verbose=0)\n",
    "    #index = np.argmax(prediction)\n",
    "    index = sample(prediction[0],np.random.choice(temperatures,p=[0.6,0.15,0.11,0.09,0.05]))\n",
    "    result = int_to_note[index]\n",
    "    prediction_output.append(result)\n",
    "    pattern.append(index)\n",
    "    pattern = pattern[1:len(pattern)]\n",
    "    \n",
    "offset = 0\n",
    "output_notes = []\n",
    "# create note and chord objects based on the values generated by the model\n",
    "for pattern in prediction_output:\n",
    "    # pattern is a chord\n",
    "    if ('.' in pattern) or pattern.isdigit():\n",
    "        notes_in_chord = pattern.split('.')\n",
    "        notes = []\n",
    "        for current_note in notes_in_chord:\n",
    "            new_note = note.Note(int(current_note))\n",
    "            new_note.storedInstrument = instrument.BassDrum()\n",
    "            notes.append(new_note)\n",
    "        new_chord = chord.Chord(notes)\n",
    "        new_chord.offset = offset\n",
    "        output_notes.append(new_chord)\n",
    "    # pattern is a note\n",
    "    else:\n",
    "        new_note = note.Note(pattern)\n",
    "        new_note.offset = offset\n",
    "        new_note.storedInstrument = instrument.BassDrum()\n",
    "        output_notes.append(new_note)\n",
    "    # increase offset each iteration so that notes do not stack\n",
    "    offsets = [0.8,0.4]\n",
    "    offset += np.random.choice(offsets,p=[0.7,0.3])\n",
    "# Save midi file and Assign it as percussion in Midi file format\n",
    "midi_stream = stream.Stream(output_notes)\n",
    "midi_stream.write('midi', fp='midi/drum_output.mid')\n",
    "test_midi = pypianoroll.Multitrack('midi/drum_output.mid')\n",
    "drum_midi = pypianoroll.Multitrack('midi/blank.mid')\n",
    "drum_midi.tempo = drum_midi.tempo/drum_midi.tempo*120\n",
    "drum_midi.tracks[2].pianoroll = np.roll(test_midi.tracks[0].pianoroll,0)\n",
    "drum_midi.tracks.pop(0)\n",
    "drum_midi.tracks.pop(0)\n",
    "pypianoroll.write(drum_midi,'midi/drum_output.mid')\n",
    "\n",
    "# #Play generated Drums\n",
    "# play_music('midi/drum_output.mid')"
   ]
  },
  {
   "cell_type": "markdown",
   "metadata": {},
   "source": [
    "## 4.3 Combine Melody & Drum & Bass - 100 seq = 2.2 sec"
   ]
  },
  {
   "cell_type": "code",
   "execution_count": 29,
   "metadata": {
    "ExecuteTime": {
     "end_time": "2019-09-18T06:55:34.006005Z",
     "start_time": "2019-09-18T06:55:22.991818Z"
    }
   },
   "outputs": [],
   "source": [
    "# Load Generated Melody and Percussions\n",
    "melody_midi = pypianoroll.Multitrack('midi/melody_output.mid')\n",
    "drum_midi = pypianoroll.Multitrack('midi/drum_output.mid')\n",
    "\n",
    "# Load blank midi file to write melody and drum to\n",
    "blank_midi =  pypianoroll.Multitrack('midi/blank.mid')\n",
    "blank_midi.tempo = blank_midi.tempo/blank_midi.tempo*115\n",
    "blank_midi.tracks[0].pianoroll = np.roll(melody_midi.tracks[0].pianoroll[:],0)\n",
    "blank_midi.tracks[2].pianoroll = drum_midi.tracks[0].pianoroll[:len(blank_midi.tracks[0].pianoroll)]*1 #Cap drum length to melody's\n",
    "blank_midi.tracks.pop(1) #Pop bass for now. Bass portion to be added for follow up project\n",
    "\n",
    "# Save and play the music\n",
    "pypianoroll.write(blank_midi,'midi/test.mid')\n",
    "play_music('midi/test.mid')"
   ]
  },
  {
   "cell_type": "markdown",
   "metadata": {},
   "source": [
    "### 4.3.1 Play Some of Successes (Some of Cherrypicked Results)"
   ]
  },
  {
   "cell_type": "markdown",
   "metadata": {},
   "source": [
    "good programs : 108, 114?, 1, 4, 8, 11, 12, 38!, 46, 53(interesting), 62, 71,80,81, 82"
   ]
  },
  {
   "cell_type": "code",
   "execution_count": 120,
   "metadata": {
    "ExecuteTime": {
     "end_time": "2019-09-16T05:48:46.757560Z",
     "start_time": "2019-09-16T05:48:38.207254Z"
    }
   },
   "outputs": [
    {
     "name": "stdout",
     "output_type": "stream",
     "text": [
      "Music file midi/test.mid loaded!\n"
     ]
    }
   ],
   "source": [
    "# Sucess 1. Variation of Original. \n",
    "blank_midi =  pypianoroll.Multitrack('midi/success1.mid')\n",
    "blank_midi.tracks[0].pianoroll = blank_midi.tracks[0].pianoroll[110:500]\n",
    "blank_midi.tracks[1].pianoroll = blank_midi.tracks[1].pianoroll[110:500]\n",
    "blank_midi.tracks[0].program = 80\n",
    "pypianoroll.write(blank_midi,'midi/test.mid')\n",
    "play_music('midi/test.mid') "
   ]
  },
  {
   "cell_type": "code",
   "execution_count": 30,
   "metadata": {
    "ExecuteTime": {
     "end_time": "2019-09-12T17:17:36.219314Z",
     "start_time": "2019-09-12T17:17:23.331601Z"
    }
   },
   "outputs": [],
   "source": [
    "# Sucess 2. Kinda like Medly.\n",
    "blank_midi =  pypianoroll.Multitrack('midi/success2.mid')\n",
    "blank_midi.tracks[0].pianoroll = blank_midi.tracks[0].pianoroll[250:900]\n",
    "blank_midi.tracks[1].pianoroll = blank_midi.tracks[1].pianoroll[250:900]\n",
    "blank_midi.tracks[0].program = 53\n",
    "pypianoroll.write(blank_midi,'midi/test.mid')\n",
    "play_music('midi/test.mid') "
   ]
  },
  {
   "cell_type": "code",
   "execution_count": 31,
   "metadata": {
    "ExecuteTime": {
     "end_time": "2019-09-13T23:46:30.590816Z",
     "start_time": "2019-09-13T23:45:34.414580Z"
    }
   },
   "outputs": [],
   "source": [
    "# Sucess 3. MY FAVORITE, I LOVE IT@! Awesome mix of many songs \n",
    "# '3-notes-adj-semitone-more-neurons3846-0.6399-bigger.hdf5' \n",
    "# temperatures = [0.8,1,1.5,2]\n",
    "# temperature = np.random.choice(temperatures,p=[0.7,0.1,0.1,0.1])\n",
    "blank_midi =  pypianoroll.Multitrack('midi/success3.mid')\n",
    "blank_midi.tracks[0].pianoroll = blank_midi.tracks[0].pianoroll\n",
    "blank_midi.tracks[1].pianoroll = blank_midi.tracks[1].pianoroll\n",
    "blank_midi.tracks[0].program = 81\n",
    "pypianoroll.write(blank_midi,'midi/test.mid')\n",
    "play_music('midi/test.mid') \n",
    "#play_music('data/midi/'+df_edm['filenames'][13]) - Marshmello-Alone"
   ]
  },
  {
   "cell_type": "code",
   "execution_count": 106,
   "metadata": {
    "ExecuteTime": {
     "end_time": "2019-09-16T03:52:42.391441Z",
     "start_time": "2019-09-16T03:52:21.541152Z"
    }
   },
   "outputs": [
    {
     "name": "stdout",
     "output_type": "stream",
     "text": [
      "Music file midi/test.mid loaded!\n"
     ]
    }
   ],
   "source": [
    "# Sucess 4\n",
    "blank_midi =  pypianoroll.Multitrack('midi/success4.mid')\n",
    "blank_midi.tracks[0].pianoroll = blank_midi.tracks[0].pianoroll\n",
    "blank_midi.tracks[1].pianoroll = blank_midi.tracks[1].pianoroll\n",
    "blank_midi.tracks[0].program = 81\n",
    "pypianoroll.write(blank_midi,'midi/test.mid')\n",
    "play_music('midi/test.mid') \n",
    "#play_music('data/midi/'+df_edm['filenames'][13]) - Marshmello-Alone"
   ]
  },
  {
   "cell_type": "markdown",
   "metadata": {},
   "source": [
    "# 5 Song Classifiction"
   ]
  },
  {
   "cell_type": "markdown",
   "metadata": {},
   "source": [
    "## 5.1 EDM - DataFrame Preparation"
   ]
  },
  {
   "cell_type": "code",
   "execution_count": 14,
   "metadata": {
    "ExecuteTime": {
     "end_time": "2019-09-18T06:01:32.448118Z",
     "start_time": "2019-09-18T06:01:32.407766Z"
    }
   },
   "outputs": [],
   "source": [
    "import py_midicsv\n",
    "import os\n",
    "\n",
    "# Same as above but for classic\n",
    "# Load file names\n",
    "edm_filenames = os.listdir('data/midi')\n",
    "if '.DS_Store' in edm_filenames:\n",
    "    edm_filenames.remove('.DS_Store')\n",
    "\n",
    "edm_filenames_clean = edm_filenames.copy()\n",
    "# Remove Unnecessary Strings\n",
    "for ix,file in enumerate(edm_filenames_clean):\n",
    "    edm_filenames_clean[ix] = edm_filenames_clean[ix].replace('  (midi by Carlo Prato) (www.cprato.com)','')\n",
    "    edm_filenames_clean[ix] = edm_filenames_clean[ix].replace(' (midi by Carlo Prato) (www.cprato.com)','')\n",
    "    edm_filenames_clean[ix] = edm_filenames_clean[ix].replace('.mid','')\n",
    "# Generate Pandas Dataframe with filenames and CSV version of MIDI files\n",
    "music_type = []\n",
    "df_edm = pd.DataFrame({'filenames':edm_filenames,'song':edm_filenames_clean})\n",
    "df_edm['filenames_clean2'] = df_edm['song'].copy()\n",
    "df_edm['music_type'] = df_edm['song'].copy()\n",
    "df_edm['music_type'] = 'edm'\n",
    "df_edm.sort_values(by=['filenames_clean2'],inplace=True)\n",
    "df_edm.drop(columns=['filenames_clean2'],inplace=True)\n",
    "df_edm.reset_index(drop=True,inplace=True)\n",
    "\n",
    "# Instrument names for look up\n",
    "melody_name = ['Bassmelody','Chords','Lead','MIDI Out','Pad','Piano','Saw Chords','Second Lead','Strings',\n",
    "'Voice','Voice Synth']\n",
    "bass_name = ['Basses','basses','Bass','bass']\n",
    "drum_name = ['Drums','drums','Drum','drum']\n",
    "\n",
    "# Merge all tracks and Combine all songs\n",
    "melody,bass,drum = [],[],[]\n",
    "song_names = []\n",
    "for ix,song in enumerate(df_edm['filenames'][:]): # Switch multiple songs\n",
    "    midi_loaded = pypianoroll.Multitrack('data/midi/'+song)\n",
    "    \n",
    "    melody_holder = np.zeros(midi_loaded.tracks[0].pianoroll.shape)\n",
    "    bass_holder   = np.zeros(midi_loaded.tracks[0].pianoroll.shape)\n",
    "    drum_holder   = np.zeros(midi_loaded.tracks[0].pianoroll.shape)\n",
    "\n",
    "    for jx,track in enumerate(midi_loaded.tracks):\n",
    "        if track.name in bass_name:\n",
    "            bass_holder+=track.pianoroll\n",
    "        elif track.name in drum_name:\n",
    "            drum_holder+=track.pianoroll    \n",
    "        else:\n",
    "            melody_holder+=track.pianoroll\n",
    "    melody.append(melody_holder[:-120])\n",
    "    bass.append(bass_holder[:-120])\n",
    "    drum.append(drum_holder[:-120])\n",
    "    song_names+=[df_edm['song'][ix]]*len(melody_holder[:-120])\n",
    "\n",
    "# Let first song's mean note to be note to adjust other songs to. For melody and bass only.\n",
    "melody_keyss = []\n",
    "for seq in melody[0]:\n",
    "    melody_keyss += [ ix for (ix,x) in enumerate(seq) if x >= 10 ]\n",
    "mean_note = int(np.mean(melody_keyss))\n",
    "\n",
    "# Adjust rest of song's keys to be centered around first song's mean key. For melody and bass only.\n",
    "for ix,song in enumerate(melody):\n",
    "    melody_keyss = []\n",
    "    for seq in song:\n",
    "        melody_keyss += [ ix for (ix,x) in enumerate(seq) if x >= 10 ]\n",
    "    current_song_mean_note = int(np.mean(melody_keyss))   \n",
    "    melody[ix] = np.roll(melody[ix],mean_note-current_song_mean_note)\n",
    "    bass[ix] = np.roll(bass[ix],mean_note-current_song_mean_note)\n",
    "    \n",
    "# Concat all individual files\n",
    "melody_compiled,bass_compiled,drum_compiled = melody[0],bass[0],drum[0]\n",
    "for i in trange(1,len(melody)):\n",
    "    melody_compiled = np.concatenate((melody_compiled,melody[i]))\n",
    "    bass_compiled = np.concatenate((bass_compiled,bass[i]))\n",
    "    drum_compiled = np.concatenate((drum_compiled,drum[i]))\n",
    "\n",
    "# Update blank midi file with compiled version\n",
    "blank_midi = pypianoroll.Multitrack('midi/blank.mid')\n",
    "blank_midi.tempo = midi_loaded.tempo/midi_loaded.tempo*120\n",
    "blank_midi.tracks[0].pianoroll = melody_compiled\n",
    "blank_midi.tracks.pop(1)\n",
    "blank_midi.tracks.pop(1)\n",
    "\n",
    "# Create semitones of compiled version\n",
    "semitone = blank_midi.tracks[0].pianoroll\n",
    "semitone_compiled = blank_midi.tracks[0].pianoroll\n",
    "semitone_list = [-3,-2,-1,1,2,3]\n",
    "song_names = song_names*(len(semitone_list)+1)\n",
    "for i in trange(len(semitone_list)):\n",
    "    semitone_compiled = np.concatenate((semitone_compiled,np.roll(semitone,semitone_list[i])))\n",
    "    \n",
    "# Create target column on the dataframe\n",
    "data_edm = pd.DataFrame(semitone_compiled)\n",
    "data_edm['target']=data_edm[127]\n",
    "data_edm['target']=song_names\n",
    "\n",
    "# Create rolling sum of 50 sequences\n",
    "data_edm[np.arange(128)] = data_edm[np.arange(128)].rolling(50).sum()\n",
    "data_edm.dropna(inplace=True)"
   ]
  },
  {
   "cell_type": "markdown",
   "metadata": {},
   "source": [
    "## 5.2 Classic - DataFrame Preparation"
   ]
  },
  {
   "cell_type": "code",
   "execution_count": 15,
   "metadata": {
    "ExecuteTime": {
     "end_time": "2019-09-18T06:01:47.488510Z",
     "start_time": "2019-09-18T06:01:47.460178Z"
    }
   },
   "outputs": [],
   "source": [
    "# Same as above but for classic\n",
    "# Load file names\n",
    "classic_filenames = os.listdir('data/midi_classic')\n",
    "if '.DS_Store' in classic_filenames:\n",
    "    classic_filenames.remove('.DS_Store')\n",
    "\n",
    "classic_filenames_clean = classic_filenames.copy()\n",
    "# Remove Unnecessary Strings\n",
    "for ix,file in enumerate(classic_filenames_clean):\n",
    "    classic_filenames_clean[ix] = classic_filenames_clean[ix].replace('  (midi by Carlo Prato) (www.cprato.com)','')\n",
    "    classic_filenames_clean[ix] = classic_filenames_clean[ix].replace(' (midi by Carlo Prato) (www.cprato.com)','')\n",
    "    classic_filenames_clean[ix] = classic_filenames_clean[ix].replace('.mid','')\n",
    "# Generate Pandas Dataframe with filenames and CSV version of MIDI files\n",
    "music_type = []\n",
    "df_classic = pd.DataFrame({'filenames':classic_filenames,'song':classic_filenames_clean})\n",
    "df_classic['filenames_clean2'] = df_classic['song'].copy()\n",
    "df_classic['music_type'] = df_classic['song'].copy()\n",
    "df_classic['music_type'] = 'edm'\n",
    "df_classic.sort_values(by=['filenames_clean2'],inplace=True)\n",
    "df_classic.drop(columns=['filenames_clean2'],inplace=True)\n",
    "df_classic.reset_index(drop=True,inplace=True)\n",
    "\n",
    "# Instrument names for look up\n",
    "melody_name = ['Bassmelody','Chords','Lead','MIDI Out','Pad','Piano','Saw Chords','Second Lead','Strings',\n",
    "'Voice','Voice Synth']\n",
    "bass_name = ['Basses','basses','Bass','bass']\n",
    "drum_name = ['Drums','drums','Drum','drum']\n",
    "\n",
    "# Merge all tracks and Combine all songs\n",
    "melody,bass,drum = [],[],[]\n",
    "song_names = []\n",
    "for ix,song in enumerate(df_classic['filenames'][:]): # Switch multiple songs\n",
    "    midi_loaded = pypianoroll.Multitrack('data/midi_classic/'+song)\n",
    "    \n",
    "    melody_holder = np.zeros(midi_loaded.tracks[0].pianoroll.shape)\n",
    "    bass_holder   = np.zeros(midi_loaded.tracks[0].pianoroll.shape)\n",
    "    drum_holder   = np.zeros(midi_loaded.tracks[0].pianoroll.shape)\n",
    "\n",
    "    for jx,track in enumerate(midi_loaded.tracks):\n",
    "        if track.name in bass_name:\n",
    "            bass_holder+=track.pianoroll\n",
    "        elif track.name in drum_name:\n",
    "            drum_holder+=track.pianoroll    \n",
    "        else:\n",
    "            melody_holder+=track.pianoroll\n",
    "    melody.append(melody_holder[:-120])\n",
    "    bass.append(bass_holder[:-120])\n",
    "    drum.append(drum_holder[:-120])\n",
    "    song_names+=[df_classic['song'][ix]]*len(melody_holder[:-120])\n",
    "\n",
    "# Let first song's mean note to be note to adjust other songs to. For melody and bass only.\n",
    "melody_keyss = []\n",
    "for seq in melody[0]:\n",
    "    melody_keyss += [ ix for (ix,x) in enumerate(seq) if x >= 10 ]\n",
    "mean_note = int(np.mean(melody_keyss))\n",
    "\n",
    "# Adjust rest of song's keys to be centered around first song's mean key. For melody and bass only.\n",
    "for ix,song in enumerate(melody):\n",
    "    melody_keyss = []\n",
    "    for seq in song:\n",
    "        melody_keyss += [ ix for (ix,x) in enumerate(seq) if x >= 10 ]\n",
    "    current_song_mean_note = int(np.mean(melody_keyss))   \n",
    "    melody[ix] = np.roll(melody[ix],mean_note-current_song_mean_note)\n",
    "    bass[ix] = np.roll(bass[ix],mean_note-current_song_mean_note)\n",
    "    \n",
    "# Concat all individual files\n",
    "melody_compiled,bass_compiled,drum_compiled = melody[0],bass[0],drum[0]\n",
    "for i in trange(1,len(melody)):\n",
    "    melody_compiled = np.concatenate((melody_compiled,melody[i]))\n",
    "    bass_compiled = np.concatenate((bass_compiled,bass[i]))\n",
    "    drum_compiled = np.concatenate((drum_compiled,drum[i]))\n",
    "\n",
    "# Update blank midi file with compiled version\n",
    "blank_midi = pypianoroll.Multitrack('midi/blank.mid')\n",
    "blank_midi.tempo = midi_loaded.tempo/midi_loaded.tempo*120\n",
    "blank_midi.tracks[0].pianoroll = melody_compiled\n",
    "blank_midi.tracks.pop(1)\n",
    "blank_midi.tracks.pop(1)\n",
    "\n",
    "# Create semitones of compiled version\n",
    "semitone = blank_midi.tracks[0].pianoroll\n",
    "semitone_compiled = blank_midi.tracks[0].pianoroll\n",
    "semitone_list = [-3,-2,-1,1,2,3]\n",
    "song_names = song_names*(len(semitone_list)+1)\n",
    "for i in trange(len(semitone_list)):\n",
    "    semitone_compiled = np.concatenate((semitone_compiled,np.roll(semitone,semitone_list[i])))\n",
    "    \n",
    "# Create target column on the dataframe\n",
    "data_classic = pd.DataFrame(semitone_compiled)\n",
    "data_classic['target']=data_classic[127]\n",
    "data_classic['target']=song_names\n",
    "\n",
    "# Create rolling sum of 50 sequences\n",
    "data_classic[np.arange(128)] = data_classic[np.arange(128)].rolling(50).sum()\n",
    "data_classic.dropna(inplace=True)"
   ]
  },
  {
   "cell_type": "markdown",
   "metadata": {},
   "source": [
    "## 5.3 Train the NN Classifier"
   ]
  },
  {
   "cell_type": "code",
   "execution_count": 77,
   "metadata": {
    "ExecuteTime": {
     "end_time": "2019-09-18T06:27:54.520725Z",
     "start_time": "2019-09-18T06:27:48.074586Z"
    }
   },
   "outputs": [],
   "source": [
    "# Load saved notes for both EDM and Classic\n",
    "notes_edm = pickle.load( open( \"midi/classifier/notes_edm.pkl\", \"rb\" ) )\n",
    "notes_classic = pickle.load( open( \"midi/classifier/notes_classic.pkl\", \"rb\" ) )\n",
    "notes_combined = notes_edm+notes_classic\n",
    "\n",
    "# Convert notes to int\n",
    "n_vocab = len(list(set(notes_combined)))\n",
    "\n",
    "# get all pitch names\n",
    "pitchnames = sorted(set(item for item in notes_combined))\n",
    "\n",
    "# create a dictionary to map pitches to integers\n",
    "note_to_int = dict((note, number) for number, note in enumerate(pitchnames))\n",
    "int_to_note = dict((number, note) for number, note in enumerate(pitchnames))\n",
    "\n",
    "# Convert notes to int\n",
    "ints_edm = []\n",
    "for i in range(len(notes_edm)):\n",
    "    ints_edm.append(note_to_int[notes_edm[i]])\n",
    "ints_classic = []\n",
    "for i in range(len(notes_classic)):\n",
    "    ints_classic.append(note_to_int[notes_classic[i]])\n",
    "    \n",
    "# Prepare input data for model training\n",
    "X = []\n",
    "y = []\n",
    "sequence_length = 10\n",
    "for i in range(len(ints_edm)-sequence_length):\n",
    "    X.append(ints_edm[i:i+sequence_length])\n",
    "    y.append('EDM')\n",
    "for i in range(len(ints_classic)-sequence_length):\n",
    "    X.append(ints_classic[i:i+sequence_length])\n",
    "    y.append('Classic')  \n",
    "X = np.array(X)\n",
    "y = np.array(y)\n",
    "\n",
    "# create scaler\n",
    "scaler = StandardScaler()\n",
    "\n",
    "# fit scaler on data\n",
    "scaler.fit(X)\n",
    "\n",
    "# apply transform\n",
    "X_std = scaler.transform(X)\n",
    "\n",
    "encoder = LabelEncoder()\n",
    "encoder.fit(y)\n",
    "encoded_y = encoder.transform(y)\n",
    "\n",
    "# create model\n",
    "classify_model = Sequential()\n",
    "classify_model.add(Dense(32, input_dim=X.shape[1], activation='relu'))\n",
    "classify_model.add(Dense(16,  activation='relu'))\n",
    "classify_model.add(Dense(1, activation='sigmoid'))\n",
    "\n",
    "# Compile model\n",
    "classify_model.compile(loss='binary_crossentropy', optimizer='adam', metrics=['accuracy'])\n",
    "\n",
    "# # Train\n",
    "model.fit(X_std, encoded_y, epochs=4000, batch_size=1024, verbose=2)\n",
    "classify_model = pickle.load( open('nn_classifier.pkl', \"rb\" ) )"
   ]
  },
  {
   "cell_type": "markdown",
   "metadata": {},
   "source": [
    "## 5.4 Perform Classification "
   ]
  },
  {
   "cell_type": "code",
   "execution_count": null,
   "metadata": {},
   "outputs": [],
   "source": [
    "# Example Song to Classify\n",
    "filename = 'midi/success2.mid'\n",
    "\n",
    "# Take out drum and only leave melody\n",
    "blank_midi =  pypianoroll.Multitrack('midi/blank.mid')\n",
    "test_midi =  pypianoroll.Multitrack(filename)\n",
    "blank_midi.tracks[0].pianoroll = test_midi.tracks[0].pianoroll\n",
    "blank_midi.tracks.pop(1)\n",
    "blank_midi.tracks.pop(1)\n",
    "pypianoroll.write(blank_midi,'midi/classify.mid')\n",
    "# Melody Portion\n",
    "notes_classify = []\n",
    "for file in glob.glob('midi/classify.mid'):\n",
    "    midi = converter.parse(file)\n",
    "    notes_to_parse = None\n",
    "    parts = instrument.partitionByInstrument(midi)\n",
    "    if parts: # file has instrument parts\n",
    "        notes_to_parse = parts.parts[0].recurse()\n",
    "    else: # file has notes_classify in a flat structure\n",
    "        notes_to_parse = midi.flat.notes_classify\n",
    "    for element in notes_to_parse:\n",
    "        if isinstance(element, note.Note):\n",
    "            notes_classify.append(str(element.pitch))\n",
    "        elif isinstance(element, chord.Chord):\n",
    "            notes_classify.append('.'.join(str(n) for n in element.normalOrder))\n",
    "            \n",
    "# Convert notes to int\n",
    "ints_classify = []\n",
    "for i in range(len(notes_classify)):\n",
    "    ints_classify.append(note_to_int[notes_classify[i]])\n",
    "    \n",
    "# Prepare input data for model training\n",
    "X = []\n",
    "for i in range(len(ints_classify)-sequence_length):\n",
    "    X.append(ints_classify[i:i+sequence_length])\n",
    "pred = model.predict(scaler.transform(X))\n",
    "pred_label = []\n",
    "for label in pred:\n",
    "    pred_label+=list(label)\n",
    "pred_label = ['EDM' if x>0.4 else 'Classic' for x in pred_label]"
   ]
  },
  {
   "cell_type": "code",
   "execution_count": 35,
   "metadata": {
    "ExecuteTime": {
     "end_time": "2019-09-18T06:10:58.797270Z",
     "start_time": "2019-09-18T06:10:58.069938Z"
    },
    "scrolled": false
   },
   "outputs": [
    {
     "name": "stderr",
     "output_type": "stream",
     "text": [
      "/Users/matthewlee/anaconda3/envs/nlp/lib/python3.6/site-packages/pretty_midi/pretty_midi.py:100: RuntimeWarning: Tempo, Key or Time signature change events found on non-zero tracks.  This is not a valid type 0 or type 1 MIDI file.  Tempo, Key or Time Signature may be wrong.\n",
      "  RuntimeWarning)\n"
     ]
    },
    {
     "data": {
      "image/png": "[encoded data removed]",
      "text/plain": [
       "<Figure size 1440x72 with 1 Axes>"
      ]
     },
     "metadata": {
      "image/png": {
       "height": 125,
       "width": 1190
      },
      "needs_background": "light"
     },
     "output_type": "display_data"
    },
    {
     "data": {
      "image/png": "[encoded data removed]",
      "text/plain": [
       "<Figure size 360x360 with 1 Axes>"
      ]
     },
     "metadata": {
      "image/png": {
       "height": 342,
       "width": 331
      },
      "needs_background": "light"
     },
     "output_type": "display_data"
    }
   ],
   "source": [
    "# Generate Visuals of Genre Classification and its Progression\n",
    "plot_genre_progression(pred_label)\n",
    "plot_genre_composition(pred_label)"
   ]
  }
 ],
 "metadata": {
  "kernelspec": {
   "display_name": "Python 3",
   "language": "python",
   "name": "python3"
  },
  "language_info": {
   "codemirror_mode": {
    "name": "ipython",
    "version": 3
   },
   "file_extension": ".py",
   "mimetype": "text/x-python",
   "name": "python",
   "nbconvert_exporter": "python",
   "pygments_lexer": "ipython3",
   "version": "3.7.4"
  },
  "toc": {
   "base_numbering": 1,
   "nav_menu": {},
   "number_sections": true,
   "sideBar": true,
   "skip_h1_title": false,
   "title_cell": "Table of Contents",
   "title_sidebar": "Contents",
   "toc_cell": false,
   "toc_position": {},
   "toc_section_display": true,
   "toc_window_display": false
  }
 },
 "nbformat": 4,
 "nbformat_minor": 2
}
