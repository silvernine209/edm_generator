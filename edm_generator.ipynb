{
 "cells": [
  {
   "cell_type": "markdown",
   "metadata": {},
   "source": [
    "Tools  \n",
    "[Write Midi Files](https://github.com/MarkCWirt/MIDIUtil)  \n",
    "[Midi to CSV](https://pypi.org/project/py-midicsv/)  \n",
    "[ABC Notation Player](https://github.com/mdoege/PySynth) \n",
    "[Midi to Wav](https://pypi.org/project/midi2audio/)  \n",
    "[Mido <-> ABC in C](https://github.com/leesavide/abcmidi)  \n",
    "[General Midi Instruments](https://en.wikipedia.org/wiki/General_MIDI#Bass)  \n",
    "\n",
    "\n",
    "Resources  \n",
    "[Andrej C-RNN Blog](http://karpathy.github.io/2015/05/21/rnn-effectiveness/)  \n",
    "[Midi File Format Info](https://www.csie.ntu.edu.tw/~r92092/ref/midi/)  \n",
    "[Audio Stype Transfer Using Autoencoder](https://arxiv.org/abs/1812.07159)  \n",
    "\n",
    "\n",
    "\n",
    "Architectures  \n",
    "[C-RNN](https://github.com/karpathy/char-rnn)\n",
    "[Autoencoder Example](https://www.learnopencv.com/understanding-autoencoders-using-tensorflow-python/)  \n",
    "\n",
    "\n",
    "Tutorials  \n",
    "[Siraj Uses Magenta](https://www.youtube.com/watch?v=pg9apmwf7og)  \n",
    "\n",
    "MIDI Library  \n",
    "[Cprato](https://www.cprato.com)  \n",
    "[Midi File Library](https://bitmidi.com)  \n",
    "\n",
    "Notes  \n",
    "CaryKH added Mozart to Bach, which doubles sample size. He then tranposed all data 6 times, one for each semitone. Then modifed Adnrej's network to 3 layers and 700 neurons each. Transposing the music up a half step makes it look like a new music (in pitch) to the network [Link](https://www.youtube.com/watch?v=SacogDL_4JU)\n",
    "\n",
    "\n"
   ]
  },
  {
   "cell_type": "code",
   "execution_count": 1,
   "metadata": {
    "ExecuteTime": {
     "end_time": "2019-09-04T01:26:56.262298Z",
     "start_time": "2019-09-04T01:26:55.332575Z"
    },
    "scrolled": true
   },
   "outputs": [],
   "source": [
    "# Tools\n",
    "import os\n",
    "import pandas as pd\n",
    "\n",
    "# Play wav files\n",
    "import IPython.display as ipd"
   ]
  },
  {
   "cell_type": "markdown",
   "metadata": {},
   "source": [
    "# Play Midi Files"
   ]
  },
  {
   "cell_type": "code",
   "execution_count": 2,
   "metadata": {
    "ExecuteTime": {
     "end_time": "2019-09-04T01:26:57.166397Z",
     "start_time": "2019-09-04T01:26:57.041272Z"
    }
   },
   "outputs": [
    {
     "name": "stdout",
     "output_type": "stream",
     "text": [
      "pygame 1.9.6\n",
      "Hello from the pygame community. https://www.pygame.org/contribute.html\n"
     ]
    }
   ],
   "source": [
    "import pygame\n",
    "\n",
    "def play_music1(music_file):\n",
    "    \"\"\"\n",
    "    stream music with mixer.music module in blocking manner\n",
    "    this will stream the sound from disk while playing\n",
    "    \"\"\"\n",
    "    clock = pygame.time.Clock()\n",
    "    try:\n",
    "        pygame.mixer.music.load(music_file)\n",
    "        print (\"Music file %s loaded!\" % music_file)\n",
    "    except pygame.error:\n",
    "        print (\"File %s not found! (%s)\" % (music_file, pygame.get_error()))\n",
    "        return\n",
    "    pygame.mixer.music.play()\n",
    "    while pygame.mixer.music.get_busy():\n",
    "        # check if playback has finished\n",
    "        clock.tick(30)\n",
    "        \n",
    "def play_music(music_file):\n",
    "    # Play Midi file\n",
    "    try:\n",
    "        play_music1(music_file)\n",
    "    except KeyboardInterrupt:\n",
    "        # if user hits Ctrl/C then exit\n",
    "        # (works only in console mode)\n",
    "        pygame.mixer.music.fadeout(1000)\n",
    "        pygame.mixer.music.stop()\n",
    "        raise SystemExit\n",
    "        \n",
    "def play_music_csv(music_csv):        \n",
    "    # Parse the CSV output of the previous command back into a MIDI file\n",
    "    midi_object = py_midicsv.csv_to_midi(music_csv)\n",
    "\n",
    "    # Save the parsed MIDI file to disk\n",
    "    with open(\"example_converted.mid\", \"wb\") as output_file:\n",
    "        midi_writer = py_midicsv.FileWriter(output_file)\n",
    "        midi_writer.write(midi_object)\n",
    "    play_music(\"example_converted.mid\")"
   ]
  },
  {
   "cell_type": "markdown",
   "metadata": {
    "heading_collapsed": true
   },
   "source": [
    "## Run this code of midi player doesn't work"
   ]
  },
  {
   "cell_type": "code",
   "execution_count": 32,
   "metadata": {
    "ExecuteTime": {
     "end_time": "2019-09-04T01:57:44.695161Z",
     "start_time": "2019-09-04T01:57:42.779797Z"
    },
    "hidden": true
   },
   "outputs": [
    {
     "name": "stdout",
     "output_type": "stream",
     "text": [
      "Music file data/midi/Alan Walker - Alone  (midi by Carlo Prato) (www.cprato.com).mid loaded!\n"
     ]
    },
    {
     "ename": "SystemExit",
     "evalue": "",
     "output_type": "error",
     "traceback": [
      "An exception has occurred, use %tb to see the full traceback.\n",
      "\u001b[0;31mSystemExit\u001b[0m\n"
     ]
    },
    {
     "name": "stderr",
     "output_type": "stream",
     "text": [
      "/Users/matthewlee/anaconda3/envs/nlp/lib/python3.6/site-packages/IPython/core/interactiveshell.py:3334: UserWarning: To exit: use 'exit', 'quit', or Ctrl-D.\n",
      "  warn(\"To exit: use 'exit', 'quit', or Ctrl-D.\", stacklevel=1)\n"
     ]
    }
   ],
   "source": [
    "# Run this code of midi player doesn't work\n",
    "\n",
    "midi_file = 'data/midi/'+df_edm['filenames'][0]\n",
    "freq = 44100    # audio CD quality\n",
    "bitsize = -16   # unsigned 16 bit\n",
    "channels = 2    # 1 is mono, 2 is stereo\n",
    "buffer = 1024    # number of samples\n",
    "pygame.mixer.init(freq, bitsize, channels, buffer)\n",
    "\n",
    "# optional volume 0 to 1.0\n",
    "pygame.mixer.music.set_volume(0.8)\n",
    "try:\n",
    "    play_music(midi_file)\n",
    "except KeyboardInterrupt:\n",
    "    # if user hits Ctrl/C then exit\n",
    "    # (works only in console mode)\n",
    "    pygame.mixer.music.fadeout(1000)\n",
    "    pygame.mixer.music.stop()\n",
    "    raise SystemExit"
   ]
  },
  {
   "cell_type": "markdown",
   "metadata": {},
   "source": [
    "# Midi <-> CSV"
   ]
  },
  {
   "cell_type": "markdown",
   "metadata": {},
   "source": [
    "## Compile data in pandas dataframe"
   ]
  },
  {
   "cell_type": "code",
   "execution_count": 80,
   "metadata": {
    "ExecuteTime": {
     "end_time": "2019-09-04T04:23:30.871718Z",
     "start_time": "2019-09-04T04:23:30.556898Z"
    }
   },
   "outputs": [],
   "source": [
    "import py_midicsv\n",
    "import os\n",
    "\n",
    "# Load file names\n",
    "filenames = os.listdir('data/midi')\n",
    "if '.DS_Store' in filenames:\n",
    "    filenames.remove('.DS_Store')\n",
    "\n",
    "filenames_clean = filenames.copy()\n",
    "# Remove Unnecessary Strings\n",
    "for ix,file in enumerate(filenames_clean):\n",
    "    filenames_clean[ix] = filenames_clean[ix].replace('  (midi by Carlo Prato) (www.cprato.com)','')\n",
    "    filenames_clean[ix] = filenames_clean[ix].replace(' (midi by Carlo Prato) (www.cprato.com)','')\n",
    "\n",
    "# Generate Pandas Dataframe with filenames and CSV version of MIDI files\n",
    "csvs = []\n",
    "music_type = []\n",
    "for filename in filenames:\n",
    "    csvs.append(py_midicsv.midi_to_csv('data/midi/'+filename))\n",
    "df_edm = pd.DataFrame({'filenames':filenames,'filenames_clean':filenames_clean,'csvs':csvs})\n",
    "df_edm['filenames_clean2'] = df_edm['filenames_clean'].copy()\n",
    "df_edm['filenames_clean2'] = df_edm['filenames_clean2'].apply(lambda x:x.upper())\n",
    "df_edm.sort_values(by=['filenames_clean2'],inplace=True)\n",
    "df_edm.drop(columns=['filenames_clean2'],inplace=True)\n",
    "df_edm.reset_index(drop=True,inplace=True)\n",
    "\n",
    "# # Parse the CSV output of the previous command back into a MIDI file\n",
    "# midi_object = py_midicsv.csv_to_midi(csv_string)\n",
    "\n",
    "# # Save the parsed MIDI file to disk\n",
    "# with open(\"example_converted.mid\", \"wb\") as output_file:\n",
    "#     midi_writer = py_midicsv.FileWriter(output_file)\n",
    "#     midi_writer.write(midi_object)"
   ]
  },
  {
   "cell_type": "markdown",
   "metadata": {
    "heading_collapsed": true
   },
   "source": [
    "## Print indexes of instruments"
   ]
  },
  {
   "cell_type": "code",
   "execution_count": 6,
   "metadata": {
    "ExecuteTime": {
     "end_time": "2019-09-03T20:10:30.965482Z",
     "start_time": "2019-09-03T20:10:30.889665Z"
    },
    "hidden": true
   },
   "outputs": [
    {
     "name": "stdout",
     "output_type": "stream",
     "text": [
      "Alan Walker - Alone.mid [index] : 0\n",
      "8 3, 0, Title_t, \"Lead\"\n",
      "\n",
      "336 4, 0, Title_t, \"Bass\"\n",
      "\n",
      "640 5, 0, Title_t, \"Drums\"\n",
      "\n",
      "878 6, 0, Title_t, \"Alan Walker - Alone\"\n",
      "\n",
      "926 7, 0, Title_t, \"Carlo Prato\"\n",
      "\n",
      "974 8, 0, Title_t, \"cprato.com\"\n",
      "\n",
      "Alan Walker - Faded (Original Mix).mid [index] : 1\n",
      "10 3, 0, Title_t, \"Piano\"\n",
      "\n",
      "370 4, 0, Title_t, \"Lead\"\n",
      "\n",
      "708 5, 0, Title_t, \"Bass\"\n",
      "\n",
      "892 6, 0, Title_t, \"Drums\"\n",
      "\n",
      "1138 7, 0, Title_t, \"Alan Walker - Faded\"\n",
      "\n",
      "1194 8, 0, Title_t, \"Carlo Prato\"\n",
      "\n",
      "1250 9, 0, Title_t, \"cprato.com\"\n",
      "\n",
      "Alan Walker - Sing Me To Sleep.mid [index] : 2\n",
      "8 3, 0, Title_t, \"Lead\"\n",
      "\n",
      "312 4, 0, Title_t, \"Bass\"\n",
      "\n",
      "440 5, 0, Title_t, \"Drums\"\n",
      "\n",
      "1132 6, 0, Title_t, \"Alan Walker - Sing Me To Sleep\"\n",
      "\n",
      "1180 7, 0, Title_t, \"Carlo Prato\"\n",
      "\n",
      "1228 8, 0, Title_t, \"cprato.com\"\n",
      "\n",
      "Calvin Harris - Blame.mid [index] : 3\n",
      "8 3, 0, Title_t, \"Lead\"\n",
      "\n",
      "344 4, 0, Title_t, \"Bass\"\n",
      "\n",
      "648 5, 0, Title_t, \"Drums\"\n",
      "\n",
      "886 6, 0, Title_t, \"Calvin Harris - Blame\"\n",
      "\n",
      "934 7, 0, Title_t, \"Carlo Prato\"\n",
      "\n",
      "982 8, 0, Title_t, \"cprato.com\"\n",
      "\n",
      "Calvin Harris - My Way.mid [index] : 4\n",
      "8 3, 0, Title_t, \"Lead\"\n",
      "\n",
      "264 4, 0, Title_t, \"Piano\"\n",
      "\n",
      "536 5, 0, Title_t, \"Bass\"\n",
      "\n",
      "656 6, 0, Title_t, \"Drums\"\n",
      "\n",
      "1042 7, 0, Title_t, \"Calvin Harris - My Way\"\n",
      "\n",
      "1084 8, 0, Title_t, \"Carlo Prato\"\n",
      "\n",
      "1126 9, 0, Title_t, \"cprato.com\"\n",
      "\n",
      "deadmau5 - 2448.mid [index] : 5\n",
      "8 3, 0, Title_t, \"Lead\"\n",
      "\n",
      "272 4, 0, Title_t, \"Chords\"\n",
      "\n",
      "386 5, 0, Title_t, \"Bass\"\n",
      "\n",
      "488 6, 0, Title_t, \"Drums\"\n",
      "\n",
      "848 7, 0, Title_t, \"deadmau5 - 2448\"\n",
      "\n",
      "896 8, 0, Title_t, \"Carlo Prato\"\n",
      "\n",
      "944 9, 0, Title_t, \"cprato.com\"\n",
      "\n",
      "deadmau5 - Deus Ex Machina.mid [index] : 6\n",
      "8 3, 0, Title_t, \"Lead\"\n",
      "\n",
      "64 4, 0, Title_t, \"Pad\"\n",
      "\n",
      "150 5, 0, Title_t, \"Bass\"\n",
      "\n",
      "326 6, 0, Title_t, \"Drums\"\n",
      "\n",
      "564 7, 0, Title_t, \"Deus Ex Machina\"\n",
      "\n",
      "612 8, 0, Title_t, \"Carlo Prato\"\n",
      "\n",
      "660 9, 0, Title_t, \"cprato.com\"\n",
      "\n",
      "deadmau5 - Hyperlandia.mid [index] : 7\n",
      "8 3, 0, Title_t, \"Lead\"\n",
      "\n",
      "84 4, 0, Title_t, \"Voice\"\n",
      "\n",
      "160 5, 0, Title_t, \"Pad\"\n",
      "\n",
      "224 6, 0, Title_t, \"Bass\"\n",
      "\n",
      "656 7, 0, Title_t, \"Drums\"\n",
      "\n",
      "1180 8, 0, Title_t, \"deadmau5 - Hyperlandia\"\n",
      "\n",
      "1222 9, 0, Title_t, \"Carlo Prato\"\n",
      "\n",
      "1264 10, 0, Title_t, \"cprato.com\"\n",
      "\n",
      "deadmau5 - No Problem.mid [index] : 8\n",
      "8 3, 0, Title_t, \"Lead\"\n",
      "\n",
      "324 4, 0, Title_t, \"Second Lead\"\n",
      "\n",
      "522 5, 0, Title_t, \"Chords\"\n",
      "\n",
      "594 6, 0, Title_t, \"Bass\"\n",
      "\n",
      "770 7, 0, Title_t, \"Drums\"\n",
      "\n",
      "1008 8, 0, Title_t, \"deadmau5 - No Problem\"\n",
      "\n",
      "1056 9, 0, Title_t, \"Carlo Prato\"\n",
      "\n",
      "1104 10, 0, Title_t, \"cprato.com\"\n",
      "\n",
      "deadmau5 - So There I Was.mid [index] : 9\n",
      "8 3, 0, Title_t, \"Lead\"\n",
      "\n",
      "232 4, 0, Title_t, \"Bass\"\n",
      "\n",
      "408 5, 0, Title_t, \"Drums\"\n",
      "\n",
      "768 6, 0, Title_t, \"Deadmau5 - So There I Was\"\n",
      "\n",
      "816 7, 0, Title_t, \"Carlo Prato\"\n",
      "\n",
      "864 8, 0, Title_t, \"cprato.com\"\n",
      "\n",
      "deadmau5 feat. Grabbitz - Let Go.mid [index] : 10\n",
      "8 3, 0, Title_t, \"Lead\"\n",
      "\n",
      "306 4, 0, Title_t, \"Bass\"\n",
      "\n",
      "482 5, 0, Title_t, \"Drums\"\n",
      "\n",
      "864 6, 0, Title_t, \"Deadmau5 feat. Grabbitz \\302\\226 Let Go\"\n",
      "\n",
      "912 7, 0, Title_t, \"Carlo Prato\"\n",
      "\n",
      "960 8, 0, Title_t, \"cprato.com\"\n",
      "\n",
      "Galantis - Love On Me.mid [index] : 11\n",
      "8 3, 0, Title_t, \"Lead\"\n",
      "\n",
      "252 4, 0, Title_t, \"Bass\"\n",
      "\n",
      "460 5, 0, Title_t, \"Drums\"\n",
      "\n",
      "698 6, 0, Title_t, \"Galantis & Hook N Sling - Love On Me\"\n",
      "\n",
      "746 7, 0, Title_t, \"Carlo Prato\"\n",
      "\n",
      "794 8, 0, Title_t, \"cprato.com\"\n",
      "\n",
      "Galantis - No Money.mid [index] : 12\n",
      "8 3, 0, Title_t, \"Lead\"\n",
      "\n",
      "248 4, 0, Title_t, \"Chords\"\n",
      "\n",
      "872 5, 0, Title_t, \"Bass\"\n",
      "\n",
      "1064 6, 0, Title_t, \"Drums\"\n",
      "\n",
      "1302 7, 0, Title_t, \"Galantis - No Money\"\n",
      "\n",
      "1350 8, 0, Title_t, \"Carlo Prato\"\n",
      "\n",
      "1398 9, 0, Title_t, \"cprato.com\"\n",
      "\n",
      "Galimatias - Noelle's Eloquence.mid [index] : 13\n",
      "8 3, 0, Title_t, \"Chords\"\n",
      "\n",
      "314 4, 0, Title_t, \"Bass\"\n",
      "\n",
      "402 5, 0, Title_t, \"Drums\"\n",
      "\n",
      "786 6, 0, Title_t, \"Galimatias - Noelle's Eloquence\"\n",
      "\n",
      "828 7, 0, Title_t, \"Carlo Prato\"\n",
      "\n",
      "870 8, 0, Title_t, \"cprato.com\"\n",
      "\n",
      "Madeon - Icarus.mid [index] : 14\n",
      "8 3, 0, Title_t, \"Lead\"\n",
      "\n",
      "160 4, 0, Title_t, \"Bass\"\n",
      "\n",
      "286 5, 0, Title_t, \"Drums\"\n",
      "\n",
      "518 6, 0, Title_t, \"Madeon - Icarus\"\n",
      "\n",
      "560 7, 0, Title_t, \"Carlo Prato\"\n",
      "\n",
      "602 8, 0, Title_t, \"cprato.com\"\n",
      "\n",
      "Marshmello - Alone (Original Mix).mid [index] : 15\n",
      "8 3, 0, Title_t, \"Lead\"\n",
      "\n",
      "316 4, 0, Title_t, \"Voice\"\n",
      "\n",
      "510 5, 0, Title_t, \"Voice Synth\"\n",
      "\n",
      "706 6, 0, Title_t, \"Second Lead\"\n",
      "\n",
      "982 7, 0, Title_t, \"Strings\"\n",
      "\n",
      "1286 8, 0, Title_t, \"Saw Chords\"\n",
      "\n",
      "1406 9, 0, Title_t, \"Piano\"\n",
      "\n",
      "1508 10, 0, Title_t, \"Bassmelody\"\n",
      "\n",
      "2118 11, 0, Title_t, \"Bass\"\n",
      "\n",
      "2422 12, 0, Title_t, \"Drums\"\n",
      "\n",
      "3022 13, 0, Title_t, \"Marshmello - Alone\"\n",
      "\n",
      "3070 14, 0, Title_t, \"Carlo Prato\"\n",
      "\n",
      "3118 15, 0, Title_t, \"cprato.com\"\n",
      "\n",
      "Marshmello - Ritual (Original Mix).mid [index] : 16\n",
      "8 3, 0, Title_t, \"Lead\"\n",
      "\n",
      "320 4, 0, Title_t, \"Bass\"\n",
      "\n",
      "880 5, 0, Title_t, \"Drums\"\n",
      "\n",
      "1118 6, 0, Title_t, \"Marshmello - Ritual\"\n",
      "\n",
      "1166 7, 0, Title_t, \"Carlo Prato\"\n",
      "\n",
      "1214 8, 0, Title_t, \"cprato.com\"\n",
      "\n",
      "Marshmello - Summer.mid [index] : 17\n",
      "8 3, 0, Title_t, \"Lead\"\n",
      "\n",
      "144 4, 0, Title_t, \"Bass\"\n",
      "\n",
      "224 5, 0, Title_t, \"Drums\"\n",
      "\n",
      "812 6, 0, Title_t, \"Marshmello - Summer\"\n",
      "\n",
      "860 7, 0, Title_t, \"Carlo Prato\"\n",
      "\n",
      "908 8, 0, Title_t, \"cprato.com\"\n",
      "\n",
      "Martin Garrix & Bebe Rexha - In The Name Of Love.mid [index] : 18\n",
      "8 3, 0, Title_t, \"Lead\"\n",
      "\n",
      "216 4, 0, Title_t, \"MIDI Out\"\n",
      "\n",
      "328 5, 0, Title_t, \"Bass\"\n",
      "\n",
      "408 6, 0, Title_t, \"Drums\"\n",
      "\n",
      "634 7, 0, Title_t, \"Martin Garrix & Bebe Rexha - In The Name Of Love\"\n",
      "\n",
      "676 8, 0, Title_t, \"Carlo Prato\"\n",
      "\n",
      "718 9, 0, Title_t, \"cprato.com\"\n",
      "\n",
      "Martin Garrix & Dua Lipa - Scared To Be Lonely.mid [index] : 19\n",
      "8 3, 0, Title_t, \"Lead\"\n",
      "\n",
      "188 4, 0, Title_t, \"Chords\"\n",
      "\n",
      "412 5, 0, Title_t, \"Bass\"\n",
      "\n",
      "548 6, 0, Title_t, \"Drums\"\n",
      "\n",
      "960 7, 0, Title_t, \"Martin Garrix & Dua Lipa - Scared To Be Lonely\"\n",
      "\n",
      "1008 8, 0, Title_t, \"Carlo Prato\"\n",
      "\n",
      "1056 9, 0, Title_t, \"cprato.com\"\n",
      "\n",
      "Martin Garrix ft. The Federal Empire - Hold On & Believe (Original Mix).mid [index] : 20\n",
      "8 3, 0, Title_t, \"Lead\"\n",
      "\n",
      "238 4, 0, Title_t, \"Bass\"\n",
      "\n",
      "456 5, 0, Title_t, \"Drums\"\n",
      "\n",
      "682 6, 0, Title_t, \"Martin Garrix ft. The Federal Empire - Hold On & Believe (Original Mix)\"\n",
      "\n",
      "724 7, 0, Title_t, \"Carlo Prato\"\n",
      "\n",
      "766 8, 0, Title_t, \"cprato.com\"\n",
      "\n",
      "Nero - The Thrill (Porter Robinson Remix).mid [index] : 21\n",
      "8 3, 0, Title_t, \"Lead\"\n",
      "\n",
      "728 4, 0, Title_t, \"Chords\"\n",
      "\n",
      "1288 5, 0, Title_t, \"Bass\"\n",
      "\n",
      "1720 6, 0, Title_t, \"Drums\"\n",
      "\n",
      "1952 7, 0, Title_t, \"Nero - The Thrill (Porter Robinson Remix)\"\n",
      "\n",
      "1994 8, 0, Title_t, \"Carlo Prato\"\n",
      "\n",
      "2036 9, 0, Title_t, \"cprato.com\"\n",
      "\n",
      "Pegboard Nerds - Emoji.mid [index] : 22\n",
      "8 3, 0, Title_t, \"Lead\"\n",
      "\n",
      "160 4, 0, Title_t, \"Second Lead\"\n",
      "\n",
      "232 5, 0, Title_t, \"Chords\"\n",
      "\n",
      "616 6, 0, Title_t, \"Bass\"\n",
      "\n",
      "776 7, 0, Title_t, \"Drums\"\n",
      "\n",
      "1046 8, 0, Title_t, \"Pegboard Nerds - Emoji\"\n",
      "\n",
      "1088 9, 0, Title_t, \"Carlo Prato\"\n",
      "\n",
      "1130 10, 0, Title_t, \"cprato.com\"\n",
      "\n",
      "Pegboard Nerds - Melodymania.mid [index] : 23\n",
      "8 3, 0, Title_t, \"Lead\"\n",
      "\n",
      "366 4, 0, Title_t, \"Chords\"\n",
      "\n",
      "914 5, 0, Title_t, \"Bass\"\n",
      "\n",
      "1198 6, 0, Title_t, \"Drums\"\n",
      "\n",
      "1436 7, 0, Title_t, \"Pegboard Nerds - Melodymania\"\n",
      "\n",
      "1484 8, 0, Title_t, \"Carlo Prato\"\n",
      "\n",
      "1532 9, 0, Title_t, \"cprato.com\"\n",
      "\n",
      "Pendulum - Salt In The Wounds.mid [index] : 24\n",
      "8 3, 0, Title_t, \"Lead\"\n",
      "\n",
      "140 4, 0, Title_t, \"MIDI Out\"\n",
      "\n",
      "312 5, 0, Title_t, \"Bass\"\n",
      "\n",
      "392 6, 0, Title_t, \"Drums\"\n",
      "\n",
      "732 7, 0, Title_t, \"Pendulum - Salt In The Wounds\"\n",
      "\n",
      "774 8, 0, Title_t, \"Carlo Prato\"\n",
      "\n",
      "816 9, 0, Title_t, \"cprato.com\"\n",
      "\n",
      "Pendulum - Witchcraft.mid [index] : 25\n",
      "8 3, 0, Title_t, \"Lead\"\n",
      "\n",
      "282 4, 0, Title_t, \"Bass\"\n",
      "\n",
      "444 5, 0, Title_t, \"Drums\"\n",
      "\n",
      "1122 6, 0, Title_t, \"Pendulum - Witchcraft\"\n",
      "\n",
      "1164 7, 0, Title_t, \"Carlo Prato\"\n",
      "\n",
      "1206 8, 0, Title_t, \"cprato.com\"\n",
      "\n",
      "Porter Robinson & Madeon - Shelter (Original Mix).mid [index] : 26\n",
      "8 3, 0, Title_t, \"Piano\"\n",
      "\n",
      "128 4, 0, Title_t, \"Chords\"\n",
      "\n",
      "272 5, 0, Title_t, \"Voice Synth\"\n",
      "\n",
      "650 6, 0, Title_t, \"Bass\"\n",
      "\n",
      "746 7, 0, Title_t, \"Drums\"\n",
      "\n",
      "1180 8, 0, Title_t, \"Porter Robinson & Madeon - Shelter\"\n",
      "\n",
      "1228 9, 0, Title_t, \"Carlo Prato\"\n",
      "\n",
      "1276 10, 0, Title_t, \"cprato.com\"\n",
      "\n",
      "Porter Robinson - Sad Machine.mid [index] : 27\n",
      "8 3, 0, Title_t, \"Lead\"\n",
      "\n",
      "312 4, 0, Title_t, \"Bass\"\n",
      "\n",
      "480 5, 0, Title_t, \"Pad\"\n",
      "\n",
      "888 6, 0, Title_t, \"Drums\"\n",
      "\n",
      "1244 7, 0, Title_t, \"Porter Robinson - Sad Machine\"\n",
      "\n",
      "1286 8, 0, Title_t, \"Carlo Prato\"\n",
      "\n",
      "1328 9, 0, Title_t, \"cprato.com\"\n",
      "\n",
      "Vanic x K.Flay - Make Me Fade.mid [index] : 28\n",
      "8 3, 0, Title_t, \"Lead\"\n",
      "\n",
      "160 4, 0, Title_t, \"Piano\"\n",
      "\n",
      "352 5, 0, Title_t, \"Bass\"\n",
      "\n",
      "432 6, 0, Title_t, \"Drums\"\n",
      "\n",
      "990 7, 0, Title_t, \"Vanic x K.Flay - Make Me Fade\"\n",
      "\n",
      "1038 8, 0, Title_t, \"Carlo Prato\"\n",
      "\n",
      "1086 9, 0, Title_t, \"cprato.com\"\n",
      "\n",
      "Wax Motif & Vindata - Crazy.mid [index] : 29\n",
      "8 3, 0, Title_t, \"Lead\"\n",
      "\n",
      "188 4, 0, Title_t, \"Second Lead\"\n",
      "\n",
      "332 5, 0, Title_t, \"Bass\"\n",
      "\n",
      "512 6, 0, Title_t, \"Drums\"\n",
      "\n",
      "750 7, 0, Title_t, \"Wax Motif & Vindata - Crazy\"\n",
      "\n",
      "798 8, 0, Title_t, \"Carlo Prato\"\n",
      "\n",
      "846 9, 0, Title_t, \"cprato.com\"\n",
      "\n",
      "Zedd & Hailee Steinfeld Grey - Starving.mid [index] : 30\n",
      "8 3, 0, Title_t, \"Lead\"\n",
      "\n",
      "280 4, 0, Title_t, \"Chords\"\n",
      "\n",
      "808 5, 0, Title_t, \"Bass\"\n",
      "\n",
      "1016 6, 0, Title_t, \"Drums\"\n",
      "\n",
      "1372 7, 0, Title_t, \"Zedd & Hailee Steinfeld Grey - Starving\"\n",
      "\n",
      "1420 8, 0, Title_t, \"Carlo Prato\"\n",
      "\n",
      "1468 9, 0, Title_t, \"cprato.com\"\n",
      "\n"
     ]
    }
   ],
   "source": [
    "for ix,song in enumerate(df_edm['csvs']):\n",
    "    print(df_edm['filenames_clean'][ix]+' [index] : '+str(ix))\n",
    "    for jx,row in enumerate(song):\n",
    "        if 'Title' in row:\n",
    "            print(jx,row)\n"
   ]
  },
  {
   "cell_type": "markdown",
   "metadata": {
    "heading_collapsed": true
   },
   "source": [
    "## Print Header Info of All Songs"
   ]
  },
  {
   "cell_type": "code",
   "execution_count": 79,
   "metadata": {
    "ExecuteTime": {
     "end_time": "2019-09-04T04:22:05.719506Z",
     "start_time": "2019-09-04T04:22:05.696567Z"
    },
    "hidden": true
   },
   "outputs": [
    {
     "name": "stdout",
     "output_type": "stream",
     "text": [
      "['0, 0, Header, 1, 8, 96\\n', '1, 0, Start_track\\n', '1, 0, Time_signature, 4, 2, 24, 8\\n', '1, 0, End_track\\n', '2, 0, Start_track\\n', '2, 0, Tempo, 618557\\n', '2, 0, End_track\\n']\n",
      "\n",
      "\n",
      "['0, 0, Header, 1, 9, 96\\n', '1, 0, Start_track\\n', '1, 0, Time_signature, 4, 2, 24, 8\\n', '1, 0, End_track\\n', '2, 0, Start_track\\n', '2, 0, Tempo, 666667\\n', '2, 0, Tempo, 666667\\n', '2, 0, Tempo, 666667\\n', '2, 0, End_track\\n']\n",
      "\n",
      "\n",
      "['0, 0, Header, 1, 8, 96\\n', '1, 0, Start_track\\n', '1, 0, Time_signature, 4, 2, 24, 8\\n', '1, 0, End_track\\n', '2, 0, Start_track\\n', '2, 0, Tempo, 681818\\n', '2, 0, End_track\\n']\n",
      "\n",
      "\n",
      "['0, 0, Header, 1, 8, 96\\n', '1, 0, Start_track\\n', '1, 0, Time_signature, 4, 2, 24, 8\\n', '1, 0, End_track\\n', '2, 0, Start_track\\n', '2, 0, Tempo, 468750\\n', '2, 0, End_track\\n']\n",
      "\n",
      "\n",
      "['0, 0, Header, 1, 9, 96\\n', '1, 0, Start_track\\n', '1, 0, Time_signature, 4, 2, 24, 8\\n', '1, 0, End_track\\n', '2, 0, Start_track\\n', '2, 0, Tempo, 500000\\n', '2, 0, End_track\\n']\n",
      "\n",
      "\n",
      "['0, 0, Header, 1, 9, 96\\n', '1, 0, Start_track\\n', '1, 0, Time_signature, 4, 2, 24, 8\\n', '1, 0, End_track\\n', '2, 0, Start_track\\n', '2, 0, Tempo, 468750\\n', '2, 0, End_track\\n']\n",
      "\n",
      "\n",
      "['0, 0, Header, 1, 9, 96\\n', '1, 0, Start_track\\n', '1, 0, Time_signature, 4, 2, 24, 8\\n', '1, 0, End_track\\n', '2, 0, Start_track\\n', '2, 0, Tempo, 468750\\n', '2, 0, End_track\\n']\n",
      "\n",
      "\n",
      "['0, 0, Header, 1, 10, 96\\n', '1, 0, Start_track\\n', '1, 0, Time_signature, 4, 2, 24, 8\\n', '1, 0, End_track\\n', '2, 0, Start_track\\n', '2, 0, Tempo, 612245\\n', '2, 0, End_track\\n']\n",
      "\n",
      "\n",
      "['0, 0, Header, 1, 10, 96\\n', '1, 0, Start_track\\n', '1, 0, Time_signature, 4, 2, 24, 8\\n', '1, 0, End_track\\n', '2, 0, Start_track\\n', '2, 0, Tempo, 530973\\n', '2, 0, End_track\\n']\n",
      "\n",
      "\n",
      "['0, 0, Header, 1, 8, 96\\n', '1, 0, Start_track\\n', '1, 0, Time_signature, 4, 2, 24, 8\\n', '1, 0, End_track\\n', '2, 0, Start_track\\n', '2, 0, Tempo, 468721\\n', '2, 0, End_track\\n']\n",
      "\n",
      "\n",
      "['0, 0, Header, 1, 8, 96\\n', '1, 0, Start_track\\n', '1, 0, Time_signature, 4, 2, 24, 8\\n', '1, 0, End_track\\n', '2, 0, Start_track\\n', '2, 0, Tempo, 468750\\n', '2, 0, End_track\\n']\n",
      "\n",
      "\n",
      "['0, 0, Header, 1, 8, 96\\n', '1, 0, Start_track\\n', '1, 0, Time_signature, 4, 2, 24, 8\\n', '1, 0, End_track\\n', '2, 0, Start_track\\n', '2, 0, Tempo, 483871\\n', '2, 0, End_track\\n']\n",
      "\n",
      "\n",
      "['0, 0, Header, 1, 9, 96\\n', '1, 0, Start_track\\n', '1, 0, Time_signature, 4, 2, 24, 8\\n', '1, 0, End_track\\n', '2, 0, Start_track\\n', '2, 0, Tempo, 476190\\n', '2, 0, End_track\\n']\n",
      "\n",
      "\n",
      "['0, 0, Header, 1, 8, 96\\n', '1, 0, Start_track\\n', '1, 0, Time_signature, 4, 2, 24, 8\\n', '1, 0, End_track\\n', '2, 0, Start_track\\n', '2, 0, Tempo, 722892\\n', '2, 0, End_track\\n']\n",
      "\n",
      "\n",
      "['0, 0, Header, 1, 8, 96\\n', '1, 0, Start_track\\n', '1, 0, Time_signature, 4, 2, 24, 8\\n', '1, 0, End_track\\n', '2, 0, Start_track\\n', '2, 0, Tempo, 476190\\n', '2, 0, End_track\\n']\n",
      "\n",
      "\n",
      "['0, 0, Header, 1, 15, 96\\n', '1, 0, Start_track\\n', '1, 0, Time_signature, 4, 2, 24, 8\\n', '1, 0, End_track\\n', '2, 0, Start_track\\n', '2, 0, Tempo, 422535\\n', '2, 0, End_track\\n']\n",
      "\n",
      "\n",
      "['0, 0, Header, 1, 8, 96\\n', '1, 0, Start_track\\n', '1, 0, Time_signature, 4, 2, 24, 8\\n', '1, 0, End_track\\n', '2, 0, Start_track\\n', '2, 0, Tempo, 545455\\n', '2, 0, End_track\\n']\n",
      "\n",
      "\n",
      "['0, 0, Header, 1, 8, 96\\n', '1, 0, Start_track\\n', '1, 0, Time_signature, 4, 2, 24, 8\\n', '1, 0, End_track\\n', '2, 0, Start_track\\n', '2, 0, Tempo, 422535\\n', '2, 0, End_track\\n']\n",
      "\n",
      "\n",
      "['0, 0, Header, 1, 9, 96\\n', '1, 0, Start_track\\n', '1, 0, Time_signature, 4, 2, 24, 8\\n', '1, 0, End_track\\n', '2, 0, Start_track\\n', '2, 0, Tempo, 447761\\n', '2, 0, End_track\\n']\n",
      "\n",
      "\n",
      "['0, 0, Header, 1, 9, 96\\n', '1, 0, Start_track\\n', '1, 0, Time_signature, 4, 2, 24, 8\\n', '1, 0, End_track\\n', '2, 0, Start_track\\n', '2, 0, Tempo, 434783\\n', '2, 0, End_track\\n']\n",
      "\n",
      "\n",
      "['0, 0, Header, 1, 8, 96\\n', '1, 0, Start_track\\n', '1, 0, Time_signature, 4, 2, 24, 8\\n', '1, 0, End_track\\n', '2, 0, Start_track\\n', '2, 0, Tempo, 468750\\n', '2, 0, End_track\\n']\n",
      "\n",
      "\n",
      "['0, 0, Header, 1, 9, 96\\n', '1, 0, Start_track\\n', '1, 0, Time_signature, 4, 2, 24, 8\\n', '1, 0, End_track\\n', '2, 0, Start_track\\n', '2, 0, Tempo, 750000\\n', '2, 0, End_track\\n']\n",
      "\n",
      "\n",
      "['0, 0, Header, 1, 10, 96\\n', '1, 0, Start_track\\n', '1, 0, Time_signature, 4, 2, 24, 8\\n', '1, 0, End_track\\n', '2, 0, Start_track\\n', '2, 0, Tempo, 368098\\n', '2, 0, End_track\\n']\n",
      "\n",
      "\n",
      "['0, 0, Header, 1, 9, 96\\n', '1, 0, Start_track\\n', '1, 0, Time_signature, 4, 2, 24, 8\\n', '1, 0, End_track\\n', '2, 0, Start_track\\n', '2, 0, Tempo, 468750\\n', '2, 0, End_track\\n']\n",
      "\n",
      "\n",
      "['0, 0, Header, 1, 9, 96\\n', '1, 0, Start_track\\n', '1, 0, Time_signature, 4, 2, 24, 8\\n', '1, 0, End_track\\n', '2, 0, Start_track\\n', '2, 0, Tempo, 344828\\n', '2, 0, End_track\\n']\n",
      "\n",
      "\n",
      "['0, 0, Header, 1, 8, 96\\n', '1, 0, Start_track\\n', '1, 0, Time_signature, 4, 2, 24, 8\\n', '1, 0, End_track\\n', '2, 0, Start_track\\n', '2, 0, Tempo, 344828\\n', '2, 0, End_track\\n']\n",
      "\n",
      "\n",
      "['0, 0, Header, 1, 10, 96\\n', '1, 0, Start_track\\n', '1, 0, Time_signature, 4, 2, 24, 8\\n', '1, 0, End_track\\n', '2, 0, Start_track\\n', '2, 0, Tempo, 600000\\n', '2, 0, End_track\\n']\n",
      "\n",
      "\n",
      "['0, 0, Header, 1, 9, 96\\n', '1, 0, Start_track\\n', '1, 0, Time_signature, 4, 2, 24, 8\\n', '1, 0, End_track\\n', '2, 0, Start_track\\n', '2, 0, Tempo, 677966\\n', '2, 0, End_track\\n']\n",
      "\n",
      "\n",
      "['0, 0, Header, 1, 9, 96\\n', '1, 0, Start_track\\n', '1, 0, Time_signature, 4, 2, 24, 8\\n', '1, 0, End_track\\n', '2, 0, Start_track\\n', '2, 0, Tempo, 750000\\n', '2, 0, End_track\\n']\n",
      "\n",
      "\n",
      "['0, 0, Header, 1, 9, 96\\n', '1, 0, Start_track\\n', '1, 0, Time_signature, 4, 2, 24, 8\\n', '1, 0, End_track\\n', '2, 0, Start_track\\n', '2, 0, Tempo, 480000\\n', '2, 0, End_track\\n']\n",
      "\n",
      "\n",
      "['0, 0, Header, 1, 9, 96\\n', '1, 0, Start_track\\n', '1, 0, Time_signature, 4, 2, 24, 8\\n', '1, 0, End_track\\n', '2, 0, Start_track\\n', '2, 0, Tempo, 600000\\n', '2, 0, End_track\\n']\n",
      "\n",
      "\n"
     ]
    }
   ],
   "source": [
    "for i in range(len(instruments)):\n",
    "    print(instruments[i][0])\n",
    "    print('\\n')"
   ]
  },
  {
   "cell_type": "markdown",
   "metadata": {},
   "source": [
    "## Parse instruments for each song"
   ]
  },
  {
   "cell_type": "code",
   "execution_count": 81,
   "metadata": {
    "ExecuteTime": {
     "end_time": "2019-09-04T04:23:32.330753Z",
     "start_time": "2019-09-04T04:23:32.273393Z"
    }
   },
   "outputs": [],
   "source": [
    "# For each song, break it up by instruments\n",
    "instruments = []\n",
    "for ix,song in enumerate(df_edm['csvs']):\n",
    "    holder = []\n",
    "    indexes = []\n",
    "    #holder.append(df_edm['filenames_clean'][ix]+' [index] : '+str(ix))\n",
    "    for jx,row in enumerate(song):\n",
    "        if 'Title_t' in row:\n",
    "            indexes.append(jx-1)\n",
    "    # Header and info before first instrument\n",
    "    holder.append(song[0:indexes[0]])\n",
    "    # Add each instrument for each song\n",
    "    for i in range(len(indexes)-1):\n",
    "        holder.append(song[indexes[i]:indexes[i+1]])\n",
    "    instruments.append(holder) \n",
    "\n",
    "# Index of instruments that actually has notes. This is needed to get rid of instruments that doesn't have any notes\n",
    "for ix,song in enumerate(instruments):\n",
    "    keep_instrument_index = []\n",
    "    for jx,instrument in enumerate(song[1:]):\n",
    "        note_on_off = -1\n",
    "        for kx,row in enumerate(instrument):\n",
    "            note_on_off = row.find('Note_on')\n",
    "            if note_on_off!=-1:\n",
    "                keep_instrument_index.append(jx+1)\n",
    "                break\n",
    "    instruments[ix]=instruments[ix][:keep_instrument_index[-1]+1]\n",
    "\n",
    "# Extract only note_on and note_off infor for melodies, bass, and drum\n",
    "melody_name = ['Bassmelody','Chords','Lead','MIDI Out','Pad','Piano','Saw Chords','Second Lead','Strings',\n",
    "'Voice','Voice Synth']\n",
    "bass_name = ['Basses','basses','Bass','bass']\n",
    "drum_name = ['Drums','drums','Drum','drum']\n",
    "melody, bass, drum = [], [], []\n",
    "for ix,song in enumerate(instruments):\n",
    "    melody_holder, bass_holder, drum_holder = [], [], []\n",
    "    for jx,instrument in enumerate(song[1:]):\n",
    "        if instrument[1].split('\"')[1] in bass_name:\n",
    "            first_actual_note_indexes = []\n",
    "            for ix,seq in enumerate(instrument):\n",
    "                if ('Note_on_c' in seq) or ('Note_off_c' in seq):\n",
    "                    first_actual_note_indexes.append(ix)\n",
    "            bass_holder.append(instrument[first_actual_note_indexes[0]:first_actual_note_indexes[-1]+1])  \n",
    "        elif instrument[1].split('\"')[1] in drum_name:\n",
    "            first_actual_note_indexes = []\n",
    "            for ix,seq in enumerate(instrument):\n",
    "                if ('Note_on_c' in seq) or ('Note_off_c' in seq):\n",
    "                    first_actual_note_indexes.append(ix)\n",
    "            drum_holder.append(instrument[first_actual_note_indexes[0]:first_actual_note_indexes[-1]+1])             \n",
    "        else:\n",
    "            first_actual_note_indexes = []\n",
    "            for ix,seq in enumerate(instrument):\n",
    "                if ('Note_on_c' in seq) or ('Note_off_c' in seq):\n",
    "                    first_actual_note_indexes.append(ix)\n",
    "            melody_holder.append(instrument[first_actual_note_indexes[0]:first_actual_note_indexes[-1]+1])\n",
    "    melody.append(melody_holder)\n",
    "    bass.append(bass_holder)\n",
    "    drum.append(drum_holder)\n",
    "    \n",
    "\n",
    "# # Get rid of any 'Control_c','Pitch_bend_c','Program_c'\n",
    "# start_end_track = []\n",
    "# for ix,song in enumerate(instruments):    \n",
    "#     for jx,instrument in enumerate(song):\n",
    "#         remove_control_pitch_program = []\n",
    "#         for kx,row in enumerate(instrument):\n",
    "#             if row.split(', ')[2] not in ['Control_c','Pitch_bend_c','Program_c']:\n",
    "#                 remove_control_pitch_program.append(row)\n",
    "#         instruments[ix][jx] = remove_control_pitch_program\n",
    "        \n",
    "        "
   ]
  },
  {
   "cell_type": "code",
   "execution_count": null,
   "metadata": {},
   "outputs": [],
   "source": [
    "\n",
    "\n",
    "# Split each note for easier manipulation\n",
    "for ix,note in enumerate(first_instrument):\n",
    "    first_instrument[ix] = first_instrument[ix].split(', ')"
   ]
  },
  {
   "cell_type": "markdown",
   "metadata": {},
   "source": [
    "## Play "
   ]
  },
  {
   "cell_type": "code",
   "execution_count": 45,
   "metadata": {
    "ExecuteTime": {
     "end_time": "2019-09-04T02:03:32.601883Z",
     "start_time": "2019-09-04T02:02:41.521209Z"
    }
   },
   "outputs": [
    {
     "name": "stdout",
     "output_type": "stream",
     "text": [
      "Music file example_converted.mid loaded!\n"
     ]
    }
   ],
   "source": [
    "play_music_csv(df_edm['csvs'][21])"
   ]
  },
  {
   "cell_type": "code",
   "execution_count": 44,
   "metadata": {
    "ExecuteTime": {
     "end_time": "2019-09-04T02:02:38.911850Z",
     "start_time": "2019-09-04T02:02:17.839724Z"
    }
   },
   "outputs": [
    {
     "name": "stdout",
     "output_type": "stream",
     "text": [
      "Music file example_converted.mid loaded!\n"
     ]
    },
    {
     "ename": "SystemExit",
     "evalue": "",
     "output_type": "error",
     "traceback": [
      "An exception has occurred, use %tb to see the full traceback.\n",
      "\u001b[0;31mSystemExit\u001b[0m\n"
     ]
    }
   ],
   "source": [
    "song_index = 21\n",
    "instrument_concat = []\n",
    "for instrument in instruments[song_index]:\n",
    "    instrument_concat+=instrument\n",
    "play_music_csv(instrument_concat)"
   ]
  },
  {
   "cell_type": "code",
   "execution_count": null,
   "metadata": {},
   "outputs": [],
   "source": []
  },
  {
   "cell_type": "code",
   "execution_count": null,
   "metadata": {},
   "outputs": [],
   "source": [
    "first_actual_note_indexes = []\n",
    "for ix,seq in enumerate(instruments[19][2]):\n",
    "    if ('Note_on_c' in seq) or ('Note_off_c' in seq):\n",
    "        first_actual_note_indexes.append(ix)\n",
    "first_instrument = instruments[19][2][first_actual_note_indexes[0]:first_actual_note_indexes[-1]+1]\n",
    "\n",
    "# Split each note for easier manipulation\n",
    "for ix,note in enumerate(first_instrument):\n",
    "    first_instrument[ix] = first_instrument[ix].split(', ')\n",
    "\n",
    "start_track = instruments[19][2][:2]\n",
    "program = instruments[19][2][first_actual_note_indexes[0]-1]\n",
    "end_track = instruments[19][2][-1]\n",
    "    "
   ]
  },
  {
   "cell_type": "code",
   "execution_count": null,
   "metadata": {},
   "outputs": [],
   "source": []
  },
  {
   "cell_type": "code",
   "execution_count": 14,
   "metadata": {
    "ExecuteTime": {
     "end_time": "2019-09-03T22:28:09.806078Z",
     "start_time": "2019-09-03T22:28:09.797847Z"
    }
   },
   "outputs": [],
   "source": []
  },
  {
   "cell_type": "code",
   "execution_count": null,
   "metadata": {},
   "outputs": [],
   "source": []
  },
  {
   "cell_type": "code",
   "execution_count": null,
   "metadata": {},
   "outputs": [],
   "source": []
  },
  {
   "cell_type": "code",
   "execution_count": 11,
   "metadata": {
    "ExecuteTime": {
     "end_time": "2019-09-03T21:09:51.695843Z",
     "start_time": "2019-09-03T21:09:51.540007Z"
    }
   },
   "outputs": [],
   "source": [
    "# Combine different melody instruments into one melody instrument\n",
    "\n",
    "# Combine two instruments\n",
    "df_combined_instrument = pd.DataFrame(first_instrument+second_instrument+third_instrument)\n",
    "# Timestamp column as integer\n",
    "df_combined_instrument[1] = df_combined_instrument[1].astype('int32')\n",
    "# Set the two instruments as same instrument number\n",
    "df_combined_instrument[0]=3\n",
    "# Set the two instruments as same instrument type\n",
    "df_combined_instrument[3]=12\n",
    "# Reorder df_combined_instrument by timestamp & drop duplicates\n",
    "df_combined_instrument_ordered = df_combined_instrument.sort_values(by=[1]).reset_index(drop=True).copy()\n",
    "df_combined_instrument_ordered.drop_duplicates(inplace=True)\n",
    "# Reconstruct ordered data into csv format to be turned into midi file\n",
    "combined_instrument_ordered = []\n",
    "for i in range(len(df_combined_instrument_ordered)):\n",
    "    combined_instrument_ordered.append(', '.join([str(x) for x in df_combined_instrument_ordered.iloc[i].tolist()]))"
   ]
  },
  {
   "cell_type": "code",
   "execution_count": 19,
   "metadata": {
    "ExecuteTime": {
     "end_time": "2019-09-03T21:15:44.520615Z",
     "start_time": "2019-09-03T21:15:33.070382Z"
    }
   },
   "outputs": [
    {
     "name": "stdout",
     "output_type": "stream",
     "text": [
      "Music file example_converted.mid loaded!\n"
     ]
    },
    {
     "ename": "SystemExit",
     "evalue": "",
     "output_type": "error",
     "traceback": [
      "An exception has occurred, use %tb to see the full traceback.\n",
      "\u001b[0;31mSystemExit\u001b[0m\n"
     ]
    }
   ],
   "source": [
    "# Need the 'End_track' row at the end of the file so that Midi player works\n",
    "play_music_csv(instruments[19][1]+instruments[19][2][0:2]+combined_instrument_ordered+['3, 6529, End_track\\n']+asdf)"
   ]
  },
  {
   "cell_type": "markdown",
   "metadata": {},
   "source": [
    "# Download Youtube"
   ]
  },
  {
   "cell_type": "code",
   "execution_count": 156,
   "metadata": {
    "ExecuteTime": {
     "end_time": "2019-08-30T17:41:51.417652Z",
     "start_time": "2019-08-30T17:41:51.273102Z"
    }
   },
   "outputs": [],
   "source": [
    "# Use below command in the terminal to download youtube file as wav file.\n",
    "#!python YouTube_to_WAV.py https://www.youtube.com/watch?v=xgs-laNZ0SE&t=218s"
   ]
  },
  {
   "cell_type": "code",
   "execution_count": null,
   "metadata": {},
   "outputs": [],
   "source": []
  },
  {
   "cell_type": "markdown",
   "metadata": {
    "heading_collapsed": true
   },
   "source": [
    "# Midi -> Wav (Doesn't work atm)"
   ]
  },
  {
   "cell_type": "code",
   "execution_count": 17,
   "metadata": {
    "ExecuteTime": {
     "end_time": "2019-09-03T03:35:13.703312Z",
     "start_time": "2019-09-03T03:35:13.698913Z"
    },
    "hidden": true
   },
   "outputs": [],
   "source": [
    "# #!pip install midi2audio --y\n",
    "from midi2audio import FluidSynth\n",
    "\n",
    "# using the default sound font in 44100 Hz sample rate\n",
    "fs = FluidSynth()\n",
    "fs.midi_to_audio('Alan Walker - Alone  (midi by Carlo Prato) (www.cprato.com) copy.mid','output.wav')\n",
    "# for ix,filename in enumerate(filenames):\n",
    "#     fs.midi_to_audio('data/midi/'+filename, 'data/wav/'+df_edm['filenames_clean'][ix][:-4]+'.wav')\n"
   ]
  },
  {
   "cell_type": "markdown",
   "metadata": {
    "heading_collapsed": true
   },
   "source": [
    "# Play ABC Notation"
   ]
  },
  {
   "cell_type": "code",
   "execution_count": null,
   "metadata": {
    "hidden": true
   },
   "outputs": [],
   "source": [
    "# ABC Notation Player\n",
    "import pysynth as ps\n",
    "\n",
    "# Make test ABC file\n",
    "test = (\n",
    "  ('g#', 4),  ('g*', 2), ('g5', 4),\n",
    "  ('g5*', 4), ('r', 4), ('e5', 16),\n",
    "  ('f5', 16),  ('e5', 16),  ('d5', 16),\n",
    "  ('e5*', 4) \n",
    ")\n",
    "ps.make_wav(test, fn = \"test.wav\")\n",
    "\n",
    "#Play wav file\n",
    "ipd.Audio('test.wav') # load a local WAV file"
   ]
  }
 ],
 "metadata": {
  "kernelspec": {
   "display_name": "Python 3",
   "language": "python",
   "name": "python3"
  },
  "language_info": {
   "codemirror_mode": {
    "name": "ipython",
    "version": 3
   },
   "file_extension": ".py",
   "mimetype": "text/x-python",
   "name": "python",
   "nbconvert_exporter": "python",
   "pygments_lexer": "ipython3",
   "version": "3.6.9"
  },
  "toc": {
   "base_numbering": 1,
   "nav_menu": {},
   "number_sections": true,
   "sideBar": true,
   "skip_h1_title": false,
   "title_cell": "Table of Contents",
   "title_sidebar": "Contents",
   "toc_cell": false,
   "toc_position": {},
   "toc_section_display": true,
   "toc_window_display": false
  }
 },
 "nbformat": 4,
 "nbformat_minor": 2
}
