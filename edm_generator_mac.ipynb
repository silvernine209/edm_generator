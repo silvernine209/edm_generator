{
 "cells": [
  {
   "cell_type": "markdown",
   "metadata": {},
   "source": [
    "Tools  \n",
    "[Write Midi Files](https://github.com/MarkCWirt/MIDIUtil)  \n",
    "[Midi to CSV](https://pypi.org/project/py-midicsv/)  \n",
    "[ABC Notation Player](https://github.com/mdoege/PySynth) \n",
    "[Midi to Wav](https://pypi.org/project/midi2audio/)  \n",
    "[Mido <-> ABC in C](https://github.com/leesavide/abcmidi)  \n",
    "[General Midi Instruments](https://en.wikipedia.org/wiki/General_MIDI#Bass)  \n",
    "\n",
    "\n",
    "Resources  \n",
    "[Andrej C-RNN Blog](http://karpathy.github.io/2015/05/21/rnn-effectiveness/)  \n",
    "[Midi File Format Info](https://www.csie.ntu.edu.tw/~r92092/ref/midi/)  \n",
    "[Audio Stype Transfer Using Autoencoder](https://arxiv.org/abs/1812.07159)  \n",
    "\n",
    "\n",
    "\n",
    "Architectures  \n",
    "[C-RNN](https://github.com/karpathy/char-rnn)\n",
    "[Autoencoder Example](https://www.learnopencv.com/understanding-autoencoders-using-tensorflow-python/)  \n",
    "\n",
    "\n",
    "Tutorials  \n",
    "[Siraj Uses Magenta](https://www.youtube.com/watch?v=pg9apmwf7og)  \n",
    "[Toward Data Science Article](https://towardsdatascience.com/how-to-generate-music-using-a-lstm-neural-network-in-keras-68786834d4c5)  \n",
    "\n",
    "MIDI Library  \n",
    "[Cprato](https://www.cprato.com)  \n",
    "[Midi File Library](https://bitmidi.com)  \n",
    "\n",
    "Notes  \n",
    "CaryKH added Mozart to Bach, which doubles sample size. He then tranposed all data 6 times, one for each semitone. Then modifed Adnrej's network to 3 layers and 700 neurons each. Transposing the music up a half step makes it look like a new music (in pitch) to the network [Link](https://www.youtube.com/watch?v=SacogDL_4JU)\n",
    "\n",
    "\n"
   ]
  },
  {
   "cell_type": "code",
   "execution_count": 44,
   "metadata": {
    "ExecuteTime": {
     "end_time": "2019-09-08T00:35:26.144698Z",
     "start_time": "2019-09-08T00:35:26.138268Z"
    },
    "scrolled": true
   },
   "outputs": [],
   "source": [
    "# Tools\n",
    "import os\n",
    "import pandas as pd\n",
    "import numpy as np\n",
    "from collections import defaultdict\n",
    "from tqdm import trange\n",
    "import glob\n",
    "import pickle\n",
    "\n",
    "# Play wav files\n",
    "import IPython.display as ipd"
   ]
  },
  {
   "cell_type": "markdown",
   "metadata": {},
   "source": [
    "# Play Midi Files"
   ]
  },
  {
   "cell_type": "code",
   "execution_count": 2,
   "metadata": {
    "ExecuteTime": {
     "end_time": "2019-09-07T23:35:42.023833Z",
     "start_time": "2019-09-07T23:35:41.888239Z"
    }
   },
   "outputs": [
    {
     "name": "stdout",
     "output_type": "stream",
     "text": [
      "pygame 1.9.6\n",
      "Hello from the pygame community. https://www.pygame.org/contribute.html\n"
     ]
    }
   ],
   "source": [
    "import pygame\n",
    "\n",
    "def play_music1(music_file):\n",
    "    \"\"\"\n",
    "    stream music with mixer.music module in blocking manner\n",
    "    this will stream the sound from disk while playing\n",
    "    \"\"\"\n",
    "    clock = pygame.time.Clock()\n",
    "    try:\n",
    "        pygame.mixer.music.load(music_file)\n",
    "        print (\"Music file %s loaded!\" % music_file)\n",
    "    except pygame.error:\n",
    "        print (\"File %s not found! (%s)\" % (music_file, pygame.get_error()))\n",
    "        return\n",
    "    pygame.mixer.music.play()\n",
    "    while pygame.mixer.music.get_busy():\n",
    "        # check if playback has finished\n",
    "        clock.tick(30)\n",
    "        \n",
    "def play_music(music_file):\n",
    "    # Play Midi file\n",
    "    try:\n",
    "        play_music1(music_file)\n",
    "    except KeyboardInterrupt:\n",
    "        # if user hits Ctrl/C then exit\n",
    "        # (works only in console mode)\n",
    "        pygame.mixer.music.fadeout(1000)\n",
    "        pygame.mixer.music.stop()\n",
    "        raise SystemExit\n",
    "        \n",
    "def play_music_csv(music_csv):        \n",
    "    # Parse the CSV output of the previous command back into a MIDI file\n",
    "    midi_object = py_midicsv.csv_to_midi(music_csv)\n",
    "\n",
    "    # Save the parsed MIDI file to disk\n",
    "    with open(\"example_converted.mid\", \"wb\") as output_file:\n",
    "        midi_writer = py_midicsv.FileWriter(output_file)\n",
    "        midi_writer.write(midi_object)\n",
    "    play_music(\"example_converted.mid\")"
   ]
  },
  {
   "cell_type": "markdown",
   "metadata": {
    "heading_collapsed": true
   },
   "source": [
    "## Run this code of midi player doesn't work"
   ]
  },
  {
   "cell_type": "code",
   "execution_count": 5,
   "metadata": {
    "ExecuteTime": {
     "end_time": "2019-09-07T23:36:14.246714Z",
     "start_time": "2019-09-07T23:36:10.117106Z"
    },
    "hidden": true
   },
   "outputs": [
    {
     "name": "stdout",
     "output_type": "stream",
     "text": [
      "Music file data/midi/Alan Walker - Alone  (midi by Carlo Prato) (www.cprato.com).mid loaded!\n"
     ]
    },
    {
     "ename": "SystemExit",
     "evalue": "",
     "output_type": "error",
     "traceback": [
      "An exception has occurred, use %tb to see the full traceback.\n",
      "\u001b[0;31mSystemExit\u001b[0m\n"
     ]
    },
    {
     "name": "stderr",
     "output_type": "stream",
     "text": [
      "/Users/matthewlee/anaconda3/envs/nlp/lib/python3.6/site-packages/IPython/core/interactiveshell.py:3334: UserWarning: To exit: use 'exit', 'quit', or Ctrl-D.\n",
      "  warn(\"To exit: use 'exit', 'quit', or Ctrl-D.\", stacklevel=1)\n"
     ]
    }
   ],
   "source": [
    "# Run this code of midi player doesn't work\n",
    "\n",
    "midi_file = 'data/midi/'+df_edm['filenames'][0]\n",
    "freq = 44100    # audio CD quality\n",
    "bitsize = -16   # unsigned 16 bit\n",
    "channels = 2    # 1 is mono, 2 is stereo\n",
    "buffer = 1024    # number of samples\n",
    "pygame.mixer.init(freq, bitsize, channels, buffer)\n",
    "\n",
    "# optional volume 0 to 1.0\n",
    "pygame.mixer.music.set_volume(0.8)\n",
    "try:\n",
    "    play_music(midi_file)\n",
    "except KeyboardInterrupt:\n",
    "    # if user hits Ctrl/C then exit\n",
    "    # (works only in console mode)\n",
    "    pygame.mixer.music.fadeout(1000)\n",
    "    pygame.mixer.music.stop()\n",
    "    raise SystemExit"
   ]
  },
  {
   "cell_type": "markdown",
   "metadata": {},
   "source": [
    "# Midi <-> CSV"
   ]
  },
  {
   "cell_type": "markdown",
   "metadata": {},
   "source": [
    "## Compile data in pandas dataframe"
   ]
  },
  {
   "cell_type": "code",
   "execution_count": 3,
   "metadata": {
    "ExecuteTime": {
     "end_time": "2019-09-07T23:35:44.721123Z",
     "start_time": "2019-09-07T23:35:44.387924Z"
    }
   },
   "outputs": [],
   "source": [
    "import py_midicsv\n",
    "import os\n",
    "\n",
    "# Load file names\n",
    "filenames = os.listdir('data/midi')\n",
    "if '.DS_Store' in filenames:\n",
    "    filenames.remove('.DS_Store')\n",
    "\n",
    "filenames_clean = filenames.copy()\n",
    "# Remove Unnecessary Strings\n",
    "for ix,file in enumerate(filenames_clean):\n",
    "    filenames_clean[ix] = filenames_clean[ix].replace('  (midi by Carlo Prato) (www.cprato.com)','')\n",
    "    filenames_clean[ix] = filenames_clean[ix].replace(' (midi by Carlo Prato) (www.cprato.com)','')\n",
    "\n",
    "# Generate Pandas Dataframe with filenames and CSV version of MIDI files\n",
    "csvs = []\n",
    "music_type = []\n",
    "for filename in filenames:\n",
    "    csvs.append(py_midicsv.midi_to_csv('data/midi/'+filename))\n",
    "df_edm = pd.DataFrame({'filenames':filenames,'filenames_clean':filenames_clean,'csvs':csvs})\n",
    "df_edm['filenames_clean2'] = df_edm['filenames_clean'].copy()\n",
    "df_edm['filenames_clean2'] = df_edm['filenames_clean2'].apply(lambda x:x.upper())\n",
    "df_edm.sort_values(by=['filenames_clean2'],inplace=True)\n",
    "df_edm.drop(columns=['filenames_clean2'],inplace=True)\n",
    "df_edm.reset_index(drop=True,inplace=True)\n",
    "\n",
    "# # Parse the CSV output of the previous command back into a MIDI file\n",
    "# midi_object = py_midicsv.csv_to_midi(csv_string)\n",
    "\n",
    "# # Save the parsed MIDI file to disk\n",
    "# with open(\"example_converted.mid\", \"wb\") as output_file:\n",
    "#     midi_writer = py_midicsv.FileWriter(output_file)\n",
    "#     midi_writer.write(midi_object)"
   ]
  },
  {
   "cell_type": "markdown",
   "metadata": {
    "heading_collapsed": true
   },
   "source": [
    "## Print indexes of instruments"
   ]
  },
  {
   "cell_type": "code",
   "execution_count": 6,
   "metadata": {
    "ExecuteTime": {
     "end_time": "2019-09-03T20:10:30.965482Z",
     "start_time": "2019-09-03T20:10:30.889665Z"
    },
    "hidden": true
   },
   "outputs": [
    {
     "name": "stdout",
     "output_type": "stream",
     "text": [
      "Alan Walker - Alone.mid [index] : 0\n",
      "8 3, 0, Title_t, \"Lead\"\n",
      "\n",
      "336 4, 0, Title_t, \"Bass\"\n",
      "\n",
      "640 5, 0, Title_t, \"Drums\"\n",
      "\n",
      "878 6, 0, Title_t, \"Alan Walker - Alone\"\n",
      "\n",
      "926 7, 0, Title_t, \"Carlo Prato\"\n",
      "\n",
      "974 8, 0, Title_t, \"cprato.com\"\n",
      "\n",
      "Alan Walker - Faded (Original Mix).mid [index] : 1\n",
      "10 3, 0, Title_t, \"Piano\"\n",
      "\n",
      "370 4, 0, Title_t, \"Lead\"\n",
      "\n",
      "708 5, 0, Title_t, \"Bass\"\n",
      "\n",
      "892 6, 0, Title_t, \"Drums\"\n",
      "\n",
      "1138 7, 0, Title_t, \"Alan Walker - Faded\"\n",
      "\n",
      "1194 8, 0, Title_t, \"Carlo Prato\"\n",
      "\n",
      "1250 9, 0, Title_t, \"cprato.com\"\n",
      "\n",
      "Alan Walker - Sing Me To Sleep.mid [index] : 2\n",
      "8 3, 0, Title_t, \"Lead\"\n",
      "\n",
      "312 4, 0, Title_t, \"Bass\"\n",
      "\n",
      "440 5, 0, Title_t, \"Drums\"\n",
      "\n",
      "1132 6, 0, Title_t, \"Alan Walker - Sing Me To Sleep\"\n",
      "\n",
      "1180 7, 0, Title_t, \"Carlo Prato\"\n",
      "\n",
      "1228 8, 0, Title_t, \"cprato.com\"\n",
      "\n",
      "Calvin Harris - Blame.mid [index] : 3\n",
      "8 3, 0, Title_t, \"Lead\"\n",
      "\n",
      "344 4, 0, Title_t, \"Bass\"\n",
      "\n",
      "648 5, 0, Title_t, \"Drums\"\n",
      "\n",
      "886 6, 0, Title_t, \"Calvin Harris - Blame\"\n",
      "\n",
      "934 7, 0, Title_t, \"Carlo Prato\"\n",
      "\n",
      "982 8, 0, Title_t, \"cprato.com\"\n",
      "\n",
      "Calvin Harris - My Way.mid [index] : 4\n",
      "8 3, 0, Title_t, \"Lead\"\n",
      "\n",
      "264 4, 0, Title_t, \"Piano\"\n",
      "\n",
      "536 5, 0, Title_t, \"Bass\"\n",
      "\n",
      "656 6, 0, Title_t, \"Drums\"\n",
      "\n",
      "1042 7, 0, Title_t, \"Calvin Harris - My Way\"\n",
      "\n",
      "1084 8, 0, Title_t, \"Carlo Prato\"\n",
      "\n",
      "1126 9, 0, Title_t, \"cprato.com\"\n",
      "\n",
      "deadmau5 - 2448.mid [index] : 5\n",
      "8 3, 0, Title_t, \"Lead\"\n",
      "\n",
      "272 4, 0, Title_t, \"Chords\"\n",
      "\n",
      "386 5, 0, Title_t, \"Bass\"\n",
      "\n",
      "488 6, 0, Title_t, \"Drums\"\n",
      "\n",
      "848 7, 0, Title_t, \"deadmau5 - 2448\"\n",
      "\n",
      "896 8, 0, Title_t, \"Carlo Prato\"\n",
      "\n",
      "944 9, 0, Title_t, \"cprato.com\"\n",
      "\n",
      "deadmau5 - Deus Ex Machina.mid [index] : 6\n",
      "8 3, 0, Title_t, \"Lead\"\n",
      "\n",
      "64 4, 0, Title_t, \"Pad\"\n",
      "\n",
      "150 5, 0, Title_t, \"Bass\"\n",
      "\n",
      "326 6, 0, Title_t, \"Drums\"\n",
      "\n",
      "564 7, 0, Title_t, \"Deus Ex Machina\"\n",
      "\n",
      "612 8, 0, Title_t, \"Carlo Prato\"\n",
      "\n",
      "660 9, 0, Title_t, \"cprato.com\"\n",
      "\n",
      "deadmau5 - Hyperlandia.mid [index] : 7\n",
      "8 3, 0, Title_t, \"Lead\"\n",
      "\n",
      "84 4, 0, Title_t, \"Voice\"\n",
      "\n",
      "160 5, 0, Title_t, \"Pad\"\n",
      "\n",
      "224 6, 0, Title_t, \"Bass\"\n",
      "\n",
      "656 7, 0, Title_t, \"Drums\"\n",
      "\n",
      "1180 8, 0, Title_t, \"deadmau5 - Hyperlandia\"\n",
      "\n",
      "1222 9, 0, Title_t, \"Carlo Prato\"\n",
      "\n",
      "1264 10, 0, Title_t, \"cprato.com\"\n",
      "\n",
      "deadmau5 - No Problem.mid [index] : 8\n",
      "8 3, 0, Title_t, \"Lead\"\n",
      "\n",
      "324 4, 0, Title_t, \"Second Lead\"\n",
      "\n",
      "522 5, 0, Title_t, \"Chords\"\n",
      "\n",
      "594 6, 0, Title_t, \"Bass\"\n",
      "\n",
      "770 7, 0, Title_t, \"Drums\"\n",
      "\n",
      "1008 8, 0, Title_t, \"deadmau5 - No Problem\"\n",
      "\n",
      "1056 9, 0, Title_t, \"Carlo Prato\"\n",
      "\n",
      "1104 10, 0, Title_t, \"cprato.com\"\n",
      "\n",
      "deadmau5 - So There I Was.mid [index] : 9\n",
      "8 3, 0, Title_t, \"Lead\"\n",
      "\n",
      "232 4, 0, Title_t, \"Bass\"\n",
      "\n",
      "408 5, 0, Title_t, \"Drums\"\n",
      "\n",
      "768 6, 0, Title_t, \"Deadmau5 - So There I Was\"\n",
      "\n",
      "816 7, 0, Title_t, \"Carlo Prato\"\n",
      "\n",
      "864 8, 0, Title_t, \"cprato.com\"\n",
      "\n",
      "deadmau5 feat. Grabbitz - Let Go.mid [index] : 10\n",
      "8 3, 0, Title_t, \"Lead\"\n",
      "\n",
      "306 4, 0, Title_t, \"Bass\"\n",
      "\n",
      "482 5, 0, Title_t, \"Drums\"\n",
      "\n",
      "864 6, 0, Title_t, \"Deadmau5 feat. Grabbitz \\302\\226 Let Go\"\n",
      "\n",
      "912 7, 0, Title_t, \"Carlo Prato\"\n",
      "\n",
      "960 8, 0, Title_t, \"cprato.com\"\n",
      "\n",
      "Galantis - Love On Me.mid [index] : 11\n",
      "8 3, 0, Title_t, \"Lead\"\n",
      "\n",
      "252 4, 0, Title_t, \"Bass\"\n",
      "\n",
      "460 5, 0, Title_t, \"Drums\"\n",
      "\n",
      "698 6, 0, Title_t, \"Galantis & Hook N Sling - Love On Me\"\n",
      "\n",
      "746 7, 0, Title_t, \"Carlo Prato\"\n",
      "\n",
      "794 8, 0, Title_t, \"cprato.com\"\n",
      "\n",
      "Galantis - No Money.mid [index] : 12\n",
      "8 3, 0, Title_t, \"Lead\"\n",
      "\n",
      "248 4, 0, Title_t, \"Chords\"\n",
      "\n",
      "872 5, 0, Title_t, \"Bass\"\n",
      "\n",
      "1064 6, 0, Title_t, \"Drums\"\n",
      "\n",
      "1302 7, 0, Title_t, \"Galantis - No Money\"\n",
      "\n",
      "1350 8, 0, Title_t, \"Carlo Prato\"\n",
      "\n",
      "1398 9, 0, Title_t, \"cprato.com\"\n",
      "\n",
      "Galimatias - Noelle's Eloquence.mid [index] : 13\n",
      "8 3, 0, Title_t, \"Chords\"\n",
      "\n",
      "314 4, 0, Title_t, \"Bass\"\n",
      "\n",
      "402 5, 0, Title_t, \"Drums\"\n",
      "\n",
      "786 6, 0, Title_t, \"Galimatias - Noelle's Eloquence\"\n",
      "\n",
      "828 7, 0, Title_t, \"Carlo Prato\"\n",
      "\n",
      "870 8, 0, Title_t, \"cprato.com\"\n",
      "\n",
      "Madeon - Icarus.mid [index] : 14\n",
      "8 3, 0, Title_t, \"Lead\"\n",
      "\n",
      "160 4, 0, Title_t, \"Bass\"\n",
      "\n",
      "286 5, 0, Title_t, \"Drums\"\n",
      "\n",
      "518 6, 0, Title_t, \"Madeon - Icarus\"\n",
      "\n",
      "560 7, 0, Title_t, \"Carlo Prato\"\n",
      "\n",
      "602 8, 0, Title_t, \"cprato.com\"\n",
      "\n",
      "Marshmello - Alone (Original Mix).mid [index] : 15\n",
      "8 3, 0, Title_t, \"Lead\"\n",
      "\n",
      "316 4, 0, Title_t, \"Voice\"\n",
      "\n",
      "510 5, 0, Title_t, \"Voice Synth\"\n",
      "\n",
      "706 6, 0, Title_t, \"Second Lead\"\n",
      "\n",
      "982 7, 0, Title_t, \"Strings\"\n",
      "\n",
      "1286 8, 0, Title_t, \"Saw Chords\"\n",
      "\n",
      "1406 9, 0, Title_t, \"Piano\"\n",
      "\n",
      "1508 10, 0, Title_t, \"Bassmelody\"\n",
      "\n",
      "2118 11, 0, Title_t, \"Bass\"\n",
      "\n",
      "2422 12, 0, Title_t, \"Drums\"\n",
      "\n",
      "3022 13, 0, Title_t, \"Marshmello - Alone\"\n",
      "\n",
      "3070 14, 0, Title_t, \"Carlo Prato\"\n",
      "\n",
      "3118 15, 0, Title_t, \"cprato.com\"\n",
      "\n",
      "Marshmello - Ritual (Original Mix).mid [index] : 16\n",
      "8 3, 0, Title_t, \"Lead\"\n",
      "\n",
      "320 4, 0, Title_t, \"Bass\"\n",
      "\n",
      "880 5, 0, Title_t, \"Drums\"\n",
      "\n",
      "1118 6, 0, Title_t, \"Marshmello - Ritual\"\n",
      "\n",
      "1166 7, 0, Title_t, \"Carlo Prato\"\n",
      "\n",
      "1214 8, 0, Title_t, \"cprato.com\"\n",
      "\n",
      "Marshmello - Summer.mid [index] : 17\n",
      "8 3, 0, Title_t, \"Lead\"\n",
      "\n",
      "144 4, 0, Title_t, \"Bass\"\n",
      "\n",
      "224 5, 0, Title_t, \"Drums\"\n",
      "\n",
      "812 6, 0, Title_t, \"Marshmello - Summer\"\n",
      "\n",
      "860 7, 0, Title_t, \"Carlo Prato\"\n",
      "\n",
      "908 8, 0, Title_t, \"cprato.com\"\n",
      "\n",
      "Martin Garrix & Bebe Rexha - In The Name Of Love.mid [index] : 18\n",
      "8 3, 0, Title_t, \"Lead\"\n",
      "\n",
      "216 4, 0, Title_t, \"MIDI Out\"\n",
      "\n",
      "328 5, 0, Title_t, \"Bass\"\n",
      "\n",
      "408 6, 0, Title_t, \"Drums\"\n",
      "\n",
      "634 7, 0, Title_t, \"Martin Garrix & Bebe Rexha - In The Name Of Love\"\n",
      "\n",
      "676 8, 0, Title_t, \"Carlo Prato\"\n",
      "\n",
      "718 9, 0, Title_t, \"cprato.com\"\n",
      "\n",
      "Martin Garrix & Dua Lipa - Scared To Be Lonely.mid [index] : 19\n",
      "8 3, 0, Title_t, \"Lead\"\n",
      "\n",
      "188 4, 0, Title_t, \"Chords\"\n",
      "\n",
      "412 5, 0, Title_t, \"Bass\"\n",
      "\n",
      "548 6, 0, Title_t, \"Drums\"\n",
      "\n",
      "960 7, 0, Title_t, \"Martin Garrix & Dua Lipa - Scared To Be Lonely\"\n",
      "\n",
      "1008 8, 0, Title_t, \"Carlo Prato\"\n",
      "\n",
      "1056 9, 0, Title_t, \"cprato.com\"\n",
      "\n",
      "Martin Garrix ft. The Federal Empire - Hold On & Believe (Original Mix).mid [index] : 20\n",
      "8 3, 0, Title_t, \"Lead\"\n",
      "\n",
      "238 4, 0, Title_t, \"Bass\"\n",
      "\n",
      "456 5, 0, Title_t, \"Drums\"\n",
      "\n",
      "682 6, 0, Title_t, \"Martin Garrix ft. The Federal Empire - Hold On & Believe (Original Mix)\"\n",
      "\n",
      "724 7, 0, Title_t, \"Carlo Prato\"\n",
      "\n",
      "766 8, 0, Title_t, \"cprato.com\"\n",
      "\n",
      "Nero - The Thrill (Porter Robinson Remix).mid [index] : 21\n",
      "8 3, 0, Title_t, \"Lead\"\n",
      "\n",
      "728 4, 0, Title_t, \"Chords\"\n",
      "\n",
      "1288 5, 0, Title_t, \"Bass\"\n",
      "\n",
      "1720 6, 0, Title_t, \"Drums\"\n",
      "\n",
      "1952 7, 0, Title_t, \"Nero - The Thrill (Porter Robinson Remix)\"\n",
      "\n",
      "1994 8, 0, Title_t, \"Carlo Prato\"\n",
      "\n",
      "2036 9, 0, Title_t, \"cprato.com\"\n",
      "\n",
      "Pegboard Nerds - Emoji.mid [index] : 22\n",
      "8 3, 0, Title_t, \"Lead\"\n",
      "\n",
      "160 4, 0, Title_t, \"Second Lead\"\n",
      "\n",
      "232 5, 0, Title_t, \"Chords\"\n",
      "\n",
      "616 6, 0, Title_t, \"Bass\"\n",
      "\n",
      "776 7, 0, Title_t, \"Drums\"\n",
      "\n",
      "1046 8, 0, Title_t, \"Pegboard Nerds - Emoji\"\n",
      "\n",
      "1088 9, 0, Title_t, \"Carlo Prato\"\n",
      "\n",
      "1130 10, 0, Title_t, \"cprato.com\"\n",
      "\n",
      "Pegboard Nerds - Melodymania.mid [index] : 23\n",
      "8 3, 0, Title_t, \"Lead\"\n",
      "\n",
      "366 4, 0, Title_t, \"Chords\"\n",
      "\n",
      "914 5, 0, Title_t, \"Bass\"\n",
      "\n",
      "1198 6, 0, Title_t, \"Drums\"\n",
      "\n",
      "1436 7, 0, Title_t, \"Pegboard Nerds - Melodymania\"\n",
      "\n",
      "1484 8, 0, Title_t, \"Carlo Prato\"\n",
      "\n",
      "1532 9, 0, Title_t, \"cprato.com\"\n",
      "\n",
      "Pendulum - Salt In The Wounds.mid [index] : 24\n",
      "8 3, 0, Title_t, \"Lead\"\n",
      "\n",
      "140 4, 0, Title_t, \"MIDI Out\"\n",
      "\n",
      "312 5, 0, Title_t, \"Bass\"\n",
      "\n",
      "392 6, 0, Title_t, \"Drums\"\n",
      "\n",
      "732 7, 0, Title_t, \"Pendulum - Salt In The Wounds\"\n",
      "\n",
      "774 8, 0, Title_t, \"Carlo Prato\"\n",
      "\n",
      "816 9, 0, Title_t, \"cprato.com\"\n",
      "\n",
      "Pendulum - Witchcraft.mid [index] : 25\n",
      "8 3, 0, Title_t, \"Lead\"\n",
      "\n",
      "282 4, 0, Title_t, \"Bass\"\n",
      "\n",
      "444 5, 0, Title_t, \"Drums\"\n",
      "\n",
      "1122 6, 0, Title_t, \"Pendulum - Witchcraft\"\n",
      "\n",
      "1164 7, 0, Title_t, \"Carlo Prato\"\n",
      "\n",
      "1206 8, 0, Title_t, \"cprato.com\"\n",
      "\n",
      "Porter Robinson & Madeon - Shelter (Original Mix).mid [index] : 26\n",
      "8 3, 0, Title_t, \"Piano\"\n",
      "\n",
      "128 4, 0, Title_t, \"Chords\"\n",
      "\n",
      "272 5, 0, Title_t, \"Voice Synth\"\n",
      "\n",
      "650 6, 0, Title_t, \"Bass\"\n",
      "\n",
      "746 7, 0, Title_t, \"Drums\"\n",
      "\n",
      "1180 8, 0, Title_t, \"Porter Robinson & Madeon - Shelter\"\n",
      "\n",
      "1228 9, 0, Title_t, \"Carlo Prato\"\n",
      "\n",
      "1276 10, 0, Title_t, \"cprato.com\"\n",
      "\n",
      "Porter Robinson - Sad Machine.mid [index] : 27\n",
      "8 3, 0, Title_t, \"Lead\"\n",
      "\n",
      "312 4, 0, Title_t, \"Bass\"\n",
      "\n",
      "480 5, 0, Title_t, \"Pad\"\n",
      "\n",
      "888 6, 0, Title_t, \"Drums\"\n",
      "\n",
      "1244 7, 0, Title_t, \"Porter Robinson - Sad Machine\"\n",
      "\n",
      "1286 8, 0, Title_t, \"Carlo Prato\"\n",
      "\n",
      "1328 9, 0, Title_t, \"cprato.com\"\n",
      "\n",
      "Vanic x K.Flay - Make Me Fade.mid [index] : 28\n",
      "8 3, 0, Title_t, \"Lead\"\n",
      "\n",
      "160 4, 0, Title_t, \"Piano\"\n",
      "\n",
      "352 5, 0, Title_t, \"Bass\"\n",
      "\n",
      "432 6, 0, Title_t, \"Drums\"\n",
      "\n",
      "990 7, 0, Title_t, \"Vanic x K.Flay - Make Me Fade\"\n",
      "\n",
      "1038 8, 0, Title_t, \"Carlo Prato\"\n",
      "\n",
      "1086 9, 0, Title_t, \"cprato.com\"\n",
      "\n",
      "Wax Motif & Vindata - Crazy.mid [index] : 29\n",
      "8 3, 0, Title_t, \"Lead\"\n",
      "\n",
      "188 4, 0, Title_t, \"Second Lead\"\n",
      "\n",
      "332 5, 0, Title_t, \"Bass\"\n",
      "\n",
      "512 6, 0, Title_t, \"Drums\"\n",
      "\n",
      "750 7, 0, Title_t, \"Wax Motif & Vindata - Crazy\"\n",
      "\n",
      "798 8, 0, Title_t, \"Carlo Prato\"\n",
      "\n",
      "846 9, 0, Title_t, \"cprato.com\"\n",
      "\n",
      "Zedd & Hailee Steinfeld Grey - Starving.mid [index] : 30\n",
      "8 3, 0, Title_t, \"Lead\"\n",
      "\n",
      "280 4, 0, Title_t, \"Chords\"\n",
      "\n",
      "808 5, 0, Title_t, \"Bass\"\n",
      "\n",
      "1016 6, 0, Title_t, \"Drums\"\n",
      "\n",
      "1372 7, 0, Title_t, \"Zedd & Hailee Steinfeld Grey - Starving\"\n",
      "\n",
      "1420 8, 0, Title_t, \"Carlo Prato\"\n",
      "\n",
      "1468 9, 0, Title_t, \"cprato.com\"\n",
      "\n"
     ]
    }
   ],
   "source": [
    "for ix,song in enumerate(df_edm['csvs']):\n",
    "    print(df_edm['filenames_clean'][ix]+' [index] : '+str(ix))\n",
    "    for jx,row in enumerate(song):\n",
    "        if 'Title' in row:\n",
    "            print(jx,row)\n"
   ]
  },
  {
   "cell_type": "markdown",
   "metadata": {
    "heading_collapsed": true
   },
   "source": [
    "## Print Header Info of All Songs"
   ]
  },
  {
   "cell_type": "code",
   "execution_count": 79,
   "metadata": {
    "ExecuteTime": {
     "end_time": "2019-09-04T04:22:05.719506Z",
     "start_time": "2019-09-04T04:22:05.696567Z"
    },
    "hidden": true
   },
   "outputs": [
    {
     "name": "stdout",
     "output_type": "stream",
     "text": [
      "['0, 0, Header, 1, 8, 96\\n', '1, 0, Start_track\\n', '1, 0, Time_signature, 4, 2, 24, 8\\n', '1, 0, End_track\\n', '2, 0, Start_track\\n', '2, 0, Tempo, 618557\\n', '2, 0, End_track\\n']\n",
      "\n",
      "\n",
      "['0, 0, Header, 1, 9, 96\\n', '1, 0, Start_track\\n', '1, 0, Time_signature, 4, 2, 24, 8\\n', '1, 0, End_track\\n', '2, 0, Start_track\\n', '2, 0, Tempo, 666667\\n', '2, 0, Tempo, 666667\\n', '2, 0, Tempo, 666667\\n', '2, 0, End_track\\n']\n",
      "\n",
      "\n",
      "['0, 0, Header, 1, 8, 96\\n', '1, 0, Start_track\\n', '1, 0, Time_signature, 4, 2, 24, 8\\n', '1, 0, End_track\\n', '2, 0, Start_track\\n', '2, 0, Tempo, 681818\\n', '2, 0, End_track\\n']\n",
      "\n",
      "\n",
      "['0, 0, Header, 1, 8, 96\\n', '1, 0, Start_track\\n', '1, 0, Time_signature, 4, 2, 24, 8\\n', '1, 0, End_track\\n', '2, 0, Start_track\\n', '2, 0, Tempo, 468750\\n', '2, 0, End_track\\n']\n",
      "\n",
      "\n",
      "['0, 0, Header, 1, 9, 96\\n', '1, 0, Start_track\\n', '1, 0, Time_signature, 4, 2, 24, 8\\n', '1, 0, End_track\\n', '2, 0, Start_track\\n', '2, 0, Tempo, 500000\\n', '2, 0, End_track\\n']\n",
      "\n",
      "\n",
      "['0, 0, Header, 1, 9, 96\\n', '1, 0, Start_track\\n', '1, 0, Time_signature, 4, 2, 24, 8\\n', '1, 0, End_track\\n', '2, 0, Start_track\\n', '2, 0, Tempo, 468750\\n', '2, 0, End_track\\n']\n",
      "\n",
      "\n",
      "['0, 0, Header, 1, 9, 96\\n', '1, 0, Start_track\\n', '1, 0, Time_signature, 4, 2, 24, 8\\n', '1, 0, End_track\\n', '2, 0, Start_track\\n', '2, 0, Tempo, 468750\\n', '2, 0, End_track\\n']\n",
      "\n",
      "\n",
      "['0, 0, Header, 1, 10, 96\\n', '1, 0, Start_track\\n', '1, 0, Time_signature, 4, 2, 24, 8\\n', '1, 0, End_track\\n', '2, 0, Start_track\\n', '2, 0, Tempo, 612245\\n', '2, 0, End_track\\n']\n",
      "\n",
      "\n",
      "['0, 0, Header, 1, 10, 96\\n', '1, 0, Start_track\\n', '1, 0, Time_signature, 4, 2, 24, 8\\n', '1, 0, End_track\\n', '2, 0, Start_track\\n', '2, 0, Tempo, 530973\\n', '2, 0, End_track\\n']\n",
      "\n",
      "\n",
      "['0, 0, Header, 1, 8, 96\\n', '1, 0, Start_track\\n', '1, 0, Time_signature, 4, 2, 24, 8\\n', '1, 0, End_track\\n', '2, 0, Start_track\\n', '2, 0, Tempo, 468721\\n', '2, 0, End_track\\n']\n",
      "\n",
      "\n",
      "['0, 0, Header, 1, 8, 96\\n', '1, 0, Start_track\\n', '1, 0, Time_signature, 4, 2, 24, 8\\n', '1, 0, End_track\\n', '2, 0, Start_track\\n', '2, 0, Tempo, 468750\\n', '2, 0, End_track\\n']\n",
      "\n",
      "\n",
      "['0, 0, Header, 1, 8, 96\\n', '1, 0, Start_track\\n', '1, 0, Time_signature, 4, 2, 24, 8\\n', '1, 0, End_track\\n', '2, 0, Start_track\\n', '2, 0, Tempo, 483871\\n', '2, 0, End_track\\n']\n",
      "\n",
      "\n",
      "['0, 0, Header, 1, 9, 96\\n', '1, 0, Start_track\\n', '1, 0, Time_signature, 4, 2, 24, 8\\n', '1, 0, End_track\\n', '2, 0, Start_track\\n', '2, 0, Tempo, 476190\\n', '2, 0, End_track\\n']\n",
      "\n",
      "\n",
      "['0, 0, Header, 1, 8, 96\\n', '1, 0, Start_track\\n', '1, 0, Time_signature, 4, 2, 24, 8\\n', '1, 0, End_track\\n', '2, 0, Start_track\\n', '2, 0, Tempo, 722892\\n', '2, 0, End_track\\n']\n",
      "\n",
      "\n",
      "['0, 0, Header, 1, 8, 96\\n', '1, 0, Start_track\\n', '1, 0, Time_signature, 4, 2, 24, 8\\n', '1, 0, End_track\\n', '2, 0, Start_track\\n', '2, 0, Tempo, 476190\\n', '2, 0, End_track\\n']\n",
      "\n",
      "\n",
      "['0, 0, Header, 1, 15, 96\\n', '1, 0, Start_track\\n', '1, 0, Time_signature, 4, 2, 24, 8\\n', '1, 0, End_track\\n', '2, 0, Start_track\\n', '2, 0, Tempo, 422535\\n', '2, 0, End_track\\n']\n",
      "\n",
      "\n",
      "['0, 0, Header, 1, 8, 96\\n', '1, 0, Start_track\\n', '1, 0, Time_signature, 4, 2, 24, 8\\n', '1, 0, End_track\\n', '2, 0, Start_track\\n', '2, 0, Tempo, 545455\\n', '2, 0, End_track\\n']\n",
      "\n",
      "\n",
      "['0, 0, Header, 1, 8, 96\\n', '1, 0, Start_track\\n', '1, 0, Time_signature, 4, 2, 24, 8\\n', '1, 0, End_track\\n', '2, 0, Start_track\\n', '2, 0, Tempo, 422535\\n', '2, 0, End_track\\n']\n",
      "\n",
      "\n",
      "['0, 0, Header, 1, 9, 96\\n', '1, 0, Start_track\\n', '1, 0, Time_signature, 4, 2, 24, 8\\n', '1, 0, End_track\\n', '2, 0, Start_track\\n', '2, 0, Tempo, 447761\\n', '2, 0, End_track\\n']\n",
      "\n",
      "\n",
      "['0, 0, Header, 1, 9, 96\\n', '1, 0, Start_track\\n', '1, 0, Time_signature, 4, 2, 24, 8\\n', '1, 0, End_track\\n', '2, 0, Start_track\\n', '2, 0, Tempo, 434783\\n', '2, 0, End_track\\n']\n",
      "\n",
      "\n",
      "['0, 0, Header, 1, 8, 96\\n', '1, 0, Start_track\\n', '1, 0, Time_signature, 4, 2, 24, 8\\n', '1, 0, End_track\\n', '2, 0, Start_track\\n', '2, 0, Tempo, 468750\\n', '2, 0, End_track\\n']\n",
      "\n",
      "\n",
      "['0, 0, Header, 1, 9, 96\\n', '1, 0, Start_track\\n', '1, 0, Time_signature, 4, 2, 24, 8\\n', '1, 0, End_track\\n', '2, 0, Start_track\\n', '2, 0, Tempo, 750000\\n', '2, 0, End_track\\n']\n",
      "\n",
      "\n",
      "['0, 0, Header, 1, 10, 96\\n', '1, 0, Start_track\\n', '1, 0, Time_signature, 4, 2, 24, 8\\n', '1, 0, End_track\\n', '2, 0, Start_track\\n', '2, 0, Tempo, 368098\\n', '2, 0, End_track\\n']\n",
      "\n",
      "\n",
      "['0, 0, Header, 1, 9, 96\\n', '1, 0, Start_track\\n', '1, 0, Time_signature, 4, 2, 24, 8\\n', '1, 0, End_track\\n', '2, 0, Start_track\\n', '2, 0, Tempo, 468750\\n', '2, 0, End_track\\n']\n",
      "\n",
      "\n",
      "['0, 0, Header, 1, 9, 96\\n', '1, 0, Start_track\\n', '1, 0, Time_signature, 4, 2, 24, 8\\n', '1, 0, End_track\\n', '2, 0, Start_track\\n', '2, 0, Tempo, 344828\\n', '2, 0, End_track\\n']\n",
      "\n",
      "\n",
      "['0, 0, Header, 1, 8, 96\\n', '1, 0, Start_track\\n', '1, 0, Time_signature, 4, 2, 24, 8\\n', '1, 0, End_track\\n', '2, 0, Start_track\\n', '2, 0, Tempo, 344828\\n', '2, 0, End_track\\n']\n",
      "\n",
      "\n",
      "['0, 0, Header, 1, 10, 96\\n', '1, 0, Start_track\\n', '1, 0, Time_signature, 4, 2, 24, 8\\n', '1, 0, End_track\\n', '2, 0, Start_track\\n', '2, 0, Tempo, 600000\\n', '2, 0, End_track\\n']\n",
      "\n",
      "\n",
      "['0, 0, Header, 1, 9, 96\\n', '1, 0, Start_track\\n', '1, 0, Time_signature, 4, 2, 24, 8\\n', '1, 0, End_track\\n', '2, 0, Start_track\\n', '2, 0, Tempo, 677966\\n', '2, 0, End_track\\n']\n",
      "\n",
      "\n",
      "['0, 0, Header, 1, 9, 96\\n', '1, 0, Start_track\\n', '1, 0, Time_signature, 4, 2, 24, 8\\n', '1, 0, End_track\\n', '2, 0, Start_track\\n', '2, 0, Tempo, 750000\\n', '2, 0, End_track\\n']\n",
      "\n",
      "\n",
      "['0, 0, Header, 1, 9, 96\\n', '1, 0, Start_track\\n', '1, 0, Time_signature, 4, 2, 24, 8\\n', '1, 0, End_track\\n', '2, 0, Start_track\\n', '2, 0, Tempo, 480000\\n', '2, 0, End_track\\n']\n",
      "\n",
      "\n",
      "['0, 0, Header, 1, 9, 96\\n', '1, 0, Start_track\\n', '1, 0, Time_signature, 4, 2, 24, 8\\n', '1, 0, End_track\\n', '2, 0, Start_track\\n', '2, 0, Tempo, 600000\\n', '2, 0, End_track\\n']\n",
      "\n",
      "\n"
     ]
    }
   ],
   "source": [
    "for i in range(len(instruments)):\n",
    "    print(instruments[i][0])\n",
    "    print('\\n')"
   ]
  },
  {
   "cell_type": "markdown",
   "metadata": {
    "heading_collapsed": true
   },
   "source": [
    "## Parse instruments for each song"
   ]
  },
  {
   "cell_type": "code",
   "execution_count": 81,
   "metadata": {
    "ExecuteTime": {
     "end_time": "2019-09-04T04:23:32.330753Z",
     "start_time": "2019-09-04T04:23:32.273393Z"
    },
    "hidden": true
   },
   "outputs": [],
   "source": [
    "# For each song, break it up by instruments\n",
    "instruments = []\n",
    "for ix,song in enumerate(df_edm['csvs']):\n",
    "    holder = []\n",
    "    indexes = []\n",
    "    #holder.append(df_edm['filenames_clean'][ix]+' [index] : '+str(ix))\n",
    "    for jx,row in enumerate(song):\n",
    "        if 'Title_t' in row:\n",
    "            indexes.append(jx-1)\n",
    "    # Header and info before first instrument\n",
    "    holder.append(song[0:indexes[0]])\n",
    "    # Add each instrument for each song\n",
    "    for i in range(len(indexes)-1):\n",
    "        holder.append(song[indexes[i]:indexes[i+1]])\n",
    "    instruments.append(holder) \n",
    "\n",
    "# Index of instruments that actually has notes. This is needed to get rid of instruments that doesn't have any notes\n",
    "for ix,song in enumerate(instruments):\n",
    "    keep_instrument_index = []\n",
    "    for jx,instrument in enumerate(song[1:]):\n",
    "        note_on_off = -1\n",
    "        for kx,row in enumerate(instrument):\n",
    "            note_on_off = row.find('Note_on')\n",
    "            if note_on_off!=-1:\n",
    "                keep_instrument_index.append(jx+1)\n",
    "                break\n",
    "    instruments[ix]=instruments[ix][:keep_instrument_index[-1]+1]\n",
    "\n",
    "# Extract only note_on and note_off infor for melodies, bass, and drum\n",
    "melody_name = ['Bassmelody','Chords','Lead','MIDI Out','Pad','Piano','Saw Chords','Second Lead','Strings',\n",
    "'Voice','Voice Synth']\n",
    "bass_name = ['Basses','basses','Bass','bass']\n",
    "drum_name = ['Drums','drums','Drum','drum']\n",
    "melody, bass, drum = [], [], []\n",
    "for ix,song in enumerate(instruments):\n",
    "    melody_holder, bass_holder, drum_holder = [], [], []\n",
    "    for jx,instrument in enumerate(song[1:]):\n",
    "        if instrument[1].split('\"')[1] in bass_name:\n",
    "            first_actual_note_indexes = []\n",
    "            for ix,seq in enumerate(instrument):\n",
    "                if ('Note_on_c' in seq) or ('Note_off_c' in seq):\n",
    "                    first_actual_note_indexes.append(ix)\n",
    "            bass_holder.append(instrument[first_actual_note_indexes[0]:first_actual_note_indexes[-1]+1])  \n",
    "        elif instrument[1].split('\"')[1] in drum_name:\n",
    "            first_actual_note_indexes = []\n",
    "            for ix,seq in enumerate(instrument):\n",
    "                if ('Note_on_c' in seq) or ('Note_off_c' in seq):\n",
    "                    first_actual_note_indexes.append(ix)\n",
    "            drum_holder.append(instrument[first_actual_note_indexes[0]:first_actual_note_indexes[-1]+1])             \n",
    "        else:\n",
    "            first_actual_note_indexes = []\n",
    "            for ix,seq in enumerate(instrument):\n",
    "                if ('Note_on_c' in seq) or ('Note_off_c' in seq):\n",
    "                    first_actual_note_indexes.append(ix)\n",
    "            melody_holder.append(instrument[first_actual_note_indexes[0]:first_actual_note_indexes[-1]+1])\n",
    "    melody.append(melody_holder)\n",
    "    bass.append(bass_holder)\n",
    "    drum.append(drum_holder)\n",
    "    \n",
    "\n",
    "# # Get rid of any 'Control_c','Pitch_bend_c','Program_c'\n",
    "# start_end_track = []\n",
    "# for ix,song in enumerate(instruments):    \n",
    "#     for jx,instrument in enumerate(song):\n",
    "#         remove_control_pitch_program = []\n",
    "#         for kx,row in enumerate(instrument):\n",
    "#             if row.split(', ')[2] not in ['Control_c','Pitch_bend_c','Program_c']:\n",
    "#                 remove_control_pitch_program.append(row)\n",
    "#         instruments[ix][jx] = remove_control_pitch_program  "
   ]
  },
  {
   "cell_type": "markdown",
   "metadata": {
    "heading_collapsed": true
   },
   "source": [
    "## Play "
   ]
  },
  {
   "cell_type": "code",
   "execution_count": 191,
   "metadata": {
    "ExecuteTime": {
     "end_time": "2019-09-05T15:25:29.563885Z",
     "start_time": "2019-09-05T15:25:29.475761Z"
    },
    "hidden": true
   },
   "outputs": [
    {
     "data": {
      "text/plain": [
       "array(['67', '55', '48', '64', '57', '71', '73', '76', '80', '74', '51',\n",
       "       '41', '60', '53', '75', '68', '56', '66', '43', '69', '63', '62',\n",
       "       '50', '70', '61', '78', '81', '52', '83', '72', '40', '59', '58',\n",
       "       '82', '54', '65', '84', '86', '77', '42', '47', '79', '35', '45',\n",
       "       '46', '87', '90', '49', '38', '39', '88', '30', '37', '89'],\n",
       "      dtype=object)"
      ]
     },
     "execution_count": 191,
     "metadata": {},
     "output_type": "execute_result"
    }
   ],
   "source": [
    "# Compile melodies across 31 songs and get unique keys being played\n",
    "holder = []\n",
    "for ix,song in enumerate(melody):\n",
    "    for jx,instrument in enumerate(song):\n",
    "        holder+=[x.split(', ') for x in instrument]  \n",
    "df_all_song_melody = pd.DataFrame(holder )\n",
    "# Timestamp column as integer\n",
    "df_all_song_melody[1] = df_all_song_melody[1].astype('int32')\n",
    "# Set the two instruments as same instrument number\n",
    "df_all_song_melody[0]=3\n",
    "# Set the two instruments as same instrument type\n",
    "df_all_song_melody[3]=12\n",
    "# Reorder df_all_song_melody by timestamp & drop duplicates\n",
    "df_all_song_melody_ordered = df_all_song_melody.sort_values(by=[1]).reset_index(drop=True).copy()\n",
    "df_all_song_melody_ordered.drop_duplicates(inplace=True)\n",
    "\n",
    "# All keys across 31 songs\n",
    "df_all_song_melody_ordered[4].unique()"
   ]
  },
  {
   "cell_type": "code",
   "execution_count": 284,
   "metadata": {
    "ExecuteTime": {
     "end_time": "2019-09-05T15:47:53.546482Z",
     "start_time": "2019-09-05T15:47:53.180703Z"
    },
    "hidden": true
   },
   "outputs": [],
   "source": [
    "# Process one song\n",
    "song_index = 21\n",
    "\n",
    "# Combine melodies\n",
    "holder = []\n",
    "for i in range(len(melody[song_index])):\n",
    "    holder+=[x.split(', ') for x in melody[song_index][i]]\n",
    "df_combined_instrument = pd.DataFrame(holder )\n",
    "# Timestamp column as integer\n",
    "df_combined_instrument[1] = df_combined_instrument[1].astype('int32')\n",
    "# Set the two instruments as same instrument number\n",
    "df_combined_instrument[0]=3\n",
    "# Set the two instruments as same instrument type\n",
    "df_combined_instrument[3]=12\n",
    "# Reorder df_combined_instrument by timestamp & drop duplicates\n",
    "df_combined_instrument_ordered = df_combined_instrument.sort_values(by=[1]).reset_index(drop=True).copy()\n",
    "df_combined_instrument_ordered.drop_duplicates(inplace=True)\n",
    "# Reconstruct ordered data into csv format to be turned into midi file\n",
    "combined_instrument_ordered = []\n",
    "for i in range(len(df_combined_instrument_ordered)):\n",
    "    combined_instrument_ordered.append(', '.join([str(x) for x in df_combined_instrument_ordered.iloc[i].tolist()]))\n",
    "\n",
    "# Song header and end \n",
    "song = df_edm['csvs'][song_index]\n",
    "first_note_on = []\n",
    "for ix,row in enumerate(song):\n",
    "    if row.find('Note_on_c')!=-1:\n",
    "        first_note_on.append(ix) \n",
    "song_start = song[:first_note_on[0]]    \n",
    "song_end = combined_instrument_ordered[-1].split(', ')[:2]\n",
    "song_end.append('End_track\\n')\n",
    "song_end = [', '.join(song_end)]\n",
    "\n",
    "# Need the 'End_track' row at the end of the file so that Midi player works\n",
    "csv_string = song_start+combined_instrument_ordered+song_end\n",
    "play_music_csv(csv_string)\n",
    "\n",
    "# Parse the CSV output of the previous command back into a MIDI file\n",
    "midi_object = py_midicsv.csv_to_midi(csv_string)\n",
    "\n",
    "# Save the parsed MIDI file to disk\n",
    "with open(\"example_converted.mid\", \"wb\") as output_file:\n",
    "    midi_writer = py_midicsv.FileWriter(output_file)\n",
    "    midi_writer.write(midi_object)"
   ]
  },
  {
   "cell_type": "code",
   "execution_count": 172,
   "metadata": {
    "ExecuteTime": {
     "end_time": "2019-09-05T14:59:31.037176Z",
     "start_time": "2019-09-05T14:59:31.012041Z"
    },
    "hidden": true
   },
   "outputs": [
    {
     "data": {
      "text/html": [
       "<div>\n",
       "<style scoped>\n",
       "    .dataframe tbody tr th:only-of-type {\n",
       "        vertical-align: middle;\n",
       "    }\n",
       "\n",
       "    .dataframe tbody tr th {\n",
       "        vertical-align: top;\n",
       "    }\n",
       "\n",
       "    .dataframe thead th {\n",
       "        text-align: right;\n",
       "    }\n",
       "</style>\n",
       "<table border=\"1\" class=\"dataframe\">\n",
       "  <thead>\n",
       "    <tr style=\"text-align: right;\">\n",
       "      <th></th>\n",
       "      <th>0</th>\n",
       "      <th>1</th>\n",
       "      <th>2</th>\n",
       "      <th>3</th>\n",
       "      <th>4</th>\n",
       "      <th>5</th>\n",
       "    </tr>\n",
       "  </thead>\n",
       "  <tbody>\n",
       "    <tr>\n",
       "      <th>0</th>\n",
       "      <td>3</td>\n",
       "      <td>0</td>\n",
       "      <td>Note_on_c</td>\n",
       "      <td>12</td>\n",
       "      <td>80</td>\n",
       "      <td>98\\n</td>\n",
       "    </tr>\n",
       "    <tr>\n",
       "      <th>1</th>\n",
       "      <td>3</td>\n",
       "      <td>0</td>\n",
       "      <td>Note_on_c</td>\n",
       "      <td>12</td>\n",
       "      <td>76</td>\n",
       "      <td>98\\n</td>\n",
       "    </tr>\n",
       "    <tr>\n",
       "      <th>2</th>\n",
       "      <td>3</td>\n",
       "      <td>0</td>\n",
       "      <td>Note_on_c</td>\n",
       "      <td>12</td>\n",
       "      <td>73</td>\n",
       "      <td>98\\n</td>\n",
       "    </tr>\n",
       "    <tr>\n",
       "      <th>3</th>\n",
       "      <td>3</td>\n",
       "      <td>96</td>\n",
       "      <td>Note_on_c</td>\n",
       "      <td>12</td>\n",
       "      <td>80</td>\n",
       "      <td>98\\n</td>\n",
       "    </tr>\n",
       "    <tr>\n",
       "      <th>4</th>\n",
       "      <td>3</td>\n",
       "      <td>96</td>\n",
       "      <td>Note_on_c</td>\n",
       "      <td>12</td>\n",
       "      <td>76</td>\n",
       "      <td>98\\n</td>\n",
       "    </tr>\n",
       "  </tbody>\n",
       "</table>\n",
       "</div>"
      ],
      "text/plain": [
       "   0   1          2   3   4     5\n",
       "0  3   0  Note_on_c  12  80  98\\n\n",
       "1  3   0  Note_on_c  12  76  98\\n\n",
       "2  3   0  Note_on_c  12  73  98\\n\n",
       "3  3  96  Note_on_c  12  80  98\\n\n",
       "4  3  96  Note_on_c  12  76  98\\n"
      ]
     },
     "execution_count": 172,
     "metadata": {},
     "output_type": "execute_result"
    }
   ],
   "source": [
    "df_combined_instrument_ordered.head()"
   ]
  },
  {
   "cell_type": "code",
   "execution_count": 176,
   "metadata": {
    "ExecuteTime": {
     "end_time": "2019-09-05T15:00:04.238375Z",
     "start_time": "2019-09-05T15:00:04.203635Z"
    },
    "hidden": true
   },
   "outputs": [
    {
     "data": {
      "text/html": [
       "<div>\n",
       "<style scoped>\n",
       "    .dataframe tbody tr th:only-of-type {\n",
       "        vertical-align: middle;\n",
       "    }\n",
       "\n",
       "    .dataframe tbody tr th {\n",
       "        vertical-align: top;\n",
       "    }\n",
       "\n",
       "    .dataframe thead th {\n",
       "        text-align: right;\n",
       "    }\n",
       "</style>\n",
       "<table border=\"1\" class=\"dataframe\">\n",
       "  <thead>\n",
       "    <tr style=\"text-align: right;\">\n",
       "      <th></th>\n",
       "      <th>1</th>\n",
       "      <th>4</th>\n",
       "    </tr>\n",
       "  </thead>\n",
       "  <tbody>\n",
       "    <tr>\n",
       "      <th>0</th>\n",
       "      <td>0</td>\n",
       "      <td>73</td>\n",
       "    </tr>\n",
       "    <tr>\n",
       "      <th>1</th>\n",
       "      <td>0</td>\n",
       "      <td>76</td>\n",
       "    </tr>\n",
       "    <tr>\n",
       "      <th>2</th>\n",
       "      <td>0</td>\n",
       "      <td>80</td>\n",
       "    </tr>\n",
       "    <tr>\n",
       "      <th>3</th>\n",
       "      <td>96</td>\n",
       "      <td>73</td>\n",
       "    </tr>\n",
       "    <tr>\n",
       "      <th>4</th>\n",
       "      <td>96</td>\n",
       "      <td>76</td>\n",
       "    </tr>\n",
       "    <tr>\n",
       "      <th>5</th>\n",
       "      <td>96</td>\n",
       "      <td>80</td>\n",
       "    </tr>\n",
       "    <tr>\n",
       "      <th>6</th>\n",
       "      <td>192</td>\n",
       "      <td>73</td>\n",
       "    </tr>\n",
       "    <tr>\n",
       "      <th>7</th>\n",
       "      <td>192</td>\n",
       "      <td>76</td>\n",
       "    </tr>\n",
       "    <tr>\n",
       "      <th>8</th>\n",
       "      <td>192</td>\n",
       "      <td>80</td>\n",
       "    </tr>\n",
       "    <tr>\n",
       "      <th>9</th>\n",
       "      <td>216</td>\n",
       "      <td>76</td>\n",
       "    </tr>\n",
       "    <tr>\n",
       "      <th>10</th>\n",
       "      <td>240</td>\n",
       "      <td>73</td>\n",
       "    </tr>\n",
       "    <tr>\n",
       "      <th>11</th>\n",
       "      <td>240</td>\n",
       "      <td>76</td>\n",
       "    </tr>\n",
       "    <tr>\n",
       "      <th>12</th>\n",
       "      <td>240</td>\n",
       "      <td>80</td>\n",
       "    </tr>\n",
       "    <tr>\n",
       "      <th>13</th>\n",
       "      <td>264</td>\n",
       "      <td>76</td>\n",
       "    </tr>\n",
       "    <tr>\n",
       "      <th>14</th>\n",
       "      <td>288</td>\n",
       "      <td>76</td>\n",
       "    </tr>\n",
       "    <tr>\n",
       "      <th>15</th>\n",
       "      <td>312</td>\n",
       "      <td>76</td>\n",
       "    </tr>\n",
       "    <tr>\n",
       "      <th>16</th>\n",
       "      <td>336</td>\n",
       "      <td>68</td>\n",
       "    </tr>\n",
       "    <tr>\n",
       "      <th>17</th>\n",
       "      <td>336</td>\n",
       "      <td>71</td>\n",
       "    </tr>\n",
       "    <tr>\n",
       "      <th>18</th>\n",
       "      <td>336</td>\n",
       "      <td>73</td>\n",
       "    </tr>\n",
       "    <tr>\n",
       "      <th>19</th>\n",
       "      <td>336</td>\n",
       "      <td>75</td>\n",
       "    </tr>\n",
       "    <tr>\n",
       "      <th>20</th>\n",
       "      <td>336</td>\n",
       "      <td>76</td>\n",
       "    </tr>\n",
       "    <tr>\n",
       "      <th>21</th>\n",
       "      <td>336</td>\n",
       "      <td>80</td>\n",
       "    </tr>\n",
       "    <tr>\n",
       "      <th>22</th>\n",
       "      <td>360</td>\n",
       "      <td>75</td>\n",
       "    </tr>\n",
       "    <tr>\n",
       "      <th>23</th>\n",
       "      <td>432</td>\n",
       "      <td>68</td>\n",
       "    </tr>\n",
       "    <tr>\n",
       "      <th>24</th>\n",
       "      <td>432</td>\n",
       "      <td>71</td>\n",
       "    </tr>\n",
       "    <tr>\n",
       "      <th>25</th>\n",
       "      <td>432</td>\n",
       "      <td>75</td>\n",
       "    </tr>\n",
       "    <tr>\n",
       "      <th>26</th>\n",
       "      <td>456</td>\n",
       "      <td>75</td>\n",
       "    </tr>\n",
       "    <tr>\n",
       "      <th>27</th>\n",
       "      <td>528</td>\n",
       "      <td>68</td>\n",
       "    </tr>\n",
       "    <tr>\n",
       "      <th>28</th>\n",
       "      <td>528</td>\n",
       "      <td>71</td>\n",
       "    </tr>\n",
       "    <tr>\n",
       "      <th>29</th>\n",
       "      <td>528</td>\n",
       "      <td>75</td>\n",
       "    </tr>\n",
       "    <tr>\n",
       "      <th>...</th>\n",
       "      <td>...</td>\n",
       "      <td>...</td>\n",
       "    </tr>\n",
       "    <tr>\n",
       "      <th>283</th>\n",
       "      <td>5496</td>\n",
       "      <td>76</td>\n",
       "    </tr>\n",
       "    <tr>\n",
       "      <th>284</th>\n",
       "      <td>5568</td>\n",
       "      <td>69</td>\n",
       "    </tr>\n",
       "    <tr>\n",
       "      <th>285</th>\n",
       "      <td>5568</td>\n",
       "      <td>73</td>\n",
       "    </tr>\n",
       "    <tr>\n",
       "      <th>286</th>\n",
       "      <td>5568</td>\n",
       "      <td>76</td>\n",
       "    </tr>\n",
       "    <tr>\n",
       "      <th>287</th>\n",
       "      <td>5592</td>\n",
       "      <td>76</td>\n",
       "    </tr>\n",
       "    <tr>\n",
       "      <th>288</th>\n",
       "      <td>5616</td>\n",
       "      <td>69</td>\n",
       "    </tr>\n",
       "    <tr>\n",
       "      <th>289</th>\n",
       "      <td>5616</td>\n",
       "      <td>73</td>\n",
       "    </tr>\n",
       "    <tr>\n",
       "      <th>290</th>\n",
       "      <td>5616</td>\n",
       "      <td>76</td>\n",
       "    </tr>\n",
       "    <tr>\n",
       "      <th>291</th>\n",
       "      <td>5640</td>\n",
       "      <td>76</td>\n",
       "    </tr>\n",
       "    <tr>\n",
       "      <th>292</th>\n",
       "      <td>5664</td>\n",
       "      <td>76</td>\n",
       "    </tr>\n",
       "    <tr>\n",
       "      <th>293</th>\n",
       "      <td>5688</td>\n",
       "      <td>76</td>\n",
       "    </tr>\n",
       "    <tr>\n",
       "      <th>294</th>\n",
       "      <td>5712</td>\n",
       "      <td>64</td>\n",
       "    </tr>\n",
       "    <tr>\n",
       "      <th>295</th>\n",
       "      <td>5712</td>\n",
       "      <td>68</td>\n",
       "    </tr>\n",
       "    <tr>\n",
       "      <th>296</th>\n",
       "      <td>5712</td>\n",
       "      <td>69</td>\n",
       "    </tr>\n",
       "    <tr>\n",
       "      <th>297</th>\n",
       "      <td>5712</td>\n",
       "      <td>71</td>\n",
       "    </tr>\n",
       "    <tr>\n",
       "      <th>298</th>\n",
       "      <td>5712</td>\n",
       "      <td>73</td>\n",
       "    </tr>\n",
       "    <tr>\n",
       "      <th>299</th>\n",
       "      <td>5712</td>\n",
       "      <td>76</td>\n",
       "    </tr>\n",
       "    <tr>\n",
       "      <th>300</th>\n",
       "      <td>5808</td>\n",
       "      <td>64</td>\n",
       "    </tr>\n",
       "    <tr>\n",
       "      <th>301</th>\n",
       "      <td>5808</td>\n",
       "      <td>68</td>\n",
       "    </tr>\n",
       "    <tr>\n",
       "      <th>302</th>\n",
       "      <td>5808</td>\n",
       "      <td>71</td>\n",
       "    </tr>\n",
       "    <tr>\n",
       "      <th>303</th>\n",
       "      <td>5856</td>\n",
       "      <td>76</td>\n",
       "    </tr>\n",
       "    <tr>\n",
       "      <th>304</th>\n",
       "      <td>5904</td>\n",
       "      <td>64</td>\n",
       "    </tr>\n",
       "    <tr>\n",
       "      <th>305</th>\n",
       "      <td>5904</td>\n",
       "      <td>68</td>\n",
       "    </tr>\n",
       "    <tr>\n",
       "      <th>306</th>\n",
       "      <td>5904</td>\n",
       "      <td>71</td>\n",
       "    </tr>\n",
       "    <tr>\n",
       "      <th>307</th>\n",
       "      <td>5952</td>\n",
       "      <td>64</td>\n",
       "    </tr>\n",
       "    <tr>\n",
       "      <th>308</th>\n",
       "      <td>5952</td>\n",
       "      <td>68</td>\n",
       "    </tr>\n",
       "    <tr>\n",
       "      <th>309</th>\n",
       "      <td>5952</td>\n",
       "      <td>71</td>\n",
       "    </tr>\n",
       "    <tr>\n",
       "      <th>310</th>\n",
       "      <td>6000</td>\n",
       "      <td>64</td>\n",
       "    </tr>\n",
       "    <tr>\n",
       "      <th>311</th>\n",
       "      <td>6000</td>\n",
       "      <td>68</td>\n",
       "    </tr>\n",
       "    <tr>\n",
       "      <th>312</th>\n",
       "      <td>6000</td>\n",
       "      <td>71</td>\n",
       "    </tr>\n",
       "  </tbody>\n",
       "</table>\n",
       "<p>313 rows × 2 columns</p>\n",
       "</div>"
      ],
      "text/plain": [
       "        1   4\n",
       "0       0  73\n",
       "1       0  76\n",
       "2       0  80\n",
       "3      96  73\n",
       "4      96  76\n",
       "..    ...  ..\n",
       "308  5952  68\n",
       "309  5952  71\n",
       "310  6000  64\n",
       "311  6000  68\n",
       "312  6000  71\n",
       "\n",
       "[313 rows x 2 columns]"
      ]
     },
     "execution_count": 176,
     "metadata": {},
     "output_type": "execute_result"
    }
   ],
   "source": [
    "df_combined_instrument_ordered.groupby(by=[1,4],as_index=False).mean()[[1,4]]"
   ]
  },
  {
   "cell_type": "markdown",
   "metadata": {
    "heading_collapsed": true
   },
   "source": [
    "# Midi <-> Pianoroll"
   ]
  },
  {
   "cell_type": "code",
   "execution_count": 160,
   "metadata": {
    "ExecuteTime": {
     "end_time": "2019-09-07T22:31:46.136020Z",
     "start_time": "2019-09-07T22:31:34.729478Z"
    },
    "hidden": true,
    "scrolled": true
   },
   "outputs": [
    {
     "name": "stdout",
     "output_type": "stream",
     "text": [
      "Music file compiled.mid loaded!\n"
     ]
    },
    {
     "ename": "SystemExit",
     "evalue": "",
     "output_type": "error",
     "traceback": [
      "An exception has occurred, use %tb to see the full traceback.\n",
      "\u001b[0;31mSystemExit\u001b[0m\n"
     ]
    }
   ],
   "source": [
    "#!pip install pypianoroll\n",
    "import pypianoroll\n",
    "\n",
    "# Instrument names for look up\n",
    "melody_name = ['Bassmelody','Chords','Lead','MIDI Out','Pad','Piano','Saw Chords','Second Lead','Strings',\n",
    "'Voice','Voice Synth']\n",
    "bass_name = ['Basses','basses','Bass','bass']\n",
    "drum_name = ['Drums','drums','Drum','drum']\n",
    "\n",
    "# Merge all tracks and Combine all songs\n",
    "melody,bass,drum = [[0]*128],[[0]*128],[[0]*128]\n",
    "for ix,song in enumerate(df_edm['filenames'][:]): # Switch multiple songs\n",
    "#for ix,song in enumerate([df_edm['filenames'].iloc[18]]): # Play a single song\n",
    "    midi_loaded = pypianoroll.Multitrack('data/midi/'+song)\n",
    "    \n",
    "    melody_holder = np.zeros(midi_loaded.tracks[0].pianoroll.shape)\n",
    "    bass_holder   = np.zeros(midi_loaded.tracks[0].pianoroll.shape)\n",
    "    drum_holder   = np.zeros(midi_loaded.tracks[0].pianoroll.shape)\n",
    "\n",
    "    for jx,track in enumerate(midi_loaded.tracks):\n",
    "        if track.name in bass_name:\n",
    "            bass_holder+=track.pianoroll\n",
    "        elif track.name in drum_name:\n",
    "            drum_holder+=track.pianoroll    \n",
    "        else:\n",
    "            melody_holder+=track.pianoroll\n",
    "    melody = np.append(melody,melody_holder[:-120],axis=0)\n",
    "    bass = np.append(bass,bass_holder[:-120],axis=0)\n",
    "    drum = np.append(drum,drum_holder[:-120],axis=0)\n",
    "melody = melody[1:]\n",
    "bass = bass[1:]\n",
    "drum = drum[1:]\n",
    "\n",
    "# # pypianoroll's built-in merging tracks\n",
    "# midi_loaded = pypianoroll.Multitrack('data/midi/'+df_edm['filenames'][0])\n",
    "# midi_loaded.merge_tracks(track_indices=list(np.arange(len(midi_loaded.tracks))[:-2]), mode='sum', program=81, is_drum=False, name='merged', remove_merged=True)\n",
    "# # Save to midi file and play\n",
    "# pypianoroll.write(midi_loaded,'merge_tracks.mid')\n",
    "# play_music(\"merge_tracks.mid\")\n",
    "\n",
    "# Update blank midi file with compiled version\n",
    "blank_midi = pypianoroll.Multitrack('blank.mid')\n",
    "blank_midi.tempo = midi_loaded.tempo/midi_loaded.tempo*120\n",
    "blank_midi.tracks[0].pianoroll = melody\n",
    "blank_midi.tracks[1].pianoroll = bass\n",
    "blank_midi.tracks[2].pianoroll = drum\n",
    "\n",
    "# Save to midi file and play\n",
    "pypianoroll.write(blank_midi,'compiled.mid')\n",
    "play_music(\"compiled.mid\")"
   ]
  },
  {
   "cell_type": "markdown",
   "metadata": {},
   "source": [
    "# Midi <-> Pianoroll - Adjusted (Center Notes)"
   ]
  },
  {
   "cell_type": "code",
   "execution_count": 6,
   "metadata": {
    "ExecuteTime": {
     "end_time": "2019-09-07T23:37:01.646700Z",
     "start_time": "2019-09-07T23:36:19.277506Z"
    }
   },
   "outputs": [
    {
     "name": "stderr",
     "output_type": "stream",
     "text": [
      "100%|██████████| 28/28 [00:01<00:00,  9.24it/s]\n"
     ]
    },
    {
     "name": "stdout",
     "output_type": "stream",
     "text": [
      "Music file compiled_adj.mid loaded!\n"
     ]
    },
    {
     "ename": "SystemExit",
     "evalue": "",
     "output_type": "error",
     "traceback": [
      "An exception has occurred, use %tb to see the full traceback.\n",
      "\u001b[0;31mSystemExit\u001b[0m\n"
     ]
    }
   ],
   "source": [
    "#!pip install pypianoroll\n",
    "import pypianoroll\n",
    "\n",
    "# Instrument names for look up\n",
    "melody_name = ['Bassmelody','Chords','Lead','MIDI Out','Pad','Piano','Saw Chords','Second Lead','Strings',\n",
    "'Voice','Voice Synth']\n",
    "bass_name = ['Basses','basses','Bass','bass']\n",
    "drum_name = ['Drums','drums','Drum','drum']\n",
    "\n",
    "# Merge all tracks and Combine all songs\n",
    "#melody,bass,drum = [[0]*128],[[0]*128],[[0]*128]\n",
    "melody,bass,drum = [],[],[]\n",
    "\n",
    "for ix,song in enumerate(df_edm['filenames'][:]): # Switch multiple songs\n",
    "#for ix,song in enumerate([df_edm['filenames'].iloc[18]]): # Play a single song\n",
    "    midi_loaded = pypianoroll.Multitrack('data/midi/'+song)\n",
    "    \n",
    "    melody_holder = np.zeros(midi_loaded.tracks[0].pianoroll.shape)\n",
    "    bass_holder   = np.zeros(midi_loaded.tracks[0].pianoroll.shape)\n",
    "    drum_holder   = np.zeros(midi_loaded.tracks[0].pianoroll.shape)\n",
    "\n",
    "    for jx,track in enumerate(midi_loaded.tracks):\n",
    "        if track.name in bass_name:\n",
    "            bass_holder+=track.pianoroll\n",
    "        elif track.name in drum_name:\n",
    "            drum_holder+=track.pianoroll    \n",
    "        else:\n",
    "            melody_holder+=track.pianoroll\n",
    "    melody.append(melody_holder[:-120])\n",
    "    bass.append(bass_holder[:-120])\n",
    "    drum.append(drum_holder[:-120])\n",
    "\n",
    "# Let first song's mean note to be note to adjust other songs to. For melody and bass only.\n",
    "melody_keyss = []\n",
    "for seq in melody[0]:\n",
    "    melody_keyss += [ ix for (ix,x) in enumerate(seq) if x >= 10 ]\n",
    "mean_note = int(np.mean(melody_keyss))\n",
    "\n",
    "# Adjust rest of song's keys to be centered around first song's mean key. For melody and bass only.\n",
    "for ix,song in enumerate(melody):\n",
    "    melody_keyss = []\n",
    "    for seq in song:\n",
    "        melody_keyss += [ ix for (ix,x) in enumerate(seq) if x >= 10 ]\n",
    "    current_song_mean_note = int(np.mean(melody_keyss))   \n",
    "    melody[ix] = np.roll(melody[ix],mean_note-current_song_mean_note)\n",
    "    bass[ix] = np.roll(bass[ix],mean_note-current_song_mean_note)\n",
    "    \n",
    "# Concat all individual files\n",
    "melody_compiled,bass_compiled,drum_compiled = melody[0],bass[0],drum[0]\n",
    "for i in trange(1,len(melody)):\n",
    "    melody_compiled = np.concatenate((melody_compiled,melody[i]))\n",
    "    bass_compiled = np.concatenate((bass_compiled,bass[i]))\n",
    "    drum_compiled = np.concatenate((drum_compiled,drum[i]))\n",
    "\n",
    "# Update blank midi file with compiled version\n",
    "blank_midi = pypianoroll.Multitrack('blank.mid')\n",
    "blank_midi.tempo = midi_loaded.tempo/midi_loaded.tempo*120\n",
    "\n",
    "\n",
    "blank_midi.tracks[0].pianoroll = melody_compiled\n",
    "blank_midi.tracks[1].pianoroll = bass_compiled\n",
    "blank_midi.tracks[2].pianoroll = drum_compiled\n",
    "\n",
    "# Save to midi file and play\n",
    "pypianoroll.write(blank_midi,'compiled_adj.mid')\n",
    "play_music(\"compiled.mid\")"
   ]
  },
  {
   "cell_type": "markdown",
   "metadata": {},
   "source": [
    "# 12 Semitones"
   ]
  },
  {
   "cell_type": "code",
   "execution_count": 7,
   "metadata": {
    "ExecuteTime": {
     "end_time": "2019-09-07T23:37:21.114962Z",
     "start_time": "2019-09-07T23:37:02.763902Z"
    }
   },
   "outputs": [
    {
     "name": "stderr",
     "output_type": "stream",
     "text": [
      "100%|██████████| 12/12 [00:00<00:00, 21.86it/s]\n"
     ]
    },
    {
     "name": "stdout",
     "output_type": "stream",
     "text": [
      "Music file semitone_adj.mid loaded!\n"
     ]
    },
    {
     "ename": "SystemExit",
     "evalue": "",
     "output_type": "error",
     "traceback": [
      "An exception has occurred, use %tb to see the full traceback.\n",
      "\u001b[0;31mSystemExit\u001b[0m\n"
     ]
    }
   ],
   "source": [
    "# Create compiled midi's all 12 semitones. Then only take melody and save to semitone_adj.mid\n",
    "blank_midi = pypianoroll.Multitrack('compiled_adj.mid')\n",
    "blank_midi.tempo = midi_loaded.tempo/midi_loaded.tempo*120\n",
    "semitone = blank_midi.tracks[0].pianoroll\n",
    "semitone_compiled = blank_midi.tracks[0].pianoroll\n",
    "semitone_list = [-6,-5,-4,-3,-2,-1,1,2,3,4,5,6]\n",
    "for i in trange(len(semitone_list)):\n",
    "    semitone_compiled = np.concatenate((semitone_compiled,np.roll(semitone,semitone_list[i])))\n",
    "blank_midi.tracks[0].pianoroll = semitone_compiled\n",
    "blank_midi.tracks.pop(1)\n",
    "blank_midi.tracks.pop(1)\n",
    "pypianoroll.write(blank_midi,'semitone_adj.mid')\n",
    "#play_music(\"semitone.mid\")"
   ]
  },
  {
   "cell_type": "markdown",
   "metadata": {
    "heading_collapsed": true
   },
   "source": [
    "## Mapping for Char-RNN"
   ]
  },
  {
   "cell_type": "code",
   "execution_count": 5,
   "metadata": {
    "ExecuteTime": {
     "end_time": "2019-09-07T01:51:25.849496Z",
     "start_time": "2019-09-07T01:51:15.858406Z"
    },
    "hidden": true
   },
   "outputs": [],
   "source": [
    "# Find index of keys being played for each sequence so that it can be mapped\n",
    "melody_keys = []\n",
    "for seq in melody:\n",
    "    seq_keys = []\n",
    "    seq_keys = [ ix for (ix,x) in enumerate(seq) if x >= 10 ]\n",
    "    if len(seq_keys)==0:\n",
    "        seq_keys = [1] \n",
    "    melody_keys.append(seq_keys)    \n",
    "bass_keys = []\n",
    "for seq in bass:\n",
    "    seq_keys = []\n",
    "    seq_keys = [ ix for (ix,x) in enumerate(seq) if x >= 10 ]\n",
    "    if len(seq_keys)==0:\n",
    "        seq_keys = [1]\n",
    "    bass_keys.append(seq_keys)    \n",
    "drum_keys = []\n",
    "for seq in drum:\n",
    "    seq_keys = []\n",
    "    seq_keys = [ ix for (ix,x) in enumerate(seq) if x >= 10 ]\n",
    "    if len(seq_keys)==0:\n",
    "        seq_keys = [1]\n",
    "    drum_keys.append(seq_keys)\n",
    "    \n",
    "# Key to char and char to key mapping\n",
    "standard_ascii = [chr(i) for i in range(128)]\n",
    "key_to_char_list = standard_ascii[32:-1]\n",
    "key_to_char_list.remove('\\\\')\n",
    "key_to_char_dict = defaultdict()\n",
    "char_to_key_dict = defaultdict()\n",
    "for ix,char in enumerate(key_to_char_list):\n",
    "    key_to_char_dict[ix]=char\n",
    "    char_to_key_dict[char]=ix\n",
    "    \n",
    "# Convert keys to characters using mapping\n",
    "melody_chars = []\n",
    "for i,seq in enumerate(melody_keys):\n",
    "    holder = []\n",
    "    for j,key in enumerate(seq):\n",
    "        holder+=key_to_char_dict[key]\n",
    "    melody_chars.append(holder)"
   ]
  },
  {
   "cell_type": "code",
   "execution_count": 497,
   "metadata": {
    "ExecuteTime": {
     "end_time": "2019-09-06T17:38:42.353852Z",
     "start_time": "2019-09-06T17:38:42.345342Z"
    },
    "hidden": true
   },
   "outputs": [],
   "source": [
    "# # For Andrej Karpathy's Char-RNN\n",
    "\n",
    "# # Process one more time to be fed into char-RNN\n",
    "# melody_chars_combined = ''\n",
    "# for char in melody_chars:\n",
    "#     melody_chars_combined+=''.join(char)+' '  \n",
    "\n",
    "# # Save file to a txt file\n",
    "# file = open('/Users/matthewlee/Desktop/Metis/char-rnn/data/tinyshakespeare/input.txt','w') \n",
    "# #file = open('input.txt','w')  \n",
    "# file.write(melody_chars_combined) \n",
    "# file.close() \n",
    "\n",
    "# # Load txt file\n",
    "# file_object  = open('input.txt','r')"
   ]
  },
  {
   "cell_type": "code",
   "execution_count": 466,
   "metadata": {
    "ExecuteTime": {
     "end_time": "2019-09-06T15:08:10.464920Z",
     "start_time": "2019-09-06T15:08:00.455442Z"
    },
    "hidden": true,
    "scrolled": true
   },
   "outputs": [
    {
     "data": {
      "text/plain": [
       "[1,\n",
       " 28,\n",
       " 29,\n",
       " 30,\n",
       " 31,\n",
       " 32,\n",
       " 33,\n",
       " 34,\n",
       " 35,\n",
       " 36,\n",
       " 37,\n",
       " 38,\n",
       " 39,\n",
       " 40,\n",
       " 41,\n",
       " 42,\n",
       " 43,\n",
       " 44,\n",
       " 45,\n",
       " 46,\n",
       " 47,\n",
       " 48,\n",
       " 49,\n",
       " 50,\n",
       " 51,\n",
       " 52,\n",
       " 53,\n",
       " 54,\n",
       " 55,\n",
       " 56,\n",
       " 57,\n",
       " 58,\n",
       " 59,\n",
       " 60,\n",
       " 61,\n",
       " 62,\n",
       " 63,\n",
       " 64,\n",
       " 65,\n",
       " 66,\n",
       " 67,\n",
       " 68,\n",
       " 69,\n",
       " 70,\n",
       " 71,\n",
       " 72,\n",
       " 73,\n",
       " 74,\n",
       " 75,\n",
       " 76,\n",
       " 77,\n",
       " 78,\n",
       " 79,\n",
       " 80,\n",
       " 81,\n",
       " 82,\n",
       " 83,\n",
       " 84,\n",
       " 86,\n",
       " 87,\n",
       " 88,\n",
       " 89,\n",
       " 90]"
      ]
     },
     "execution_count": 466,
     "metadata": {},
     "output_type": "execute_result"
    }
   ],
   "source": [
    "# # Identify all keys present across melody & bass & drum. ***1 is empty sequence.\n",
    "# melody_keyss = []\n",
    "# for seq in melody:\n",
    "#     seq_keys = []\n",
    "#     seq_keys = [ ix for (ix,x) in enumerate(seq) if x >= 10 ]\n",
    "#     if len(seq_keys)==0:\n",
    "#         seq_keys = [1] \n",
    "#     melody_keyss+=seq_keys\n",
    "# bass_keyss = []\n",
    "# for seq in bass:\n",
    "#     seq_keys = []\n",
    "#     seq_keys = [ ix for (ix,x) in enumerate(seq) if x >= 10 ]\n",
    "#     if len(seq_keys)==0:\n",
    "#         seq_keys = [1]\n",
    "#     bass_keyss+=seq_keys\n",
    "    \n",
    "# drum_keyss = []\n",
    "# for seq in drum:\n",
    "#     seq_keys = []\n",
    "#     seq_keys = [ ix for (ix,x) in enumerate(seq) if x >= 10 ]\n",
    "#     if len(seq_keys)==0:\n",
    "#         seq_keys = [1]\n",
    "#     drum_keyss+=seq_keys\n",
    "# list(set(melody_keyss+bass_keyss+drum_keyss))"
   ]
  },
  {
   "cell_type": "markdown",
   "metadata": {},
   "source": [
    "# Follow Medium Article"
   ]
  },
  {
   "cell_type": "code",
   "execution_count": 230,
   "metadata": {
    "ExecuteTime": {
     "end_time": "2019-09-08T01:47:52.029181Z",
     "start_time": "2019-09-08T01:47:52.000373Z"
    }
   },
   "outputs": [],
   "source": [
    "# #!pip install music21\n",
    "from music21 import converter, instrument, note, chord,stream\n",
    "# notes = []\n",
    "# for file in glob.glob(\"semitone_adj.mid\"):\n",
    "#     midi = converter.parse(file)\n",
    "#     notes_to_parse = None\n",
    "#     parts = instrument.partitionByInstrument(midi)\n",
    "#     if parts: # file has instrument parts\n",
    "#         notes_to_parse = parts.parts[0].recurse()\n",
    "#     else: # file has notes in a flat structure\n",
    "#         notes_to_parse = midi.flat.notes\n",
    "#     for element in notes_to_parse:\n",
    "#         if isinstance(element, note.Note):\n",
    "#             notes.append(str(element.pitch))\n",
    "#         elif isinstance(element, chord.Chord):\n",
    "#             notes.append('.'.join(str(n) for n in element.normalOrder))\n",
    "# pickle.dump( notes, open( \"notes.pkl\", \"wb\" ) )\n",
    "notes = pickle.load( open( \"notes.pkl\", \"rb\" ) )"
   ]
  },
  {
   "cell_type": "markdown",
   "metadata": {
    "ExecuteTime": {
     "end_time": "2019-09-05T18:56:20.115868Z",
     "start_time": "2019-09-05T18:56:14.931150Z"
    }
   },
   "source": [
    "# Modeling"
   ]
  },
  {
   "cell_type": "markdown",
   "metadata": {
    "heading_collapsed": true
   },
   "source": [
    "## Train"
   ]
  },
  {
   "cell_type": "code",
   "execution_count": 41,
   "metadata": {
    "ExecuteTime": {
     "end_time": "2019-09-08T00:33:06.823409Z",
     "start_time": "2019-09-08T00:33:05.719558Z"
    },
    "hidden": true
   },
   "outputs": [
    {
     "name": "stderr",
     "output_type": "stream",
     "text": [
      "Using TensorFlow backend.\n"
     ]
    }
   ],
   "source": [
    "from keras.layers import LSTM,Dropout,Dense,TimeDistributed,Conv1D,MaxPooling1D,Flatten,GlobalAveragePooling1D,AveragePooling1D,GlobalMaxPooling1D,BatchNormalization,Activation,Bidirectional\n",
    "from keras.callbacks import EarlyStopping, ModelCheckpoint\n",
    "from keras.models import Sequential\n",
    "from keras.utils.np_utils import to_categorical"
   ]
  },
  {
   "cell_type": "code",
   "execution_count": 42,
   "metadata": {
    "ExecuteTime": {
     "end_time": "2019-09-08T00:33:15.478001Z",
     "start_time": "2019-09-08T00:33:14.611821Z"
    },
    "hidden": true
   },
   "outputs": [],
   "source": [
    "sequence_length = 70\n",
    "n_vocab = len(list(set(notes)))\n",
    "# get all pitch names\n",
    "pitchnames = sorted(set(item for item in notes))\n",
    "# create a dictionary to map pitches to integers\n",
    "note_to_int = dict((note, number) for number, note in enumerate(pitchnames))\n",
    "network_input = []\n",
    "network_output = []\n",
    "# create input sequences and the corresponding outputs\n",
    "for i in range(0, len(notes) - sequence_length, 1):\n",
    "    sequence_in = notes[i:i + sequence_length]\n",
    "    sequence_out = notes[i + sequence_length]\n",
    "    network_input.append([note_to_int[char] for char in sequence_in])\n",
    "    network_output.append(note_to_int[sequence_out])\n",
    "n_patterns = len(network_input)\n",
    "# reshape the input into a format compatible with LSTM layers\n",
    "network_input = np.reshape(network_input, (n_patterns, sequence_length, 1))\n",
    "# normalize input\n",
    "network_input = network_input / float(n_vocab)\n",
    "network_output = to_categorical(network_output)"
   ]
  },
  {
   "cell_type": "code",
   "execution_count": 43,
   "metadata": {
    "ExecuteTime": {
     "end_time": "2019-09-08T00:33:21.413611Z",
     "start_time": "2019-09-08T00:33:19.710886Z"
    },
    "hidden": true
   },
   "outputs": [
    {
     "name": "stdout",
     "output_type": "stream",
     "text": [
      "WARNING:tensorflow:From /Users/matthewlee/anaconda3/envs/nlp/lib/python3.6/site-packages/tensorflow/python/framework/op_def_library.py:263: colocate_with (from tensorflow.python.framework.ops) is deprecated and will be removed in a future version.\n",
      "Instructions for updating:\n",
      "Colocations handled automatically by placer.\n",
      "WARNING:tensorflow:From /Users/matthewlee/anaconda3/envs/nlp/lib/python3.6/site-packages/keras/backend/tensorflow_backend.py:3445: calling dropout (from tensorflow.python.ops.nn_ops) with keep_prob is deprecated and will be removed in a future version.\n",
      "Instructions for updating:\n",
      "Please use `rate` instead of `keep_prob`. Rate should be set to `rate = 1 - keep_prob`.\n"
     ]
    }
   ],
   "source": [
    "model = Sequential()\n",
    "model.add(LSTM(\n",
    "    256,\n",
    "    input_shape=(network_input.shape[1], network_input.shape[2]),\n",
    "    return_sequences=True\n",
    "))\n",
    "model.add(Dropout(0.3))\n",
    "model.add(LSTM(512, return_sequences=True))\n",
    "model.add(Dropout(0.3))\n",
    "model.add(LSTM(256))\n",
    "model.add(Dense(256))\n",
    "model.add(Dropout(0.3))\n",
    "model.add(Dense(n_vocab))\n",
    "model.add(Activation('softmax'))\n",
    "model.compile(loss='categorical_crossentropy', optimizer='rmsprop')"
   ]
  },
  {
   "cell_type": "code",
   "execution_count": 11,
   "metadata": {
    "ExecuteTime": {
     "end_time": "2019-09-07T01:54:06.935954Z",
     "start_time": "2019-09-07T01:53:23.455135Z"
    },
    "collapsed": true,
    "hidden": true
   },
   "outputs": [
    {
     "name": "stdout",
     "output_type": "stream",
     "text": [
      "WARNING:tensorflow:From /Users/matthewlee/anaconda3/envs/nlp/lib/python3.6/site-packages/tensorflow/python/ops/math_ops.py:3066: to_int32 (from tensorflow.python.ops.math_ops) is deprecated and will be removed in a future version.\n",
      "Instructions for updating:\n",
      "Use tf.cast instead.\n",
      "Epoch 1/200\n",
      " 576/6591 [=>............................] - ETA: 6:17 - loss: 4.7789"
     ]
    },
    {
     "ename": "KeyboardInterrupt",
     "evalue": "",
     "output_type": "error",
     "traceback": [
      "\u001b[0;31m--------------------------------------------------------------\u001b[0m",
      "\u001b[0;31mKeyboardInterrupt\u001b[0m            Traceback (most recent call last)",
      "\u001b[0;32m<ipython-input-11-cb4af0ccd2d6>\u001b[0m in \u001b[0;36m<module>\u001b[0;34m\u001b[0m\n\u001b[1;32m      7\u001b[0m )    \n\u001b[1;32m      8\u001b[0m \u001b[0mcallbacks_list\u001b[0m \u001b[0;34m=\u001b[0m \u001b[0;34m[\u001b[0m\u001b[0mcheckpoint\u001b[0m\u001b[0;34m]\u001b[0m\u001b[0;34m\u001b[0m\u001b[0;34m\u001b[0m\u001b[0m\n\u001b[0;32m----> 9\u001b[0;31m \u001b[0mmodel\u001b[0m\u001b[0;34m.\u001b[0m\u001b[0mfit\u001b[0m\u001b[0;34m(\u001b[0m\u001b[0mnetwork_input\u001b[0m\u001b[0;34m,\u001b[0m \u001b[0mnetwork_output\u001b[0m\u001b[0;34m,\u001b[0m \u001b[0mepochs\u001b[0m\u001b[0;34m=\u001b[0m\u001b[0;36m200\u001b[0m\u001b[0;34m,\u001b[0m \u001b[0mbatch_size\u001b[0m\u001b[0;34m=\u001b[0m\u001b[0;36m64\u001b[0m\u001b[0;34m,\u001b[0m \u001b[0mcallbacks\u001b[0m\u001b[0;34m=\u001b[0m\u001b[0mcallbacks_list\u001b[0m\u001b[0;34m)\u001b[0m\u001b[0;34m\u001b[0m\u001b[0;34m\u001b[0m\u001b[0m\n\u001b[0m",
      "\u001b[0;32m~/anaconda3/envs/nlp/lib/python3.6/site-packages/keras/engine/training.py\u001b[0m in \u001b[0;36mfit\u001b[0;34m(self, x, y, batch_size, epochs, verbose, callbacks, validation_split, validation_data, shuffle, class_weight, sample_weight, initial_epoch, steps_per_epoch, validation_steps, **kwargs)\u001b[0m\n\u001b[1;32m   1037\u001b[0m                                         \u001b[0minitial_epoch\u001b[0m\u001b[0;34m=\u001b[0m\u001b[0minitial_epoch\u001b[0m\u001b[0;34m,\u001b[0m\u001b[0;34m\u001b[0m\u001b[0;34m\u001b[0m\u001b[0m\n\u001b[1;32m   1038\u001b[0m                                         \u001b[0msteps_per_epoch\u001b[0m\u001b[0;34m=\u001b[0m\u001b[0msteps_per_epoch\u001b[0m\u001b[0;34m,\u001b[0m\u001b[0;34m\u001b[0m\u001b[0;34m\u001b[0m\u001b[0m\n\u001b[0;32m-> 1039\u001b[0;31m                                         validation_steps=validation_steps)\n\u001b[0m\u001b[1;32m   1040\u001b[0m \u001b[0;34m\u001b[0m\u001b[0m\n\u001b[1;32m   1041\u001b[0m     def evaluate(self, x=None, y=None,\n",
      "\u001b[0;32m~/anaconda3/envs/nlp/lib/python3.6/site-packages/keras/engine/training_arrays.py\u001b[0m in \u001b[0;36mfit_loop\u001b[0;34m(model, f, ins, out_labels, batch_size, epochs, verbose, callbacks, val_f, val_ins, shuffle, callback_metrics, initial_epoch, steps_per_epoch, validation_steps)\u001b[0m\n\u001b[1;32m    197\u001b[0m                     \u001b[0mins_batch\u001b[0m\u001b[0;34m[\u001b[0m\u001b[0mi\u001b[0m\u001b[0;34m]\u001b[0m \u001b[0;34m=\u001b[0m \u001b[0mins_batch\u001b[0m\u001b[0;34m[\u001b[0m\u001b[0mi\u001b[0m\u001b[0;34m]\u001b[0m\u001b[0;34m.\u001b[0m\u001b[0mtoarray\u001b[0m\u001b[0;34m(\u001b[0m\u001b[0;34m)\u001b[0m\u001b[0;34m\u001b[0m\u001b[0;34m\u001b[0m\u001b[0m\n\u001b[1;32m    198\u001b[0m \u001b[0;34m\u001b[0m\u001b[0m\n\u001b[0;32m--> 199\u001b[0;31m                 \u001b[0mouts\u001b[0m \u001b[0;34m=\u001b[0m \u001b[0mf\u001b[0m\u001b[0;34m(\u001b[0m\u001b[0mins_batch\u001b[0m\u001b[0;34m)\u001b[0m\u001b[0;34m\u001b[0m\u001b[0;34m\u001b[0m\u001b[0m\n\u001b[0m\u001b[1;32m    200\u001b[0m                 \u001b[0mouts\u001b[0m \u001b[0;34m=\u001b[0m \u001b[0mto_list\u001b[0m\u001b[0;34m(\u001b[0m\u001b[0mouts\u001b[0m\u001b[0;34m)\u001b[0m\u001b[0;34m\u001b[0m\u001b[0;34m\u001b[0m\u001b[0m\n\u001b[1;32m    201\u001b[0m                 \u001b[0;32mfor\u001b[0m \u001b[0ml\u001b[0m\u001b[0;34m,\u001b[0m \u001b[0mo\u001b[0m \u001b[0;32min\u001b[0m \u001b[0mzip\u001b[0m\u001b[0;34m(\u001b[0m\u001b[0mout_labels\u001b[0m\u001b[0;34m,\u001b[0m \u001b[0mouts\u001b[0m\u001b[0;34m)\u001b[0m\u001b[0;34m:\u001b[0m\u001b[0;34m\u001b[0m\u001b[0;34m\u001b[0m\u001b[0m\n",
      "\u001b[0;32m~/anaconda3/envs/nlp/lib/python3.6/site-packages/keras/backend/tensorflow_backend.py\u001b[0m in \u001b[0;36m__call__\u001b[0;34m(self, inputs)\u001b[0m\n\u001b[1;32m   2713\u001b[0m                 \u001b[0;32mreturn\u001b[0m \u001b[0mself\u001b[0m\u001b[0;34m.\u001b[0m\u001b[0m_legacy_call\u001b[0m\u001b[0;34m(\u001b[0m\u001b[0minputs\u001b[0m\u001b[0;34m)\u001b[0m\u001b[0;34m\u001b[0m\u001b[0;34m\u001b[0m\u001b[0m\n\u001b[1;32m   2714\u001b[0m \u001b[0;34m\u001b[0m\u001b[0m\n\u001b[0;32m-> 2715\u001b[0;31m             \u001b[0;32mreturn\u001b[0m \u001b[0mself\u001b[0m\u001b[0;34m.\u001b[0m\u001b[0m_call\u001b[0m\u001b[0;34m(\u001b[0m\u001b[0minputs\u001b[0m\u001b[0;34m)\u001b[0m\u001b[0;34m\u001b[0m\u001b[0;34m\u001b[0m\u001b[0m\n\u001b[0m\u001b[1;32m   2716\u001b[0m         \u001b[0;32melse\u001b[0m\u001b[0;34m:\u001b[0m\u001b[0;34m\u001b[0m\u001b[0;34m\u001b[0m\u001b[0m\n\u001b[1;32m   2717\u001b[0m             \u001b[0;32mif\u001b[0m \u001b[0mpy_any\u001b[0m\u001b[0;34m(\u001b[0m\u001b[0mis_tensor\u001b[0m\u001b[0;34m(\u001b[0m\u001b[0mx\u001b[0m\u001b[0;34m)\u001b[0m \u001b[0;32mfor\u001b[0m \u001b[0mx\u001b[0m \u001b[0;32min\u001b[0m \u001b[0minputs\u001b[0m\u001b[0;34m)\u001b[0m\u001b[0;34m:\u001b[0m\u001b[0;34m\u001b[0m\u001b[0;34m\u001b[0m\u001b[0m\n",
      "\u001b[0;32m~/anaconda3/envs/nlp/lib/python3.6/site-packages/keras/backend/tensorflow_backend.py\u001b[0m in \u001b[0;36m_call\u001b[0;34m(self, inputs)\u001b[0m\n\u001b[1;32m   2673\u001b[0m             \u001b[0mfetched\u001b[0m \u001b[0;34m=\u001b[0m \u001b[0mself\u001b[0m\u001b[0;34m.\u001b[0m\u001b[0m_callable_fn\u001b[0m\u001b[0;34m(\u001b[0m\u001b[0;34m*\u001b[0m\u001b[0marray_vals\u001b[0m\u001b[0;34m,\u001b[0m \u001b[0mrun_metadata\u001b[0m\u001b[0;34m=\u001b[0m\u001b[0mself\u001b[0m\u001b[0;34m.\u001b[0m\u001b[0mrun_metadata\u001b[0m\u001b[0;34m)\u001b[0m\u001b[0;34m\u001b[0m\u001b[0;34m\u001b[0m\u001b[0m\n\u001b[1;32m   2674\u001b[0m         \u001b[0;32melse\u001b[0m\u001b[0;34m:\u001b[0m\u001b[0;34m\u001b[0m\u001b[0;34m\u001b[0m\u001b[0m\n\u001b[0;32m-> 2675\u001b[0;31m             \u001b[0mfetched\u001b[0m \u001b[0;34m=\u001b[0m \u001b[0mself\u001b[0m\u001b[0;34m.\u001b[0m\u001b[0m_callable_fn\u001b[0m\u001b[0;34m(\u001b[0m\u001b[0;34m*\u001b[0m\u001b[0marray_vals\u001b[0m\u001b[0;34m)\u001b[0m\u001b[0;34m\u001b[0m\u001b[0;34m\u001b[0m\u001b[0m\n\u001b[0m\u001b[1;32m   2676\u001b[0m         \u001b[0;32mreturn\u001b[0m \u001b[0mfetched\u001b[0m\u001b[0;34m[\u001b[0m\u001b[0;34m:\u001b[0m\u001b[0mlen\u001b[0m\u001b[0;34m(\u001b[0m\u001b[0mself\u001b[0m\u001b[0;34m.\u001b[0m\u001b[0moutputs\u001b[0m\u001b[0;34m)\u001b[0m\u001b[0;34m]\u001b[0m\u001b[0;34m\u001b[0m\u001b[0;34m\u001b[0m\u001b[0m\n\u001b[1;32m   2677\u001b[0m \u001b[0;34m\u001b[0m\u001b[0m\n",
      "\u001b[0;32m~/anaconda3/envs/nlp/lib/python3.6/site-packages/tensorflow/python/client/session.py\u001b[0m in \u001b[0;36m__call__\u001b[0;34m(self, *args, **kwargs)\u001b[0m\n\u001b[1;32m   1437\u001b[0m           ret = tf_session.TF_SessionRunCallable(\n\u001b[1;32m   1438\u001b[0m               \u001b[0mself\u001b[0m\u001b[0;34m.\u001b[0m\u001b[0m_session\u001b[0m\u001b[0;34m.\u001b[0m\u001b[0m_session\u001b[0m\u001b[0;34m,\u001b[0m \u001b[0mself\u001b[0m\u001b[0;34m.\u001b[0m\u001b[0m_handle\u001b[0m\u001b[0;34m,\u001b[0m \u001b[0margs\u001b[0m\u001b[0;34m,\u001b[0m \u001b[0mstatus\u001b[0m\u001b[0;34m,\u001b[0m\u001b[0;34m\u001b[0m\u001b[0;34m\u001b[0m\u001b[0m\n\u001b[0;32m-> 1439\u001b[0;31m               run_metadata_ptr)\n\u001b[0m\u001b[1;32m   1440\u001b[0m         \u001b[0;32mif\u001b[0m \u001b[0mrun_metadata\u001b[0m\u001b[0;34m:\u001b[0m\u001b[0;34m\u001b[0m\u001b[0;34m\u001b[0m\u001b[0m\n\u001b[1;32m   1441\u001b[0m           \u001b[0mproto_data\u001b[0m \u001b[0;34m=\u001b[0m \u001b[0mtf_session\u001b[0m\u001b[0;34m.\u001b[0m\u001b[0mTF_GetBuffer\u001b[0m\u001b[0;34m(\u001b[0m\u001b[0mrun_metadata_ptr\u001b[0m\u001b[0;34m)\u001b[0m\u001b[0;34m\u001b[0m\u001b[0;34m\u001b[0m\u001b[0m\n",
      "\u001b[0;31mKeyboardInterrupt\u001b[0m: "
     ]
    }
   ],
   "source": [
    "filepath = \"weights-improvement-{epoch:02d}-{loss:.4f}-bigger.hdf5\"    \n",
    "checkpoint = ModelCheckpoint(\n",
    "    filepath, monitor='loss', \n",
    "    verbose=0,        \n",
    "    save_best_only=True,        \n",
    "    mode='min'\n",
    ")    \n",
    "callbacks_list = [checkpoint]     \n",
    "model.fit(network_input, network_output, epochs=200, batch_size=64, callbacks=callbacks_list)"
   ]
  },
  {
   "cell_type": "markdown",
   "metadata": {},
   "source": [
    "## Load Weight and Generate Melody"
   ]
  },
  {
   "cell_type": "code",
   "execution_count": 235,
   "metadata": {
    "ExecuteTime": {
     "end_time": "2019-09-08T03:37:27.470808Z",
     "start_time": "2019-09-08T03:36:34.893845Z"
    }
   },
   "outputs": [
    {
     "name": "stderr",
     "output_type": "stream",
     "text": [
      "  0%|          | 1/500 [00:00<01:06,  7.52it/s]"
     ]
    },
    {
     "name": "stdout",
     "output_type": "stream",
     "text": [
      "35666\n"
     ]
    },
    {
     "name": "stderr",
     "output_type": "stream",
     "text": [
      "100%|██████████| 500/500 [00:52<00:00,  7.99it/s]\n"
     ]
    }
   ],
   "source": [
    "# Load the weights\n",
    "model.load_weights('weights-improvement-66-0.4656-bigger.hdf5')\n",
    "\n",
    "# Don't always choose the most likely prediction\n",
    "def sample(preds, temperature=0.9):\n",
    "    preds = np.asarray(preds).astype('float64')\n",
    "    preds = np.log(preds) / temperature\n",
    "    exp_preds = np.exp(preds)\n",
    "    preds = exp_preds / np.sum(exp_preds)\n",
    "    probas = np.random.multinomial(1, preds, 1)\n",
    "    return np.argmax(probas)\n",
    "\n",
    "# Generate new song\n",
    "start = np.random.randint(0, len(network_input)-1)\n",
    "print(start)\n",
    "int_to_note = dict((number, note) for number, note in enumerate(pitchnames))\n",
    "pattern = list(network_input[start])\n",
    "prediction_output = []\n",
    "# generate 300 notes\n",
    "for note_index in trange(500):\n",
    "    prediction_input = np.reshape(pattern, (1, len(pattern), 1))\n",
    "    prediction_input = prediction_input / float(n_vocab)\n",
    "    prediction = model.predict(prediction_input, verbose=0)\n",
    "    #index = np.argmax(prediction)\n",
    "    index = sample(prediction[0])\n",
    "    result = int_to_note[index]\n",
    "    prediction_output.append(result)\n",
    "    pattern.append(index)\n",
    "    pattern = pattern[1:len(pattern)]"
   ]
  },
  {
   "cell_type": "code",
   "execution_count": 236,
   "metadata": {
    "ExecuteTime": {
     "end_time": "2019-09-08T03:37:27.565586Z",
     "start_time": "2019-09-08T03:37:27.474405Z"
    }
   },
   "outputs": [],
   "source": [
    "offset = 0\n",
    "output_notes = []\n",
    "# create note and chord objects based on the values generated by the model\n",
    "for pattern in prediction_output:\n",
    "    # pattern is a chord\n",
    "    if ('.' in pattern) or pattern.isdigit():\n",
    "        notes_in_chord = pattern.split('.')\n",
    "        notes = []\n",
    "        for current_note in notes_in_chord:\n",
    "            new_note = note.Note(int(current_note))\n",
    "            new_note.storedInstrument = instrument.Piano()\n",
    "            notes.append(new_note)\n",
    "        new_chord = chord.Chord(notes)\n",
    "        new_chord.offset = offset\n",
    "        output_notes.append(new_chord)\n",
    "    # pattern is a note\n",
    "    else:\n",
    "        new_note = note.Note(pattern)\n",
    "        new_note.offset = offset\n",
    "        new_note.storedInstrument = instrument.Piano()\n",
    "        output_notes.append(new_note)\n",
    "    # increase offset each iteration so that notes do not stack\n",
    "    offset += 0.4"
   ]
  },
  {
   "cell_type": "code",
   "execution_count": 237,
   "metadata": {
    "ExecuteTime": {
     "end_time": "2019-09-08T03:39:08.963583Z",
     "start_time": "2019-09-08T03:37:27.569202Z"
    }
   },
   "outputs": [
    {
     "name": "stdout",
     "output_type": "stream",
     "text": [
      "Music file test_output.mid loaded!\n"
     ]
    }
   ],
   "source": [
    "# Play the song\n",
    "midi_stream = stream.Stream(output_notes)\n",
    "midi_stream.write('midi', fp='test_output.mid')\n",
    "play_music('test_output.mid')"
   ]
  },
  {
   "cell_type": "code",
   "execution_count": 31,
   "metadata": {
    "ExecuteTime": {
     "end_time": "2019-09-07T04:16:16.140931Z",
     "start_time": "2019-09-07T04:04:35.872878Z"
    }
   },
   "outputs": [
    {
     "name": "stdout",
     "output_type": "stream",
     "text": [
      "Music file compiled.mid loaded!\n"
     ]
    },
    {
     "ename": "SystemExit",
     "evalue": "",
     "output_type": "error",
     "traceback": [
      "An exception has occurred, use %tb to see the full traceback.\n",
      "\u001b[0;31mSystemExit\u001b[0m\n"
     ]
    }
   ],
   "source": [
    "play_music('compiled.mid')"
   ]
  },
  {
   "cell_type": "markdown",
   "metadata": {
    "heading_collapsed": true
   },
   "source": [
    "# Pitch Tracking"
   ]
  },
  {
   "cell_type": "code",
   "execution_count": 85,
   "metadata": {
    "ExecuteTime": {
     "end_time": "2019-09-08T01:12:15.026296Z",
     "start_time": "2019-09-08T01:12:15.014318Z"
    },
    "hidden": true
   },
   "outputs": [
    {
     "data": {
      "text/plain": [
       "22050.0"
      ]
     },
     "execution_count": 85,
     "metadata": {},
     "output_type": "execute_result"
    }
   ],
   "source": [
    "44100/2"
   ]
  },
  {
   "cell_type": "code",
   "execution_count": 93,
   "metadata": {
    "ExecuteTime": {
     "end_time": "2019-09-08T01:14:25.181472Z",
     "start_time": "2019-09-08T01:14:25.170517Z"
    },
    "hidden": true
   },
   "outputs": [
    {
     "data": {
      "text/plain": [
       "11025.0"
      ]
     },
     "execution_count": 93,
     "metadata": {},
     "output_type": "execute_result"
    }
   ],
   "source": [
    "22050/2"
   ]
  },
  {
   "cell_type": "code",
   "execution_count": 216,
   "metadata": {
    "ExecuteTime": {
     "end_time": "2019-09-08T01:38:27.745018Z",
     "start_time": "2019-09-08T01:38:24.495896Z"
    },
    "hidden": true
   },
   "outputs": [
    {
     "name": "stdout",
     "output_type": "stream",
     "text": [
      "Recording\n",
      "Finished recording\n"
     ]
    }
   ],
   "source": [
    "# Record Audio\n",
    "\n",
    "#!conda install -c anaconda pyaudio --yes\n",
    "import pyaudio\n",
    "import wave\n",
    "\n",
    "chunk = 1024  # Record in chunks of 1024 samples\n",
    "sample_format = pyaudio.paInt16  # 16 bits per sample\n",
    "channels = 1\n",
    "fs =  22050  # Record at 44100 samples per second\n",
    "seconds = 3\n",
    "filename = \"output.wav\"\n",
    "\n",
    "p = pyaudio.PyAudio()  # Create an interface to PortAudio\n",
    "\n",
    "print('Recording')\n",
    "\n",
    "stream = p.open(format=sample_format,\n",
    "                channels=channels,\n",
    "                rate=fs,\n",
    "                frames_per_buffer=chunk,\n",
    "                input=True)\n",
    "\n",
    "frames = []  # Initialize array to store frames\n",
    "\n",
    "# Store data in chunks for 3 seconds\n",
    "for i in range(0, int(fs / chunk * seconds)):\n",
    "    data = stream.read(chunk)\n",
    "    frames.append(data)\n",
    "\n",
    "# Stop and close the stream \n",
    "stream.stop_stream()\n",
    "stream.close()\n",
    "# Terminate the PortAudio interface\n",
    "p.terminate()\n",
    "\n",
    "print('Finished recording')\n",
    "\n",
    "# Save the recorded data as a WAV file\n",
    "wf = wave.open(filename, 'wb')\n",
    "wf.setnchannels(channels)\n",
    "wf.setsampwidth(p.get_sample_size(sample_format))\n",
    "wf.setframerate(fs)\n",
    "wf.writeframes(b''.join(frames))\n",
    "wf.close()"
   ]
  },
  {
   "cell_type": "code",
   "execution_count": 217,
   "metadata": {
    "ExecuteTime": {
     "end_time": "2019-09-08T01:38:33.345513Z",
     "start_time": "2019-09-08T01:38:30.046817Z"
    },
    "hidden": true,
    "scrolled": true
   },
   "outputs": [],
   "source": [
    "# Play Audio\n",
    "\n",
    "#!conda install -c conda-forge pydub --yes\n",
    "from pydub import AudioSegment\n",
    "from pydub.playback import play\n",
    "\n",
    "song = AudioSegment.from_wav(\"output.wav\")\n",
    "play(song)"
   ]
  },
  {
   "cell_type": "code",
   "execution_count": 224,
   "metadata": {
    "ExecuteTime": {
     "end_time": "2019-09-08T01:41:11.227694Z",
     "start_time": "2019-09-08T01:40:55.653522Z"
    },
    "hidden": true
   },
   "outputs": [
    {
     "name": "stdout",
     "output_type": "stream",
     "text": [
      "Converting: ./output.wav\n",
      "|================================================================================| 100.00%\n",
      "Music file output.wav.mid loaded!\n"
     ]
    }
   ],
   "source": [
    "!audio-to-midi ./output.wav --time-window 400 --activation-level 0.7 --single-note --condense\n",
    "play_music('output.wav.mid')"
   ]
  },
  {
   "cell_type": "markdown",
   "metadata": {
    "heading_collapsed": true
   },
   "source": [
    "# Download Youtube"
   ]
  },
  {
   "cell_type": "code",
   "execution_count": null,
   "metadata": {
    "hidden": true
   },
   "outputs": [],
   "source": []
  },
  {
   "cell_type": "code",
   "execution_count": 156,
   "metadata": {
    "ExecuteTime": {
     "end_time": "2019-08-30T17:41:51.417652Z",
     "start_time": "2019-08-30T17:41:51.273102Z"
    },
    "hidden": true
   },
   "outputs": [],
   "source": [
    "# Use below command in the terminal to download youtube file as wav file.\n",
    "#!python YouTube_to_WAV.py https://www.youtube.com/watch?v=xgs-laNZ0SE&t=218s"
   ]
  },
  {
   "cell_type": "code",
   "execution_count": null,
   "metadata": {
    "hidden": true
   },
   "outputs": [],
   "source": []
  },
  {
   "cell_type": "markdown",
   "metadata": {
    "heading_collapsed": true
   },
   "source": [
    "# Midi -> Wav (Doesn't work atm)"
   ]
  },
  {
   "cell_type": "code",
   "execution_count": 17,
   "metadata": {
    "ExecuteTime": {
     "end_time": "2019-09-03T03:35:13.703312Z",
     "start_time": "2019-09-03T03:35:13.698913Z"
    },
    "hidden": true
   },
   "outputs": [],
   "source": [
    "# #!pip install midi2audio --y\n",
    "from midi2audio import FluidSynth\n",
    "\n",
    "# using the default sound font in 44100 Hz sample rate\n",
    "fs = FluidSynth()\n",
    "fs.midi_to_audio('Alan Walker - Alone  (midi by Carlo Prato) (www.cprato.com) copy.mid','output.wav')\n",
    "# for ix,filename in enumerate(filenames):\n",
    "#     fs.midi_to_audio('data/midi/'+filename, 'data/wav/'+df_edm['filenames_clean'][ix][:-4]+'.wav')\n"
   ]
  },
  {
   "cell_type": "markdown",
   "metadata": {
    "heading_collapsed": true
   },
   "source": [
    "# Play ABC Notation"
   ]
  },
  {
   "cell_type": "code",
   "execution_count": 62,
   "metadata": {
    "ExecuteTime": {
     "end_time": "2019-09-08T01:08:46.487005Z",
     "start_time": "2019-09-08T01:08:45.989928Z"
    },
    "hidden": true
   },
   "outputs": [
    {
     "name": "stdout",
     "output_type": "stream",
     "text": [
      "Piano key frequencies (for equal temperament):\n",
      "Key number\tScientific name\tFrequency (Hz)\n",
      "         1\t             A0\t         27.50\n",
      "         2\t            A#0\t         29.14\n",
      "         3\t             B0\t         30.87\n",
      "         4\t             C1\t         32.70\n",
      "         5\t            C#1\t         34.65\n",
      "         6\t             D1\t         36.71\n",
      "         7\t            D#1\t         38.89\n",
      "         8\t             E1\t         41.20\n",
      "         9\t             F1\t         43.65\n",
      "        10\t            F#1\t         46.25\n",
      "        11\t             G1\t         49.00\n",
      "        12\t            G#1\t         51.91\n",
      "        13\t             A1\t         55.00\n",
      "        14\t            A#1\t         58.27\n",
      "        15\t             B1\t         61.74\n",
      "        16\t             C2\t         65.41\n",
      "        17\t            C#2\t         69.30\n",
      "        18\t             D2\t         73.42\n",
      "        19\t            D#2\t         77.78\n",
      "        20\t             E2\t         82.41\n",
      "        21\t             F2\t         87.31\n",
      "        22\t            F#2\t         92.50\n",
      "        23\t             G2\t         98.00\n",
      "        24\t            G#2\t        103.83\n",
      "        25\t             A2\t        110.00\n",
      "        26\t            A#2\t        116.54\n",
      "        27\t             B2\t        123.47\n",
      "        28\t             C3\t        130.81\n",
      "        29\t            C#3\t        138.59\n",
      "        30\t             D3\t        146.83\n",
      "        31\t            D#3\t        155.56\n",
      "        32\t             E3\t        164.81\n",
      "        33\t             F3\t        174.61\n",
      "        34\t            F#3\t        185.00\n",
      "        35\t             G3\t        196.00\n",
      "        36\t            G#3\t        207.65\n",
      "        37\t             A3\t        220.00\n",
      "        38\t            A#3\t        233.08\n",
      "        39\t             B3\t        246.94\n",
      "        40\t             C4\t        261.63\n",
      "        41\t            C#4\t        277.18\n",
      "        42\t             D4\t        293.66\n",
      "        43\t            D#4\t        311.13\n",
      "        44\t             E4\t        329.63\n",
      "        45\t             F4\t        349.23\n",
      "        46\t            F#4\t        369.99\n",
      "        47\t             G4\t        392.00\n",
      "        48\t            G#4\t        415.30\n",
      "        49\t             A4\t        440.00\n",
      "        50\t            A#4\t        466.16\n",
      "        51\t             B4\t        493.88\n",
      "        52\t             C5\t        523.25\n",
      "        53\t            C#5\t        554.37\n",
      "        54\t             D5\t        587.33\n",
      "        55\t            D#5\t        622.25\n",
      "        56\t             E5\t        659.26\n",
      "        57\t             F5\t        698.46\n",
      "        58\t            F#5\t        739.99\n",
      "        59\t             G5\t        783.99\n",
      "        60\t            G#5\t        830.61\n",
      "        61\t             A5\t        880.00\n",
      "        62\t            A#5\t        932.33\n",
      "        63\t             B5\t        987.77\n",
      "        64\t             C6\t       1046.50\n",
      "        65\t            C#6\t       1108.73\n",
      "        66\t             D6\t       1174.66\n",
      "        67\t            D#6\t       1244.51\n",
      "        68\t             E6\t       1318.51\n",
      "        69\t             F6\t       1396.91\n",
      "        70\t            F#6\t       1479.98\n",
      "        71\t             G6\t       1567.98\n",
      "        72\t            G#6\t       1661.22\n",
      "        73\t             A6\t       1760.00\n",
      "        74\t            A#6\t       1864.66\n",
      "        75\t             B6\t       1975.53\n",
      "        76\t             C7\t       2093.00\n",
      "        77\t            C#7\t       2217.46\n",
      "        78\t             D7\t       2349.32\n",
      "        79\t            D#7\t       2489.02\n",
      "        80\t             E7\t       2637.02\n",
      "        81\t             F7\t       2793.83\n",
      "        82\t            F#7\t       2959.96\n",
      "        83\t             G7\t       3135.96\n",
      "        84\t            G#7\t       3322.44\n",
      "        85\t             A7\t       3520.00\n",
      "        86\t            A#7\t       3729.31\n",
      "        87\t             B7\t       3951.07\n",
      "        88\t             C8\t       4186.01\n",
      "Writing to file test.wav\n",
      "[1/10]\t\n",
      "[5/10]\t\n",
      "[9/10]\t\n",
      "\n"
     ]
    },
    {
     "data": {
      "text/html": [
       "\n",
       "                <audio  controls=\"controls\" >\n",
       "                    <source src=\"data:audio/x-wav;base64,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\" type=\"audio/x-wav\" />\n",
       "                    Your browser does not support the audio element.\n",
       "                </audio>\n",
       "              "
      ],
      "text/plain": [
       "<IPython.lib.display.Audio object>"
      ]
     },
     "execution_count": 62,
     "metadata": {},
     "output_type": "execute_result"
    }
   ],
   "source": [
    "# ABC Notation Player\n",
    "import pysynth as ps\n",
    "\n",
    "# Make test ABC file\n",
    "test = (\n",
    "  ('g#', 4),  ('g#', 4), ('g5', 4),\n",
    "  ('g5*', 4), ('r', 4), ('e5', 16),\n",
    "  ('f5', 16),  ('e5', 16),  ('d5', 16),\n",
    "  ('e5*', 4) \n",
    ")\n",
    "ps.make_wav(test, fn = \"test.wav\")\n",
    "\n",
    "#Play wav file\n",
    "ipd.Audio('test.wav') # load a local WAV file"
   ]
  },
  {
   "cell_type": "code",
   "execution_count": null,
   "metadata": {
    "hidden": true
   },
   "outputs": [],
   "source": []
  }
 ],
 "metadata": {
  "kernelspec": {
   "display_name": "Python 3",
   "language": "python",
   "name": "python3"
  },
  "language_info": {
   "codemirror_mode": {
    "name": "ipython",
    "version": 3
   },
   "file_extension": ".py",
   "mimetype": "text/x-python",
   "name": "python",
   "nbconvert_exporter": "python",
   "pygments_lexer": "ipython3",
   "version": "3.6.9"
  },
  "toc": {
   "base_numbering": 1,
   "nav_menu": {},
   "number_sections": true,
   "sideBar": true,
   "skip_h1_title": false,
   "title_cell": "Table of Contents",
   "title_sidebar": "Contents",
   "toc_cell": false,
   "toc_position": {},
   "toc_section_display": true,
   "toc_window_display": false
  }
 },
 "nbformat": 4,
 "nbformat_minor": 2
}
